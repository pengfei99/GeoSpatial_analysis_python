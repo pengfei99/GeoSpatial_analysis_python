{
 "cells": [
  {
   "cell_type": "code",
   "execution_count": 2,
   "metadata": {
    "tags": []
   },
   "outputs": [],
   "source": [
    "import folium\n",
    "from folium import Marker, GeoJson\n",
    "from folium.plugins import HeatMap\n",
    "\n",
    "import pandas as pd\n",
    "import geopandas as gpd\n",
    "from pyspark.sql import SparkSession\n",
    "import os\n",
    "from pyspark.sql.functions import col\n",
    "from sedona.register import SedonaRegistrator\n",
    "from sedona.utils import SedonaKryoRegistrator, KryoSerializer\n"
   ]
  },
  {
   "cell_type": "markdown",
   "metadata": {
    "pycharm": {
     "name": "#%% md\n"
    }
   },
   "source": [
    "# AIS Introduction\n",
    "\n",
    "**AIS (Automatic Identification System)** technology provides an effective means of tracking ships. The technology is based on Very High Frequency (VHF) broadcasting and carriage of AIS is mandatory for the majority of Safety of Life at Sea (SOLAS) ships greater than `300 gross tonnes`. A proportion of other vessels, e.g., fishing and leisure craft, carry it voluntarily due to its usefulness.\n",
    "\n",
    "\n",
    "metadata\n",
    "\n",
    "Two types of data, `static` and `dynamic`, are kept in the AIS device:\n",
    "\n",
    "**Static Information** :\n",
    "\n",
    "- The ship's IMO number\n",
    "- The ship's MMSI number\n",
    "- The ship's Call Sign\n",
    "- The ship's name\n",
    "- The ship's type\n",
    "- What type of destination this message was received from (like Class A / Class B)\n",
    "- Width of ship\n",
    "- Length of ship\n",
    "- Draft of ship\n",
    "- Type of GPS device\n",
    "- Length from GPS to bow (Length A)\n",
    "- Length from GPS to stern (Size B)\n",
    "- Length from GPS to starboard (Size C)\n",
    "- Length from GPS to port side (Dimension D)\n",
    "\n",
    "\n",
    "**Dynamic Data** :\n",
    "\n",
    "- Time information (31/12/2015 in 23:59:59 format)\n",
    "- Latitude\n",
    "- Longitude\n",
    "- Navigational status (For example: 'Fishing', Anchored, etc.)\n",
    "- Rate of Turn (ROT)\n",
    "- Speed Over Ground (SOG)\n",
    "- Course Over Ground (COG)\n",
    "- Heading\n",
    "- Type of cargo\n",
    "- Port of Destination\n",
    "- Estimated Time of Arrival (ETA)\n",
    "- Data source type, eg. AIS"
   ]
  },
  {
   "cell_type": "code",
   "execution_count": null,
   "metadata": {
    "collapsed": false,
    "jupyter": {
     "outputs_hidden": false
    },
    "pycharm": {
     "name": "#%%\n"
    }
   },
   "outputs": [],
   "source": []
  },
  {
   "cell_type": "code",
   "execution_count": null,
   "metadata": {
    "collapsed": false,
    "jupyter": {
     "outputs_hidden": false
    },
    "pycharm": {
     "name": "#%%\n"
    }
   },
   "outputs": [],
   "source": []
  },
  {
   "cell_type": "code",
   "execution_count": 3,
   "metadata": {},
   "outputs": [
    {
     "name": "stdout",
     "output_type": "stream",
     "text": [
      ":: loading settings :: url = jar:file:/opt/spark/jars/ivy-2.5.0.jar!/org/apache/ivy/core/settings/ivysettings.xml\n"
     ]
    },
    {
     "name": "stderr",
     "output_type": "stream",
     "text": [
      "Ivy Default Cache set to: /home/onyxia/.ivy2/cache\n",
      "The jars for the packages stored in: /home/onyxia/.ivy2/jars\n",
      "org.apache.sedona#sedona-python-adapter-3.0_2.12 added as a dependency\n",
      "org.datasyslab#geotools-wrapper added as a dependency\n",
      ":: resolving dependencies :: org.apache.spark#spark-submit-parent-56f33d71-3499-4c11-9177-2d837f8cbc75;1.0\n",
      "\tconfs: [default]\n",
      "\tfound org.apache.sedona#sedona-python-adapter-3.0_2.12;1.2.1-incubating in central\n",
      "\tfound org.locationtech.jts#jts-core;1.18.2 in central\n",
      "\tfound org.wololo#jts2geojson;0.16.1 in central\n",
      "\tfound org.apache.sedona#sedona-core-3.0_2.12;1.2.1-incubating in central\n",
      "\tfound org.scala-lang.modules#scala-collection-compat_2.12;2.5.0 in central\n",
      "\tfound org.apache.sedona#sedona-sql-3.0_2.12;1.2.1-incubating in central\n",
      "\tfound org.datasyslab#geotools-wrapper;1.1.0-25.2 in central\n",
      "downloading https://repo1.maven.org/maven2/org/apache/sedona/sedona-python-adapter-3.0_2.12/1.2.1-incubating/sedona-python-adapter-3.0_2.12-1.2.1-incubating.jar ...\n",
      "\t[SUCCESSFUL ] org.apache.sedona#sedona-python-adapter-3.0_2.12;1.2.1-incubating!sedona-python-adapter-3.0_2.12.jar (467ms)\n",
      "downloading https://repo1.maven.org/maven2/org/datasyslab/geotools-wrapper/1.1.0-25.2/geotools-wrapper-1.1.0-25.2.jar ...\n",
      "\t[SUCCESSFUL ] org.datasyslab#geotools-wrapper;1.1.0-25.2!geotools-wrapper.jar (1652ms)\n",
      "downloading https://repo1.maven.org/maven2/org/locationtech/jts/jts-core/1.18.2/jts-core-1.18.2.jar ...\n",
      "\t[SUCCESSFUL ] org.locationtech.jts#jts-core;1.18.2!jts-core.jar(bundle) (72ms)\n",
      "downloading https://repo1.maven.org/maven2/org/wololo/jts2geojson/0.16.1/jts2geojson-0.16.1.jar ...\n",
      "\t[SUCCESSFUL ] org.wololo#jts2geojson;0.16.1!jts2geojson.jar (48ms)\n",
      "downloading https://repo1.maven.org/maven2/org/apache/sedona/sedona-core-3.0_2.12/1.2.1-incubating/sedona-core-3.0_2.12-1.2.1-incubating.jar ...\n",
      "\t[SUCCESSFUL ] org.apache.sedona#sedona-core-3.0_2.12;1.2.1-incubating!sedona-core-3.0_2.12.jar (47ms)\n",
      "downloading https://repo1.maven.org/maven2/org/apache/sedona/sedona-sql-3.0_2.12/1.2.1-incubating/sedona-sql-3.0_2.12-1.2.1-incubating.jar ...\n",
      "\t[SUCCESSFUL ] org.apache.sedona#sedona-sql-3.0_2.12;1.2.1-incubating!sedona-sql-3.0_2.12.jar (75ms)\n",
      "downloading https://repo1.maven.org/maven2/org/scala-lang/modules/scala-collection-compat_2.12/2.5.0/scala-collection-compat_2.12-2.5.0.jar ...\n",
      "\t[SUCCESSFUL ] org.scala-lang.modules#scala-collection-compat_2.12;2.5.0!scala-collection-compat_2.12.jar (35ms)\n",
      ":: resolution report :: resolve 4268ms :: artifacts dl 2413ms\n",
      "\t:: modules in use:\n",
      "\torg.apache.sedona#sedona-core-3.0_2.12;1.2.1-incubating from central in [default]\n",
      "\torg.apache.sedona#sedona-python-adapter-3.0_2.12;1.2.1-incubating from central in [default]\n",
      "\torg.apache.sedona#sedona-sql-3.0_2.12;1.2.1-incubating from central in [default]\n",
      "\torg.datasyslab#geotools-wrapper;1.1.0-25.2 from central in [default]\n",
      "\torg.locationtech.jts#jts-core;1.18.2 from central in [default]\n",
      "\torg.scala-lang.modules#scala-collection-compat_2.12;2.5.0 from central in [default]\n",
      "\torg.wololo#jts2geojson;0.16.1 from central in [default]\n",
      "\t---------------------------------------------------------------------\n",
      "\t|                  |            modules            ||   artifacts   |\n",
      "\t|       conf       | number| search|dwnlded|evicted|| number|dwnlded|\n",
      "\t---------------------------------------------------------------------\n",
      "\t|      default     |   7   |   7   |   7   |   0   ||   7   |   7   |\n",
      "\t---------------------------------------------------------------------\n",
      ":: retrieving :: org.apache.spark#spark-submit-parent-56f33d71-3499-4c11-9177-2d837f8cbc75\n",
      "\tconfs: [default]\n",
      "\t7 artifacts copied, 0 already retrieved (34535kB/66ms)\n",
      "2022-11-07 10:34:34,986 WARN util.NativeCodeLoader: Unable to load native-hadoop library for your platform... using builtin-java classes where applicable\n"
     ]
    }
   ],
   "source": [
    "local=False\n",
    "if local:\n",
    "    spark=SparkSession.builder.master(\"local[4]\") \\\n",
    "                  .appName(\"spark_ais_eda\")\\\n",
    "                  .getOrCreate()\n",
    "                  # .config(\"spark.serializer\", KryoSerializer.getName) \\\n",
    "                  # .config(\"spark.kryo.registrator\", SedonaKryoRegistrator.getName) \\\n",
    "                  # .config('spark.jars.packages',\n",
    "                  #             'org.apache.sedona:sedona-python-adapter-3.0_2.12:1.2.1-incubating,'\n",
    "                  #             'org.datasyslab:geotools-wrapper:1.1.0-25.2') \\\n",
    "                  # .enableHiveSupport() \\\n",
    "\n",
    "else:\n",
    "    spark=SparkSession.builder \\\n",
    "                      .master(\"k8s://https://kubernetes.default.svc:443\") \\\n",
    "                      .appName(\"spark_ais_eda\") \\\n",
    "                      .config(\"spark.kubernetes.container.image\",os.environ[\"IMAGE_NAME\"]) \\\n",
    "                      .config(\"spark.kubernetes.authenticate.driver.serviceAccountName\",os.environ['KUBERNETES_SERVICE_ACCOUNT']) \\\n",
    "                      .config(\"spark.kubernetes.namespace\", os.environ['KUBERNETES_NAMESPACE']) \\\n",
    "                      .config(\"spark.executor.instances\", \"4\") \\\n",
    "                      .config(\"spark.executor.memory\",\"8g\") \\\n",
    "                      .config(\"spark.driver.memory\",\"16g\") \\\n",
    "                      .config(\"spark.network.timeout\",\"1000s\") \\\n",
    "                      .config(\"spark.driver.maxResultsize\",\"5g\") \\\n",
    "                      .config(\"spark.serializer\", \"org.apache.spark.serializer.KryoSerializer\") \\\n",
    "                      .config(\"spark.kryo.registrator\", \"org.apache.sedona.core.serde.SedonaKryoRegistrator\") \\\n",
    "                      .config('spark.jars.packages',\n",
    "                              'org.apache.sedona:sedona-python-adapter-3.0_2.12:1.2.1-incubating,'\n",
    "                              'org.datasyslab:geotools-wrapper:1.1.0-25.2') \\\n",
    "                      .enableHiveSupport() \\\n",
    "                      .getOrCreate()"
   ]
  },
  {
   "cell_type": "markdown",
   "metadata": {},
   "source": []
  },
  {
   "cell_type": "markdown",
   "metadata": {},
   "source": [
    "# Sedona with pyspark\n",
    "\n",
    "https://sedona.apache.org/setup/install-python/\n",
    "\n",
    "- **spark.driver.memory**: tells Spark to allocate enough memory for the driver program because Sedona needs to build global grid files (global index) on the driver program. If you have a large amount of data (normally, over 100 GB), set this parameter to 2~5 GB will be good. Otherwise, you may observe \"out of memory\" error.\n",
    "\n",
    "- **spark.network.timeout**: is the default timeout for all network interactions. Sometimes, spatial join query takes longer time to shuffle data. This will ensure Spark has enough patience to wait for the result.\n",
    "\n",
    "- **spark.driver.maxResultSize**: is the limit of total size of serialized results of all partitions for each Spark action. Sometimes, the result size of spatial queries is large. The \"Collect\" operation may throw errors."
   ]
  },
  {
   "cell_type": "code",
   "execution_count": 4,
   "metadata": {
    "collapsed": false,
    "jupyter": {
     "outputs_hidden": false
    },
    "pycharm": {
     "name": "#%%\n"
    }
   },
   "outputs": [],
   "source": [
    "if local:\n",
    "    root_path=\"../data\"\n",
    "else:\n",
    "    root_path=\"s3a://pengfei/kaggle/geo_spatial/L07\"\n",
    "    \n",
    "ais_path=f\"{root_path}/AIS_2022_01_01.csv\""
   ]
  },
  {
   "cell_type": "code",
   "execution_count": 5,
   "metadata": {},
   "outputs": [
    {
     "name": "stderr",
     "output_type": "stream",
     "text": [
      "                                                                                \r"
     ]
    },
    {
     "data": {
      "text/plain": [
       "True"
      ]
     },
     "execution_count": 5,
     "metadata": {},
     "output_type": "execute_result"
    }
   ],
   "source": [
    "# register spark session to sedona\n",
    "SedonaRegistrator.registerAll(spark)"
   ]
  },
  {
   "cell_type": "markdown",
   "metadata": {},
   "source": [
    "# Use geopandas to explorer AIS\n",
    "\n",
    "With only 1 file of 700 MO, Geopandas requires more than 16GO memory to load the data. And it take long time to do that. So Geopandas can't handle big data. We need to find an alternative"
   ]
  },
  {
   "cell_type": "code",
   "execution_count": null,
   "metadata": {
    "collapsed": false,
    "jupyter": {
     "outputs_hidden": false
    },
    "pycharm": {
     "name": "#%%\n"
    }
   },
   "outputs": [],
   "source": [
    "ais=gpd.read_file(ais_path)"
   ]
  },
  {
   "cell_type": "code",
   "execution_count": 4,
   "metadata": {
    "collapsed": false,
    "jupyter": {
     "outputs_hidden": false
    },
    "pycharm": {
     "name": "#%%\n"
    }
   },
   "outputs": [
    {
     "data": {
      "text/html": [
       "<div>\n",
       "<style scoped>\n",
       "    .dataframe tbody tr th:only-of-type {\n",
       "        vertical-align: middle;\n",
       "    }\n",
       "\n",
       "    .dataframe tbody tr th {\n",
       "        vertical-align: top;\n",
       "    }\n",
       "\n",
       "    .dataframe thead th {\n",
       "        text-align: right;\n",
       "    }\n",
       "</style>\n",
       "<table border=\"1\" class=\"dataframe\">\n",
       "  <thead>\n",
       "    <tr style=\"text-align: right;\">\n",
       "      <th></th>\n",
       "      <th>MMSI</th>\n",
       "      <th>BaseDateTime</th>\n",
       "      <th>LAT</th>\n",
       "      <th>LON</th>\n",
       "      <th>SOG</th>\n",
       "      <th>COG</th>\n",
       "      <th>Heading</th>\n",
       "      <th>VesselName</th>\n",
       "      <th>IMO</th>\n",
       "      <th>CallSign</th>\n",
       "      <th>VesselType</th>\n",
       "      <th>Status</th>\n",
       "      <th>Length</th>\n",
       "      <th>Width</th>\n",
       "      <th>Draft</th>\n",
       "      <th>Cargo</th>\n",
       "      <th>TransceiverClass</th>\n",
       "      <th>geometry</th>\n",
       "    </tr>\n",
       "  </thead>\n",
       "  <tbody>\n",
       "    <tr>\n",
       "      <th>0</th>\n",
       "      <td>368084090</td>\n",
       "      <td>2022-01-01T00:00:00</td>\n",
       "      <td>29.93174</td>\n",
       "      <td>-89.99243</td>\n",
       "      <td>6.0</td>\n",
       "      <td>296.2</td>\n",
       "      <td>299.0</td>\n",
       "      <td>LARRY B WHIPPLE</td>\n",
       "      <td></td>\n",
       "      <td>WDK7401</td>\n",
       "      <td>57</td>\n",
       "      <td>12</td>\n",
       "      <td>23</td>\n",
       "      <td>10</td>\n",
       "      <td>3.0</td>\n",
       "      <td>57</td>\n",
       "      <td>A</td>\n",
       "      <td>None</td>\n",
       "    </tr>\n",
       "    <tr>\n",
       "      <th>1</th>\n",
       "      <td>368140160</td>\n",
       "      <td>2022-01-01T00:00:00</td>\n",
       "      <td>30.33475</td>\n",
       "      <td>-87.14429</td>\n",
       "      <td>0.0</td>\n",
       "      <td>312.0</td>\n",
       "      <td>87.0</td>\n",
       "      <td>TWISTED ANGEL</td>\n",
       "      <td>IMO0000000</td>\n",
       "      <td>WDL5339</td>\n",
       "      <td>36</td>\n",
       "      <td></td>\n",
       "      <td>12</td>\n",
       "      <td>7</td>\n",
       "      <td></td>\n",
       "      <td></td>\n",
       "      <td>B</td>\n",
       "      <td>None</td>\n",
       "    </tr>\n",
       "    <tr>\n",
       "      <th>2</th>\n",
       "      <td>366941830</td>\n",
       "      <td>2022-01-01T00:00:02</td>\n",
       "      <td>29.30919</td>\n",
       "      <td>-94.79702</td>\n",
       "      <td>0.0</td>\n",
       "      <td>180.2</td>\n",
       "      <td>511.0</td>\n",
       "      <td>SAN PATRICIO</td>\n",
       "      <td></td>\n",
       "      <td>WCX6675</td>\n",
       "      <td>31</td>\n",
       "      <td>5</td>\n",
       "      <td>18</td>\n",
       "      <td>7</td>\n",
       "      <td></td>\n",
       "      <td>57</td>\n",
       "      <td>A</td>\n",
       "      <td>None</td>\n",
       "    </tr>\n",
       "    <tr>\n",
       "      <th>3</th>\n",
       "      <td>316005971</td>\n",
       "      <td>2022-01-01T00:00:06</td>\n",
       "      <td>46.50268</td>\n",
       "      <td>-84.35674</td>\n",
       "      <td>2.4</td>\n",
       "      <td>258.6</td>\n",
       "      <td>257.0</td>\n",
       "      <td>BEVERLY M I</td>\n",
       "      <td>IMO9084047</td>\n",
       "      <td>CFP2004</td>\n",
       "      <td>31</td>\n",
       "      <td>0</td>\n",
       "      <td>34</td>\n",
       "      <td>10</td>\n",
       "      <td>5.3</td>\n",
       "      <td>99</td>\n",
       "      <td>A</td>\n",
       "      <td>None</td>\n",
       "    </tr>\n",
       "    <tr>\n",
       "      <th>4</th>\n",
       "      <td>316004054</td>\n",
       "      <td>2022-01-01T00:00:07</td>\n",
       "      <td>46.50326</td>\n",
       "      <td>-84.37506</td>\n",
       "      <td>0.3</td>\n",
       "      <td>61.9</td>\n",
       "      <td>511.0</td>\n",
       "      <td>ADANAC III</td>\n",
       "      <td>IMO8745333</td>\n",
       "      <td>VCLT</td>\n",
       "      <td>31</td>\n",
       "      <td>0</td>\n",
       "      <td>24</td>\n",
       "      <td>5</td>\n",
       "      <td>3.0</td>\n",
       "      <td>50</td>\n",
       "      <td>A</td>\n",
       "      <td>None</td>\n",
       "    </tr>\n",
       "  </tbody>\n",
       "</table>\n",
       "</div>"
      ],
      "text/plain": [
       "        MMSI         BaseDateTime       LAT        LON  SOG    COG Heading  \\\n",
       "0  368084090  2022-01-01T00:00:00  29.93174  -89.99243  6.0  296.2   299.0   \n",
       "1  368140160  2022-01-01T00:00:00  30.33475  -87.14429  0.0  312.0    87.0   \n",
       "2  366941830  2022-01-01T00:00:02  29.30919  -94.79702  0.0  180.2   511.0   \n",
       "3  316005971  2022-01-01T00:00:06  46.50268  -84.35674  2.4  258.6   257.0   \n",
       "4  316004054  2022-01-01T00:00:07  46.50326  -84.37506  0.3   61.9   511.0   \n",
       "\n",
       "        VesselName         IMO CallSign VesselType Status Length Width Draft  \\\n",
       "0  LARRY B WHIPPLE              WDK7401         57     12     23    10   3.0   \n",
       "1    TWISTED ANGEL  IMO0000000  WDL5339         36            12     7         \n",
       "2     SAN PATRICIO              WCX6675         31      5     18     7         \n",
       "3      BEVERLY M I  IMO9084047  CFP2004         31      0     34    10   5.3   \n",
       "4       ADANAC III  IMO8745333     VCLT         31      0     24     5   3.0   \n",
       "\n",
       "  Cargo TransceiverClass geometry  \n",
       "0    57                A     None  \n",
       "1                      B     None  \n",
       "2    57                A     None  \n",
       "3    99                A     None  \n",
       "4    50                A     None  "
      ]
     },
     "execution_count": 4,
     "metadata": {},
     "output_type": "execute_result"
    }
   ],
   "source": [
    "ais.head()"
   ]
  },
  {
   "cell_type": "code",
   "execution_count": 5,
   "metadata": {
    "collapsed": false,
    "jupyter": {
     "outputs_hidden": false
    },
    "pycharm": {
     "name": "#%%\n"
    }
   },
   "outputs": [
    {
     "data": {
      "text/plain": [
       "(7239758, 18)"
      ]
     },
     "execution_count": 5,
     "metadata": {},
     "output_type": "execute_result"
    }
   ],
   "source": [
    "ais.shape"
   ]
  },
  {
   "cell_type": "code",
   "execution_count": null,
   "metadata": {},
   "outputs": [],
   "source": [
    "m_1 = folium.Map(location=[29.93, -89.99], tiles='cartodbpositron',zoom_start=11)\n",
    "\n",
    "# Your code here: Visualize the collision data\n",
    "for idx,row in ais.head(5).iterrows():\n",
    "    Marker([row['LAT'], row['LON']]).add_to(m_1)\n",
    "\n",
    "# Show the map\n",
    "m_1"
   ]
  },
  {
   "cell_type": "markdown",
   "metadata": {},
   "source": [
    "# Use sedona to explorer AIS\n",
    "\n",
    "1. Read raw csv file\n",
    "2. Build geometry column(e.g. point, polygon, lines, etc.)\n",
    "3. Convert to geo pandas dataframe"
   ]
  },
  {
   "cell_type": "code",
   "execution_count": 7,
   "metadata": {},
   "outputs": [
    {
     "name": "stderr",
     "output_type": "stream",
     "text": [
      "                                                                                \r"
     ]
    }
   ],
   "source": [
    "ships=spark.read.option(\"delimiter\",\",\").option(\"header\",\"true\").csv(ais_path)"
   ]
  },
  {
   "cell_type": "code",
   "execution_count": 8,
   "metadata": {},
   "outputs": [
    {
     "name": "stdout",
     "output_type": "stream",
     "text": [
      "+---------+-------------------+--------+---------+---+-----+-------+---------------+----------+--------+----------+------+------+-----+-----+-----+----------------+\n",
      "|     MMSI|       BaseDateTime|     LAT|      LON|SOG|  COG|Heading|     VesselName|       IMO|CallSign|VesselType|Status|Length|Width|Draft|Cargo|TransceiverClass|\n",
      "+---------+-------------------+--------+---------+---+-----+-------+---------------+----------+--------+----------+------+------+-----+-----+-----+----------------+\n",
      "|368084090|2022-01-01T00:00:00|29.93174|-89.99243|6.0|296.2|  299.0|LARRY B WHIPPLE|      null| WDK7401|        57|    12|    23|   10|  3.0|   57|               A|\n",
      "|368140160|2022-01-01T00:00:00|30.33475|-87.14429|0.0|312.0|   87.0|  TWISTED ANGEL|IMO0000000| WDL5339|        36|  null|    12|    7| null| null|               B|\n",
      "|366941830|2022-01-01T00:00:02|29.30919|-94.79702|0.0|180.2|  511.0|   SAN PATRICIO|      null| WCX6675|        31|     5|    18|    7| null|   57|               A|\n",
      "|316005971|2022-01-01T00:00:06|46.50268|-84.35674|2.4|258.6|  257.0|    BEVERLY M I|IMO9084047| CFP2004|        31|     0|    34|   10|  5.3|   99|               A|\n",
      "|316004054|2022-01-01T00:00:07|46.50326|-84.37506|0.3| 61.9|  511.0|     ADANAC III|IMO8745333|    VCLT|        31|     0|    24|    5|  3.0|   50|               A|\n",
      "+---------+-------------------+--------+---------+---+-----+-------+---------------+----------+--------+----------+------+------+-----+-----+-----+----------------+\n",
      "only showing top 5 rows\n",
      "\n"
     ]
    }
   ],
   "source": [
    "ships.show(5)"
   ]
  },
  {
   "cell_type": "code",
   "execution_count": 9,
   "metadata": {
    "collapsed": false,
    "jupyter": {
     "outputs_hidden": false
    },
    "pycharm": {
     "name": "#%%\n"
    }
   },
   "outputs": [
    {
     "name": "stdout",
     "output_type": "stream",
     "text": [
      "root\n",
      " |-- MMSI: string (nullable = true)\n",
      " |-- BaseDateTime: string (nullable = true)\n",
      " |-- LAT: string (nullable = true)\n",
      " |-- LON: string (nullable = true)\n",
      " |-- SOG: string (nullable = true)\n",
      " |-- COG: string (nullable = true)\n",
      " |-- Heading: string (nullable = true)\n",
      " |-- VesselName: string (nullable = true)\n",
      " |-- IMO: string (nullable = true)\n",
      " |-- CallSign: string (nullable = true)\n",
      " |-- VesselType: string (nullable = true)\n",
      " |-- Status: string (nullable = true)\n",
      " |-- Length: string (nullable = true)\n",
      " |-- Width: string (nullable = true)\n",
      " |-- Draft: string (nullable = true)\n",
      " |-- Cargo: string (nullable = true)\n",
      " |-- TransceiverClass: string (nullable = true)\n",
      "\n"
     ]
    }
   ],
   "source": [
    "ships.printSchema()"
   ]
  },
  {
   "cell_type": "markdown",
   "metadata": {
    "pycharm": {
     "name": "#%% md\n"
    }
   },
   "source": [
    "The data set contains below column\n",
    "MMSI: a unique identification number for each vessel station (the vessel’s flag can also be deducted from it) (e.g. 368084090)\n",
    "BaseDateTime: ship local time (2022-01-01T00:00:00)\n",
    "LAT: current gps coordinates (e.g. 29.93174)\n",
    "LON: current gps coordinates (e.g. -89.99243)\n",
    "SOG: speed of ground\n",
    "COG: course of ground (0 to 359 degrees)\n",
    "Heading: fore side (heading and cog are not same because of the wind, current. But they are close to each other)\n",
    "VesselName:  (e.g. LARRY B WHIPPLE)\n",
    "IMO: \n",
    "CallSign: ship id in a radio conversation (e.g. WDK7401 )\n",
    "VesselType: ship type in code (e.g. 57)\n",
    "Status: ship status in code (e.g. 12)\n",
    "Length: length in meter (23)\n",
    "Width: width in meter (e.g. 10)\n",
    "Draft: string (e.g. 3.0)\n",
    "Cargo: number of cargo on board (e.g. 57)\n",
    "TransceiverClass:  (e.g. A)\n"
   ]
  },
  {
   "cell_type": "code",
   "execution_count": null,
   "metadata": {},
   "outputs": [],
   "source": [
    "latitude=\"LAT\"\n",
    "longitude=\"LON\"\n",
    "geo_ships=ships.withColumn(\"geometry\",stc.ST_Point(col(latitude),col(longitude)))\n"
   ]
  },
  {
   "cell_type": "code",
   "execution_count": null,
   "metadata": {},
   "outputs": [],
   "source": []
  },
  {
   "cell_type": "code",
   "execution_count": null,
   "metadata": {},
   "outputs": [],
   "source": []
  },
  {
   "cell_type": "code",
   "execution_count": null,
   "metadata": {},
   "outputs": [],
   "source": []
  }
 ],
 "metadata": {
  "kernelspec": {
   "display_name": "Python 3 (ipykernel)",
   "language": "python",
   "name": "python3"
  },
  "language_info": {
   "codemirror_mode": {
    "name": "ipython",
    "version": 3
   },
   "file_extension": ".py",
   "mimetype": "text/x-python",
   "name": "python",
   "nbconvert_exporter": "python",
   "pygments_lexer": "ipython3",
   "version": "3.9.13"
  }
 },
 "nbformat": 4,
 "nbformat_minor": 4
}