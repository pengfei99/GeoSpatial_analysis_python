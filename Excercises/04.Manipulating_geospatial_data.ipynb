{
 "cells": [
  {
   "cell_type": "markdown",
   "source": [
    " Introduction\n",
    "\n",
    "You are a Starbucks big data analyst ([that’s a real job!](https://www.forbes.com/sites/bernardmarr/2018/05/28/starbucks-using-big-data-analytics-and-artificial-intelligence-to-boost-performance/#130c7d765cdc)) looking to find the next store into a [Starbucks Reserve Roastery](https://www.businessinsider.com/starbucks-reserve-roastery-compared-regular-starbucks-2018-12#also-on-the-first-floor-was-the-main-coffee-bar-five-hourglass-like-units-hold-the-freshly-roasted-coffee-beans-that-are-used-in-each-order-the-selection-rotates-seasonally-5).  These roasteries are much larger than a typical Starbucks store and have several additional features, including various food and wine options, along with upscale lounge areas.  You'll investigate the demographics of various counties in the state of California, to determine potentially suitable locations.\n"
   ],
   "metadata": {
    "collapsed": false
   }
  },
  {
   "cell_type": "code",
   "execution_count": 10,
   "outputs": [],
   "source": [
    "import math\n",
    "import pandas as pd\n",
    "import geopandas as gpd\n",
    "from geopy.geocoders import Nominatim\n",
    "\n",
    "import folium\n",
    "from folium import Marker\n",
    "from folium.plugins import MarkerCluster"
   ],
   "metadata": {
    "collapsed": false
   }
  },
  {
   "cell_type": "code",
   "execution_count": 4,
   "outputs": [],
   "source": [
    "root_path=\"/home/pliu/data_set/kaggle/geospatial/L04\""
   ],
   "metadata": {
    "collapsed": false
   }
  },
  {
   "cell_type": "code",
   "execution_count": 5,
   "outputs": [
    {
     "data": {
      "text/plain": "   Store Number               Store Name  \\\n0  10429-100710       Palmdale & Hwy 395   \n1       635-352    Kanan & Thousand Oaks   \n2   74510-27669  Vons-Agoura Hills #2001   \n3  29839-255026    Target Anaheim T-0677   \n4  23463-230284   Safeway - Alameda 3281   \n\n                                   Address          City  Longitude  Latitude  \n0             14136 US Hwy 395 Adelanto CA      Adelanto    -117.40     34.51  \n1                5827 Kanan Road Agoura CA        Agoura    -118.76     34.16  \n2           5671 Kanan Rd. Agoura Hills CA  Agoura Hills    -118.76     34.15  \n3  8148 E SANTA ANA CANYON ROAD AHAHEIM CA       AHAHEIM    -117.75     33.87  \n4               2600 5th Street Alameda CA       Alameda    -122.28     37.79  ",
      "text/html": "<div>\n<style scoped>\n    .dataframe tbody tr th:only-of-type {\n        vertical-align: middle;\n    }\n\n    .dataframe tbody tr th {\n        vertical-align: top;\n    }\n\n    .dataframe thead th {\n        text-align: right;\n    }\n</style>\n<table border=\"1\" class=\"dataframe\">\n  <thead>\n    <tr style=\"text-align: right;\">\n      <th></th>\n      <th>Store Number</th>\n      <th>Store Name</th>\n      <th>Address</th>\n      <th>City</th>\n      <th>Longitude</th>\n      <th>Latitude</th>\n    </tr>\n  </thead>\n  <tbody>\n    <tr>\n      <th>0</th>\n      <td>10429-100710</td>\n      <td>Palmdale &amp; Hwy 395</td>\n      <td>14136 US Hwy 395 Adelanto CA</td>\n      <td>Adelanto</td>\n      <td>-117.40</td>\n      <td>34.51</td>\n    </tr>\n    <tr>\n      <th>1</th>\n      <td>635-352</td>\n      <td>Kanan &amp; Thousand Oaks</td>\n      <td>5827 Kanan Road Agoura CA</td>\n      <td>Agoura</td>\n      <td>-118.76</td>\n      <td>34.16</td>\n    </tr>\n    <tr>\n      <th>2</th>\n      <td>74510-27669</td>\n      <td>Vons-Agoura Hills #2001</td>\n      <td>5671 Kanan Rd. Agoura Hills CA</td>\n      <td>Agoura Hills</td>\n      <td>-118.76</td>\n      <td>34.15</td>\n    </tr>\n    <tr>\n      <th>3</th>\n      <td>29839-255026</td>\n      <td>Target Anaheim T-0677</td>\n      <td>8148 E SANTA ANA CANYON ROAD AHAHEIM CA</td>\n      <td>AHAHEIM</td>\n      <td>-117.75</td>\n      <td>33.87</td>\n    </tr>\n    <tr>\n      <th>4</th>\n      <td>23463-230284</td>\n      <td>Safeway - Alameda 3281</td>\n      <td>2600 5th Street Alameda CA</td>\n      <td>Alameda</td>\n      <td>-122.28</td>\n      <td>37.79</td>\n    </tr>\n  </tbody>\n</table>\n</div>"
     },
     "execution_count": 5,
     "metadata": {},
     "output_type": "execute_result"
    }
   ],
   "source": [
    "# Load and preview Starbucks locations in California\n",
    "starbucks = pd.read_csv(f\"{root_path}/starbucks_locations.csv\")\n",
    "starbucks.head()"
   ],
   "metadata": {
    "collapsed": false
   }
  },
  {
   "cell_type": "markdown",
   "source": [
    "# Q1 Clean the data\n",
    "Most of the stores have known (latitude, longitude) locations.  But, all the locations in the city of Berkeley are missing. You need to impute the latitude, and longitude column of this starbucks stores."
   ],
   "metadata": {
    "collapsed": false,
    "pycharm": {
     "name": "#%% md\n"
    }
   }
  },
  {
   "cell_type": "code",
   "execution_count": 7,
   "outputs": [
    {
     "name": "stdout",
     "output_type": "stream",
     "text": [
      "Store Number    0\n",
      "Store Name      0\n",
      "Address         0\n",
      "City            0\n",
      "Longitude       5\n",
      "Latitude        5\n",
      "dtype: int64\n"
     ]
    }
   ],
   "source": [
    "# How many rows in each column have missing values?\n",
    "print(starbucks.isnull().sum())\n",
    "\n"
   ],
   "metadata": {
    "collapsed": false,
    "pycharm": {
     "name": "#%%\n"
    }
   }
  },
  {
   "cell_type": "code",
   "execution_count": 14,
   "outputs": [
    {
     "data": {
      "text/plain": "     Store Number                Store Name  \\\n153      5406-945  2224 Shattuck - Berkeley   \n154       570-512                Solano Ave   \n155  17877-164526   Safeway - Berkeley #691   \n156  19864-202264         Telegraph & Ashby   \n157     9217-9253           2128 Oxford St.   \n\n                               Address      City   Longitude   Latitude  \n153   2224 Shattuck Avenue Berkeley CA  Berkeley -122.268230  37.868839  \n154     1799 Solano Avenue Berkeley CA  Berkeley -122.280014  37.891477  \n155    1444 Shattuck Place Berkeley CA  Berkeley -122.269869  37.881177  \n156  3001 Telegraph Avenue Berkeley CA  Berkeley -122.259526  37.855799  \n157     2128 Oxford Street Berkeley CA  Berkeley -122.266095  37.870253  ",
      "text/html": "<div>\n<style scoped>\n    .dataframe tbody tr th:only-of-type {\n        vertical-align: middle;\n    }\n\n    .dataframe tbody tr th {\n        vertical-align: top;\n    }\n\n    .dataframe thead th {\n        text-align: right;\n    }\n</style>\n<table border=\"1\" class=\"dataframe\">\n  <thead>\n    <tr style=\"text-align: right;\">\n      <th></th>\n      <th>Store Number</th>\n      <th>Store Name</th>\n      <th>Address</th>\n      <th>City</th>\n      <th>Longitude</th>\n      <th>Latitude</th>\n    </tr>\n  </thead>\n  <tbody>\n    <tr>\n      <th>153</th>\n      <td>5406-945</td>\n      <td>2224 Shattuck - Berkeley</td>\n      <td>2224 Shattuck Avenue Berkeley CA</td>\n      <td>Berkeley</td>\n      <td>-122.268230</td>\n      <td>37.868839</td>\n    </tr>\n    <tr>\n      <th>154</th>\n      <td>570-512</td>\n      <td>Solano Ave</td>\n      <td>1799 Solano Avenue Berkeley CA</td>\n      <td>Berkeley</td>\n      <td>-122.280014</td>\n      <td>37.891477</td>\n    </tr>\n    <tr>\n      <th>155</th>\n      <td>17877-164526</td>\n      <td>Safeway - Berkeley #691</td>\n      <td>1444 Shattuck Place Berkeley CA</td>\n      <td>Berkeley</td>\n      <td>-122.269869</td>\n      <td>37.881177</td>\n    </tr>\n    <tr>\n      <th>156</th>\n      <td>19864-202264</td>\n      <td>Telegraph &amp; Ashby</td>\n      <td>3001 Telegraph Avenue Berkeley CA</td>\n      <td>Berkeley</td>\n      <td>-122.259526</td>\n      <td>37.855799</td>\n    </tr>\n    <tr>\n      <th>157</th>\n      <td>9217-9253</td>\n      <td>2128 Oxford St.</td>\n      <td>2128 Oxford Street Berkeley CA</td>\n      <td>Berkeley</td>\n      <td>-122.266095</td>\n      <td>37.870253</td>\n    </tr>\n  </tbody>\n</table>\n</div>"
     },
     "execution_count": 14,
     "metadata": {},
     "output_type": "execute_result"
    }
   ],
   "source": [
    "# View rows with missing locations\n",
    "rows_with_missing = starbucks[starbucks[\"City\"]==\"Berkeley\"]\n",
    "rows_with_missing"
   ],
   "metadata": {
    "collapsed": false,
    "pycharm": {
     "name": "#%%\n"
    }
   }
  },
  {
   "cell_type": "code",
   "execution_count": 11,
   "outputs": [],
   "source": [
    "geolocator = Nominatim(user_agent=\"kaggle_learn\")\n",
    "location = geolocator.geocode(\"2224 Shattuck Avenue Berkeley CA\")"
   ],
   "metadata": {
    "collapsed": false,
    "pycharm": {
     "name": "#%%\n"
    }
   }
  },
  {
   "cell_type": "code",
   "execution_count": 12,
   "outputs": [
    {
     "name": "stdout",
     "output_type": "stream",
     "text": [
      "37 52m 7.8222s N, 122 16m 5.62872s W\n",
      "Starbucks, 2224, Shattuck Avenue, Downtown Berkeley, Berkeley, Alameda County, CAL Fire Northern Region, California, 94701, United States\n"
     ]
    }
   ],
   "source": [
    "print(location.point)\n",
    "print(location.address)"
   ],
   "metadata": {
    "collapsed": false,
    "pycharm": {
     "name": "#%%\n"
    }
   }
  },
  {
   "cell_type": "code",
   "execution_count": 13,
   "outputs": [],
   "source": [
    "# this function takes an address then return the lat, and long\n",
    "def my_geocoder(row):\n",
    "    point = geolocator.geocode(row).point\n",
    "    return pd.Series({'Latitude': point.latitude, 'Longitude': point.longitude})\n",
    "\n",
    "berkeley_locations = rows_with_missing.apply(lambda x: my_geocoder(x['Address']), axis=1)\n",
    "starbucks.update(berkeley_locations)"
   ],
   "metadata": {
    "collapsed": false,
    "pycharm": {
     "name": "#%%\n"
    }
   }
  },
  {
   "cell_type": "markdown",
   "source": [
    "# Q2 2) View Berkeley locations.\n",
    "\n",
    "Let's take a look at the locations you just found.  Visualize the (latitude, longitude) locations in Berkeley in the OpenStreetMap style."
   ],
   "metadata": {
    "collapsed": false,
    "pycharm": {
     "name": "#%% md\n"
    }
   }
  },
  {
   "cell_type": "code",
   "execution_count": 24,
   "outputs": [
    {
     "data": {
      "text/plain": "<folium.folium.Map at 0x7f0f368cf880>",
      "text/html": "<div style=\"width:100%;\"><div style=\"position:relative;width:100%;height:0;padding-bottom:60%;\"><span style=\"color:#565656\">Make this Notebook Trusted to load map: File -> Trust Notebook</span><iframe srcdoc=\"&lt;!DOCTYPE html&gt;\n&lt;head&gt;    \n    &lt;meta http-equiv=&quot;content-type&quot; content=&quot;text/html; charset=UTF-8&quot; /&gt;\n    \n        &lt;script&gt;\n            L_NO_TOUCH = false;\n            L_DISABLE_3D = false;\n        &lt;/script&gt;\n    \n    &lt;style&gt;html, body {width: 100%;height: 100%;margin: 0;padding: 0;}&lt;/style&gt;\n    &lt;style&gt;#map {position:absolute;top:0;bottom:0;right:0;left:0;}&lt;/style&gt;\n    &lt;script src=&quot;https://cdn.jsdelivr.net/npm/leaflet@1.6.0/dist/leaflet.js&quot;&gt;&lt;/script&gt;\n    &lt;script src=&quot;https://code.jquery.com/jquery-1.12.4.min.js&quot;&gt;&lt;/script&gt;\n    &lt;script src=&quot;https://maxcdn.bootstrapcdn.com/bootstrap/3.2.0/js/bootstrap.min.js&quot;&gt;&lt;/script&gt;\n    &lt;script src=&quot;https://cdnjs.cloudflare.com/ajax/libs/Leaflet.awesome-markers/2.0.2/leaflet.awesome-markers.js&quot;&gt;&lt;/script&gt;\n    &lt;link rel=&quot;stylesheet&quot; href=&quot;https://cdn.jsdelivr.net/npm/leaflet@1.6.0/dist/leaflet.css&quot;/&gt;\n    &lt;link rel=&quot;stylesheet&quot; href=&quot;https://maxcdn.bootstrapcdn.com/bootstrap/3.2.0/css/bootstrap.min.css&quot;/&gt;\n    &lt;link rel=&quot;stylesheet&quot; href=&quot;https://maxcdn.bootstrapcdn.com/bootstrap/3.2.0/css/bootstrap-theme.min.css&quot;/&gt;\n    &lt;link rel=&quot;stylesheet&quot; href=&quot;https://maxcdn.bootstrapcdn.com/font-awesome/4.6.3/css/font-awesome.min.css&quot;/&gt;\n    &lt;link rel=&quot;stylesheet&quot; href=&quot;https://cdnjs.cloudflare.com/ajax/libs/Leaflet.awesome-markers/2.0.2/leaflet.awesome-markers.css&quot;/&gt;\n    &lt;link rel=&quot;stylesheet&quot; href=&quot;https://cdn.jsdelivr.net/gh/python-visualization/folium/folium/templates/leaflet.awesome.rotate.min.css&quot;/&gt;\n    \n            &lt;meta name=&quot;viewport&quot; content=&quot;width=device-width,\n                initial-scale=1.0, maximum-scale=1.0, user-scalable=no&quot; /&gt;\n            &lt;style&gt;\n                #map_629c1be29accd1d2d41d8583a2785cd5 {\n                    position: relative;\n                    width: 100.0%;\n                    height: 100.0%;\n                    left: 0.0%;\n                    top: 0.0%;\n                }\n            &lt;/style&gt;\n        \n&lt;/head&gt;\n&lt;body&gt;    \n    \n            &lt;div class=&quot;folium-map&quot; id=&quot;map_629c1be29accd1d2d41d8583a2785cd5&quot; &gt;&lt;/div&gt;\n        \n&lt;/body&gt;\n&lt;script&gt;    \n    \n            var map_629c1be29accd1d2d41d8583a2785cd5 = L.map(\n                &quot;map_629c1be29accd1d2d41d8583a2785cd5&quot;,\n                {\n                    center: [37.88, -122.26],\n                    crs: L.CRS.EPSG3857,\n                    zoom: 12,\n                    zoomControl: true,\n                    preferCanvas: false,\n                }\n            );\n\n            \n\n        \n    \n            var tile_layer_e3fd3a41cca6a44f8459c3f71e778da3 = L.tileLayer(\n                &quot;https://{s}.tile.openstreetmap.org/{z}/{x}/{y}.png&quot;,\n                {&quot;attribution&quot;: &quot;Data by \\u0026copy; \\u003ca href=\\&quot;http://openstreetmap.org\\&quot;\\u003eOpenStreetMap\\u003c/a\\u003e, under \\u003ca href=\\&quot;http://www.openstreetmap.org/copyright\\&quot;\\u003eODbL\\u003c/a\\u003e.&quot;, &quot;detectRetina&quot;: false, &quot;maxNativeZoom&quot;: 18, &quot;maxZoom&quot;: 18, &quot;minZoom&quot;: 0, &quot;noWrap&quot;: false, &quot;opacity&quot;: 1, &quot;subdomains&quot;: &quot;abc&quot;, &quot;tms&quot;: false}\n            ).addTo(map_629c1be29accd1d2d41d8583a2785cd5);\n        \n    \n            var marker_4595348cc30c16ad854f379d65ce611b = L.marker(\n                [37.8688395, -122.2682302],\n                {}\n            ).addTo(map_629c1be29accd1d2d41d8583a2785cd5);\n        \n    \n        var popup_6d7d8a5336192df88680c729e357661d = L.popup({&quot;maxWidth&quot;: &quot;100%&quot;});\n\n        \n            \n                var html_4f1abff9501d0fcb3c5096fc901e264e = $(`&lt;div id=&quot;html_4f1abff9501d0fcb3c5096fc901e264e&quot; style=&quot;width: 100.0%; height: 100.0%;&quot;&gt;2224 Shattuck - Berkeley&lt;/div&gt;`)[0];\n                popup_6d7d8a5336192df88680c729e357661d.setContent(html_4f1abff9501d0fcb3c5096fc901e264e);\n            \n        \n\n        marker_4595348cc30c16ad854f379d65ce611b.bindPopup(popup_6d7d8a5336192df88680c729e357661d)\n        ;\n\n        \n    \n    \n            var marker_07f50c012218b2e7166abee7bf992bed = L.marker(\n                [37.891477, -122.2800136],\n                {}\n            ).addTo(map_629c1be29accd1d2d41d8583a2785cd5);\n        \n    \n        var popup_cbcf167865a2221893781576b53b8208 = L.popup({&quot;maxWidth&quot;: &quot;100%&quot;});\n\n        \n            \n                var html_21c978d3d4d30e3a85b93a00c33e399e = $(`&lt;div id=&quot;html_21c978d3d4d30e3a85b93a00c33e399e&quot; style=&quot;width: 100.0%; height: 100.0%;&quot;&gt;Solano Ave&lt;/div&gt;`)[0];\n                popup_cbcf167865a2221893781576b53b8208.setContent(html_21c978d3d4d30e3a85b93a00c33e399e);\n            \n        \n\n        marker_07f50c012218b2e7166abee7bf992bed.bindPopup(popup_cbcf167865a2221893781576b53b8208)\n        ;\n\n        \n    \n    \n            var marker_1e5079acdef9cb56243f62506a88491c = L.marker(\n                [37.88117704104281, -122.26986861045268],\n                {}\n            ).addTo(map_629c1be29accd1d2d41d8583a2785cd5);\n        \n    \n        var popup_036368097acc5dfb564ff6e228613af9 = L.popup({&quot;maxWidth&quot;: &quot;100%&quot;});\n\n        \n            \n                var html_36a233430e43d2af659e24e05f593e03 = $(`&lt;div id=&quot;html_36a233430e43d2af659e24e05f593e03&quot; style=&quot;width: 100.0%; height: 100.0%;&quot;&gt;Safeway - Berkeley #691&lt;/div&gt;`)[0];\n                popup_036368097acc5dfb564ff6e228613af9.setContent(html_36a233430e43d2af659e24e05f593e03);\n            \n        \n\n        marker_1e5079acdef9cb56243f62506a88491c.bindPopup(popup_036368097acc5dfb564ff6e228613af9)\n        ;\n\n        \n    \n    \n            var marker_cc28f3356c38d4ba87af5fa70d30248b = L.marker(\n                [37.8557986, -122.2595257],\n                {}\n            ).addTo(map_629c1be29accd1d2d41d8583a2785cd5);\n        \n    \n        var popup_a0b24e48a0c6bea47ff9c25acc541769 = L.popup({&quot;maxWidth&quot;: &quot;100%&quot;});\n\n        \n            \n                var html_2285608e71c5d1bbd23e2e93756e092f = $(`&lt;div id=&quot;html_2285608e71c5d1bbd23e2e93756e092f&quot; style=&quot;width: 100.0%; height: 100.0%;&quot;&gt;Telegraph &amp; Ashby&lt;/div&gt;`)[0];\n                popup_a0b24e48a0c6bea47ff9c25acc541769.setContent(html_2285608e71c5d1bbd23e2e93756e092f);\n            \n        \n\n        marker_cc28f3356c38d4ba87af5fa70d30248b.bindPopup(popup_a0b24e48a0c6bea47ff9c25acc541769)\n        ;\n\n        \n    \n    \n            var marker_5e344ec836604d8ee748512a3900036f = L.marker(\n                [37.870253149999996, -122.26609492936619],\n                {}\n            ).addTo(map_629c1be29accd1d2d41d8583a2785cd5);\n        \n    \n        var popup_798288063dbe1bb10ed495a35396fce4 = L.popup({&quot;maxWidth&quot;: &quot;100%&quot;});\n\n        \n            \n                var html_4ae8e559ab89b79b2e94b30baab148c4 = $(`&lt;div id=&quot;html_4ae8e559ab89b79b2e94b30baab148c4&quot; style=&quot;width: 100.0%; height: 100.0%;&quot;&gt;2128 Oxford St.&lt;/div&gt;`)[0];\n                popup_798288063dbe1bb10ed495a35396fce4.setContent(html_4ae8e559ab89b79b2e94b30baab148c4);\n            \n        \n\n        marker_5e344ec836604d8ee748512a3900036f.bindPopup(popup_798288063dbe1bb10ed495a35396fce4)\n        ;\n\n        \n    \n&lt;/script&gt;\" style=\"position:absolute;width:100%;height:100%;left:0;top:0;border:none !important;\" allowfullscreen webkitallowfullscreen mozallowfullscreen></iframe></div></div>"
     },
     "execution_count": 24,
     "metadata": {},
     "output_type": "execute_result"
    }
   ],
   "source": [
    "m_2 = folium.Map(location=[37.88,-122.26], zoom_start=12)\n",
    "\n",
    "\n",
    "for idx, row in starbucks[starbucks[\"City\"]==\"Berkeley\"].iterrows():\n",
    "    Marker([row['Latitude'], row['Longitude']], popup=row['Store Name']).add_to(m_2)\n",
    "\n",
    "m_2"
   ],
   "metadata": {
    "collapsed": false,
    "pycharm": {
     "name": "#%%\n"
    }
   }
  },
  {
   "cell_type": "code",
   "execution_count": null,
   "outputs": [],
   "source": [],
   "metadata": {
    "collapsed": false,
    "pycharm": {
     "name": "#%%\n"
    }
   }
  }
 ],
 "metadata": {
  "kernelspec": {
   "display_name": "Python 3",
   "language": "python",
   "name": "python3"
  },
  "language_info": {
   "codemirror_mode": {
    "name": "ipython",
    "version": 2
   },
   "file_extension": ".py",
   "mimetype": "text/x-python",
   "name": "python",
   "nbconvert_exporter": "python",
   "pygments_lexer": "ipython2",
   "version": "2.7.6"
  }
 },
 "nbformat": 4,
 "nbformat_minor": 0
}