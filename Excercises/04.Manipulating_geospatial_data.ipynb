{
 "cells": [
  {
   "cell_type": "markdown",
   "source": [
    " Introduction\n",
    "\n",
    "You are a Starbucks big data analyst ([that’s a real job!](https://www.forbes.com/sites/bernardmarr/2018/05/28/starbucks-using-big-data-analytics-and-artificial-intelligence-to-boost-performance/#130c7d765cdc)) looking to find the next store into a [Starbucks Reserve Roastery](https://www.businessinsider.com/starbucks-reserve-roastery-compared-regular-starbucks-2018-12#also-on-the-first-floor-was-the-main-coffee-bar-five-hourglass-like-units-hold-the-freshly-roasted-coffee-beans-that-are-used-in-each-order-the-selection-rotates-seasonally-5).  These roasteries are much larger than a typical Starbucks store and have several additional features, including various food and wine options, along with upscale lounge areas.  You'll investigate the demographics of various counties in the state of California, to determine potentially suitable locations.\n"
   ],
   "metadata": {
    "collapsed": false
   }
  },
  {
   "cell_type": "code",
   "execution_count": 1,
   "outputs": [],
   "source": [
    "import math\n",
    "import pandas as pd\n",
    "import geopandas as gpd\n",
    "#from geopy.geocoders import Nominatim            # What you'd normally run\n",
    "\n",
    "import folium\n",
    "from folium import Marker\n",
    "from folium.plugins import MarkerCluster"
   ],
   "metadata": {
    "collapsed": false
   }
  },
  {
   "cell_type": "code",
   "execution_count": 2,
   "outputs": [],
   "source": [
    "root_path=\"/home/pengfei/data_set/kaggle/geospatial/L04\""
   ],
   "metadata": {
    "collapsed": false
   }
  },
  {
   "cell_type": "code",
   "execution_count": 3,
   "outputs": [
    {
     "data": {
      "text/plain": "   Store Number               Store Name  \\\n0  10429-100710       Palmdale & Hwy 395   \n1       635-352    Kanan & Thousand Oaks   \n2   74510-27669  Vons-Agoura Hills #2001   \n3  29839-255026    Target Anaheim T-0677   \n4  23463-230284   Safeway - Alameda 3281   \n\n                                   Address          City  Longitude  Latitude  \n0             14136 US Hwy 395 Adelanto CA      Adelanto    -117.40     34.51  \n1                5827 Kanan Road Agoura CA        Agoura    -118.76     34.16  \n2           5671 Kanan Rd. Agoura Hills CA  Agoura Hills    -118.76     34.15  \n3  8148 E SANTA ANA CANYON ROAD AHAHEIM CA       AHAHEIM    -117.75     33.87  \n4               2600 5th Street Alameda CA       Alameda    -122.28     37.79  ",
      "text/html": "<div>\n<style scoped>\n    .dataframe tbody tr th:only-of-type {\n        vertical-align: middle;\n    }\n\n    .dataframe tbody tr th {\n        vertical-align: top;\n    }\n\n    .dataframe thead th {\n        text-align: right;\n    }\n</style>\n<table border=\"1\" class=\"dataframe\">\n  <thead>\n    <tr style=\"text-align: right;\">\n      <th></th>\n      <th>Store Number</th>\n      <th>Store Name</th>\n      <th>Address</th>\n      <th>City</th>\n      <th>Longitude</th>\n      <th>Latitude</th>\n    </tr>\n  </thead>\n  <tbody>\n    <tr>\n      <th>0</th>\n      <td>10429-100710</td>\n      <td>Palmdale &amp; Hwy 395</td>\n      <td>14136 US Hwy 395 Adelanto CA</td>\n      <td>Adelanto</td>\n      <td>-117.40</td>\n      <td>34.51</td>\n    </tr>\n    <tr>\n      <th>1</th>\n      <td>635-352</td>\n      <td>Kanan &amp; Thousand Oaks</td>\n      <td>5827 Kanan Road Agoura CA</td>\n      <td>Agoura</td>\n      <td>-118.76</td>\n      <td>34.16</td>\n    </tr>\n    <tr>\n      <th>2</th>\n      <td>74510-27669</td>\n      <td>Vons-Agoura Hills #2001</td>\n      <td>5671 Kanan Rd. Agoura Hills CA</td>\n      <td>Agoura Hills</td>\n      <td>-118.76</td>\n      <td>34.15</td>\n    </tr>\n    <tr>\n      <th>3</th>\n      <td>29839-255026</td>\n      <td>Target Anaheim T-0677</td>\n      <td>8148 E SANTA ANA CANYON ROAD AHAHEIM CA</td>\n      <td>AHAHEIM</td>\n      <td>-117.75</td>\n      <td>33.87</td>\n    </tr>\n    <tr>\n      <th>4</th>\n      <td>23463-230284</td>\n      <td>Safeway - Alameda 3281</td>\n      <td>2600 5th Street Alameda CA</td>\n      <td>Alameda</td>\n      <td>-122.28</td>\n      <td>37.79</td>\n    </tr>\n  </tbody>\n</table>\n</div>"
     },
     "execution_count": 3,
     "metadata": {},
     "output_type": "execute_result"
    }
   ],
   "source": [
    "# Load and preview Starbucks locations in California\n",
    "starbucks = pd.read_csv(f\"{root_path}/starbucks_locations.csv\")\n",
    "starbucks.head()"
   ],
   "metadata": {
    "collapsed": false
   }
  },
  {
   "cell_type": "code",
   "execution_count": null,
   "outputs": [],
   "source": [],
   "metadata": {
    "collapsed": false
   }
  }
 ],
 "metadata": {
  "kernelspec": {
   "display_name": "Python 3",
   "language": "python",
   "name": "python3"
  },
  "language_info": {
   "codemirror_mode": {
    "name": "ipython",
    "version": 2
   },
   "file_extension": ".py",
   "mimetype": "text/x-python",
   "name": "python",
   "nbconvert_exporter": "python",
   "pygments_lexer": "ipython2",
   "version": "2.7.6"
  }
 },
 "nbformat": 4,
 "nbformat_minor": 0
}
