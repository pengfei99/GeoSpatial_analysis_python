{
 "cells": [
  {
   "cell_type": "markdown",
   "source": [
    " Introduction\n",
    "\n",
    "You are a Starbucks big data analyst ([that’s a real job!](https://www.forbes.com/sites/bernardmarr/2018/05/28/starbucks-using-big-data-analytics-and-artificial-intelligence-to-boost-performance/#130c7d765cdc)) looking to find the next store into a [Starbucks Reserve Roastery](https://www.businessinsider.com/starbucks-reserve-roastery-compared-regular-starbucks-2018-12#also-on-the-first-floor-was-the-main-coffee-bar-five-hourglass-like-units-hold-the-freshly-roasted-coffee-beans-that-are-used-in-each-order-the-selection-rotates-seasonally-5).  These roasteries are much larger than a typical Starbucks store and have several additional features, including various food and wine options, along with upscale lounge areas.  You'll investigate the demographics of various counties in the state of California, to determine potentially suitable locations.\n"
   ],
   "metadata": {
    "collapsed": false
   }
  },
  {
   "cell_type": "code",
   "execution_count": 1,
   "outputs": [],
   "source": [
    "import math\n",
    "import pandas as pd\n",
    "import geopandas as gpd\n",
    "from geopy.geocoders import Nominatim\n",
    "\n",
    "import folium\n",
    "from folium import Marker\n",
    "from folium.plugins import MarkerCluster"
   ],
   "metadata": {
    "collapsed": false
   }
  },
  {
   "cell_type": "code",
   "execution_count": 2,
   "outputs": [],
   "source": [
    "root_path=\"/home/pliu/data_set/kaggle/geospatial/L04\""
   ],
   "metadata": {
    "collapsed": false
   }
  },
  {
   "cell_type": "code",
   "execution_count": 3,
   "outputs": [
    {
     "data": {
      "text/plain": "   Store Number               Store Name  \\\n0  10429-100710       Palmdale & Hwy 395   \n1       635-352    Kanan & Thousand Oaks   \n2   74510-27669  Vons-Agoura Hills #2001   \n3  29839-255026    Target Anaheim T-0677   \n4  23463-230284   Safeway - Alameda 3281   \n\n                                   Address          City  Longitude  Latitude  \n0             14136 US Hwy 395 Adelanto CA      Adelanto    -117.40     34.51  \n1                5827 Kanan Road Agoura CA        Agoura    -118.76     34.16  \n2           5671 Kanan Rd. Agoura Hills CA  Agoura Hills    -118.76     34.15  \n3  8148 E SANTA ANA CANYON ROAD AHAHEIM CA       AHAHEIM    -117.75     33.87  \n4               2600 5th Street Alameda CA       Alameda    -122.28     37.79  ",
      "text/html": "<div>\n<style scoped>\n    .dataframe tbody tr th:only-of-type {\n        vertical-align: middle;\n    }\n\n    .dataframe tbody tr th {\n        vertical-align: top;\n    }\n\n    .dataframe thead th {\n        text-align: right;\n    }\n</style>\n<table border=\"1\" class=\"dataframe\">\n  <thead>\n    <tr style=\"text-align: right;\">\n      <th></th>\n      <th>Store Number</th>\n      <th>Store Name</th>\n      <th>Address</th>\n      <th>City</th>\n      <th>Longitude</th>\n      <th>Latitude</th>\n    </tr>\n  </thead>\n  <tbody>\n    <tr>\n      <th>0</th>\n      <td>10429-100710</td>\n      <td>Palmdale &amp; Hwy 395</td>\n      <td>14136 US Hwy 395 Adelanto CA</td>\n      <td>Adelanto</td>\n      <td>-117.40</td>\n      <td>34.51</td>\n    </tr>\n    <tr>\n      <th>1</th>\n      <td>635-352</td>\n      <td>Kanan &amp; Thousand Oaks</td>\n      <td>5827 Kanan Road Agoura CA</td>\n      <td>Agoura</td>\n      <td>-118.76</td>\n      <td>34.16</td>\n    </tr>\n    <tr>\n      <th>2</th>\n      <td>74510-27669</td>\n      <td>Vons-Agoura Hills #2001</td>\n      <td>5671 Kanan Rd. Agoura Hills CA</td>\n      <td>Agoura Hills</td>\n      <td>-118.76</td>\n      <td>34.15</td>\n    </tr>\n    <tr>\n      <th>3</th>\n      <td>29839-255026</td>\n      <td>Target Anaheim T-0677</td>\n      <td>8148 E SANTA ANA CANYON ROAD AHAHEIM CA</td>\n      <td>AHAHEIM</td>\n      <td>-117.75</td>\n      <td>33.87</td>\n    </tr>\n    <tr>\n      <th>4</th>\n      <td>23463-230284</td>\n      <td>Safeway - Alameda 3281</td>\n      <td>2600 5th Street Alameda CA</td>\n      <td>Alameda</td>\n      <td>-122.28</td>\n      <td>37.79</td>\n    </tr>\n  </tbody>\n</table>\n</div>"
     },
     "execution_count": 3,
     "metadata": {},
     "output_type": "execute_result"
    }
   ],
   "source": [
    "# Load and preview Starbucks locations in California\n",
    "starbucks = pd.read_csv(f\"{root_path}/starbucks_locations.csv\")\n",
    "starbucks.head()"
   ],
   "metadata": {
    "collapsed": false
   }
  },
  {
   "cell_type": "markdown",
   "source": [
    "# Q1 Clean the data\n",
    "Most of the stores have known (latitude, longitude) locations.  But, all the locations in the city of Berkeley are missing. You need to impute the latitude, and longitude column of this starbucks stores."
   ],
   "metadata": {
    "collapsed": false,
    "pycharm": {
     "name": "#%% md\n"
    }
   }
  },
  {
   "cell_type": "code",
   "execution_count": 4,
   "outputs": [
    {
     "name": "stdout",
     "output_type": "stream",
     "text": [
      "Store Number    0\n",
      "Store Name      0\n",
      "Address         0\n",
      "City            0\n",
      "Longitude       5\n",
      "Latitude        5\n",
      "dtype: int64\n"
     ]
    }
   ],
   "source": [
    "# How many rows in each column have missing values?\n",
    "print(starbucks.isnull().sum())\n",
    "\n"
   ],
   "metadata": {
    "collapsed": false,
    "pycharm": {
     "name": "#%%\n"
    }
   }
  },
  {
   "cell_type": "code",
   "execution_count": 5,
   "outputs": [
    {
     "data": {
      "text/plain": "     Store Number                Store Name  \\\n153      5406-945  2224 Shattuck - Berkeley   \n154       570-512                Solano Ave   \n155  17877-164526   Safeway - Berkeley #691   \n156  19864-202264         Telegraph & Ashby   \n157     9217-9253           2128 Oxford St.   \n\n                               Address      City  Longitude  Latitude  \n153   2224 Shattuck Avenue Berkeley CA  Berkeley        NaN       NaN  \n154     1799 Solano Avenue Berkeley CA  Berkeley        NaN       NaN  \n155    1444 Shattuck Place Berkeley CA  Berkeley        NaN       NaN  \n156  3001 Telegraph Avenue Berkeley CA  Berkeley        NaN       NaN  \n157     2128 Oxford Street Berkeley CA  Berkeley        NaN       NaN  ",
      "text/html": "<div>\n<style scoped>\n    .dataframe tbody tr th:only-of-type {\n        vertical-align: middle;\n    }\n\n    .dataframe tbody tr th {\n        vertical-align: top;\n    }\n\n    .dataframe thead th {\n        text-align: right;\n    }\n</style>\n<table border=\"1\" class=\"dataframe\">\n  <thead>\n    <tr style=\"text-align: right;\">\n      <th></th>\n      <th>Store Number</th>\n      <th>Store Name</th>\n      <th>Address</th>\n      <th>City</th>\n      <th>Longitude</th>\n      <th>Latitude</th>\n    </tr>\n  </thead>\n  <tbody>\n    <tr>\n      <th>153</th>\n      <td>5406-945</td>\n      <td>2224 Shattuck - Berkeley</td>\n      <td>2224 Shattuck Avenue Berkeley CA</td>\n      <td>Berkeley</td>\n      <td>NaN</td>\n      <td>NaN</td>\n    </tr>\n    <tr>\n      <th>154</th>\n      <td>570-512</td>\n      <td>Solano Ave</td>\n      <td>1799 Solano Avenue Berkeley CA</td>\n      <td>Berkeley</td>\n      <td>NaN</td>\n      <td>NaN</td>\n    </tr>\n    <tr>\n      <th>155</th>\n      <td>17877-164526</td>\n      <td>Safeway - Berkeley #691</td>\n      <td>1444 Shattuck Place Berkeley CA</td>\n      <td>Berkeley</td>\n      <td>NaN</td>\n      <td>NaN</td>\n    </tr>\n    <tr>\n      <th>156</th>\n      <td>19864-202264</td>\n      <td>Telegraph &amp; Ashby</td>\n      <td>3001 Telegraph Avenue Berkeley CA</td>\n      <td>Berkeley</td>\n      <td>NaN</td>\n      <td>NaN</td>\n    </tr>\n    <tr>\n      <th>157</th>\n      <td>9217-9253</td>\n      <td>2128 Oxford St.</td>\n      <td>2128 Oxford Street Berkeley CA</td>\n      <td>Berkeley</td>\n      <td>NaN</td>\n      <td>NaN</td>\n    </tr>\n  </tbody>\n</table>\n</div>"
     },
     "execution_count": 5,
     "metadata": {},
     "output_type": "execute_result"
    }
   ],
   "source": [
    "# View rows with missing locations\n",
    "rows_with_missing = starbucks[starbucks[\"City\"]==\"Berkeley\"]\n",
    "rows_with_missing"
   ],
   "metadata": {
    "collapsed": false,
    "pycharm": {
     "name": "#%%\n"
    }
   }
  },
  {
   "cell_type": "code",
   "execution_count": 6,
   "outputs": [],
   "source": [
    "geolocator = Nominatim(user_agent=\"kaggle_learn\")\n",
    "location = geolocator.geocode(\"2224 Shattuck Avenue Berkeley CA\")"
   ],
   "metadata": {
    "collapsed": false,
    "pycharm": {
     "name": "#%%\n"
    }
   }
  },
  {
   "cell_type": "code",
   "execution_count": 7,
   "outputs": [
    {
     "name": "stdout",
     "output_type": "stream",
     "text": [
      "37 52m 7.8222s N, 122 16m 5.62872s W\n",
      "Starbucks, 2224, Shattuck Avenue, Downtown Berkeley, Berkeley, Alameda County, CAL Fire Northern Region, California, 94701, United States\n"
     ]
    }
   ],
   "source": [
    "print(location.point)\n",
    "print(location.address)"
   ],
   "metadata": {
    "collapsed": false,
    "pycharm": {
     "name": "#%%\n"
    }
   }
  },
  {
   "cell_type": "code",
   "execution_count": 8,
   "outputs": [],
   "source": [
    "# this function takes an address then return the lat, and long\n",
    "def my_geocoder(row):\n",
    "    point = geolocator.geocode(row).point\n",
    "    return pd.Series({'Latitude': point.latitude, 'Longitude': point.longitude})\n",
    "\n",
    "berkeley_locations = rows_with_missing.apply(lambda x: my_geocoder(x['Address']), axis=1)\n",
    "starbucks.update(berkeley_locations)"
   ],
   "metadata": {
    "collapsed": false,
    "pycharm": {
     "name": "#%%\n"
    }
   }
  },
  {
   "cell_type": "markdown",
   "source": [
    "# Q2 2) View Berkeley locations.\n",
    "\n",
    "Let's take a look at the locations you just found.  Visualize the (latitude, longitude) locations in Berkeley in the OpenStreetMap style.\n",
    "\n",
    "Then check if the shop are all in the `Berkeley` county on the map"
   ],
   "metadata": {
    "collapsed": false,
    "pycharm": {
     "name": "#%% md\n"
    }
   }
  },
  {
   "cell_type": "code",
   "execution_count": 9,
   "outputs": [
    {
     "data": {
      "text/plain": "<folium.folium.Map at 0x7f0c0c515880>",
      "text/html": "<div style=\"width:100%;\"><div style=\"position:relative;width:100%;height:0;padding-bottom:60%;\"><span style=\"color:#565656\">Make this Notebook Trusted to load map: File -> Trust Notebook</span><iframe srcdoc=\"&lt;!DOCTYPE html&gt;\n&lt;head&gt;    \n    &lt;meta http-equiv=&quot;content-type&quot; content=&quot;text/html; charset=UTF-8&quot; /&gt;\n    \n        &lt;script&gt;\n            L_NO_TOUCH = false;\n            L_DISABLE_3D = false;\n        &lt;/script&gt;\n    \n    &lt;style&gt;html, body {width: 100%;height: 100%;margin: 0;padding: 0;}&lt;/style&gt;\n    &lt;style&gt;#map {position:absolute;top:0;bottom:0;right:0;left:0;}&lt;/style&gt;\n    &lt;script src=&quot;https://cdn.jsdelivr.net/npm/leaflet@1.6.0/dist/leaflet.js&quot;&gt;&lt;/script&gt;\n    &lt;script src=&quot;https://code.jquery.com/jquery-1.12.4.min.js&quot;&gt;&lt;/script&gt;\n    &lt;script src=&quot;https://maxcdn.bootstrapcdn.com/bootstrap/3.2.0/js/bootstrap.min.js&quot;&gt;&lt;/script&gt;\n    &lt;script src=&quot;https://cdnjs.cloudflare.com/ajax/libs/Leaflet.awesome-markers/2.0.2/leaflet.awesome-markers.js&quot;&gt;&lt;/script&gt;\n    &lt;link rel=&quot;stylesheet&quot; href=&quot;https://cdn.jsdelivr.net/npm/leaflet@1.6.0/dist/leaflet.css&quot;/&gt;\n    &lt;link rel=&quot;stylesheet&quot; href=&quot;https://maxcdn.bootstrapcdn.com/bootstrap/3.2.0/css/bootstrap.min.css&quot;/&gt;\n    &lt;link rel=&quot;stylesheet&quot; href=&quot;https://maxcdn.bootstrapcdn.com/bootstrap/3.2.0/css/bootstrap-theme.min.css&quot;/&gt;\n    &lt;link rel=&quot;stylesheet&quot; href=&quot;https://maxcdn.bootstrapcdn.com/font-awesome/4.6.3/css/font-awesome.min.css&quot;/&gt;\n    &lt;link rel=&quot;stylesheet&quot; href=&quot;https://cdnjs.cloudflare.com/ajax/libs/Leaflet.awesome-markers/2.0.2/leaflet.awesome-markers.css&quot;/&gt;\n    &lt;link rel=&quot;stylesheet&quot; href=&quot;https://cdn.jsdelivr.net/gh/python-visualization/folium/folium/templates/leaflet.awesome.rotate.min.css&quot;/&gt;\n    \n            &lt;meta name=&quot;viewport&quot; content=&quot;width=device-width,\n                initial-scale=1.0, maximum-scale=1.0, user-scalable=no&quot; /&gt;\n            &lt;style&gt;\n                #map_b9e92ff3b950f9deb700e03576c91818 {\n                    position: relative;\n                    width: 100.0%;\n                    height: 100.0%;\n                    left: 0.0%;\n                    top: 0.0%;\n                }\n            &lt;/style&gt;\n        \n&lt;/head&gt;\n&lt;body&gt;    \n    \n            &lt;div class=&quot;folium-map&quot; id=&quot;map_b9e92ff3b950f9deb700e03576c91818&quot; &gt;&lt;/div&gt;\n        \n&lt;/body&gt;\n&lt;script&gt;    \n    \n            var map_b9e92ff3b950f9deb700e03576c91818 = L.map(\n                &quot;map_b9e92ff3b950f9deb700e03576c91818&quot;,\n                {\n                    center: [37.88, -122.26],\n                    crs: L.CRS.EPSG3857,\n                    zoom: 12,\n                    zoomControl: true,\n                    preferCanvas: false,\n                }\n            );\n\n            \n\n        \n    \n            var tile_layer_ffb16ecd4e4f9ce92f77003dd7d287a2 = L.tileLayer(\n                &quot;https://{s}.tile.openstreetmap.org/{z}/{x}/{y}.png&quot;,\n                {&quot;attribution&quot;: &quot;Data by \\u0026copy; \\u003ca href=\\&quot;http://openstreetmap.org\\&quot;\\u003eOpenStreetMap\\u003c/a\\u003e, under \\u003ca href=\\&quot;http://www.openstreetmap.org/copyright\\&quot;\\u003eODbL\\u003c/a\\u003e.&quot;, &quot;detectRetina&quot;: false, &quot;maxNativeZoom&quot;: 18, &quot;maxZoom&quot;: 18, &quot;minZoom&quot;: 0, &quot;noWrap&quot;: false, &quot;opacity&quot;: 1, &quot;subdomains&quot;: &quot;abc&quot;, &quot;tms&quot;: false}\n            ).addTo(map_b9e92ff3b950f9deb700e03576c91818);\n        \n    \n            var marker_6eb326912c3726c3bd758073e5fea849 = L.marker(\n                [37.8688395, -122.2682302],\n                {}\n            ).addTo(map_b9e92ff3b950f9deb700e03576c91818);\n        \n    \n        var popup_3da778d5bb626b0222536f588d15ab4f = L.popup({&quot;maxWidth&quot;: &quot;100%&quot;});\n\n        \n            \n                var html_07e60921e14df0ece985a85a4bf65996 = $(`&lt;div id=&quot;html_07e60921e14df0ece985a85a4bf65996&quot; style=&quot;width: 100.0%; height: 100.0%;&quot;&gt;2224 Shattuck - Berkeley&lt;/div&gt;`)[0];\n                popup_3da778d5bb626b0222536f588d15ab4f.setContent(html_07e60921e14df0ece985a85a4bf65996);\n            \n        \n\n        marker_6eb326912c3726c3bd758073e5fea849.bindPopup(popup_3da778d5bb626b0222536f588d15ab4f)\n        ;\n\n        \n    \n    \n            var marker_208af3a9871acce7b2eb9a28e742921f = L.marker(\n                [37.891477, -122.2800136],\n                {}\n            ).addTo(map_b9e92ff3b950f9deb700e03576c91818);\n        \n    \n        var popup_e009762617a627b5c4c29fd65faf83b5 = L.popup({&quot;maxWidth&quot;: &quot;100%&quot;});\n\n        \n            \n                var html_960f14321e54e763cfc2d4f9bdec818c = $(`&lt;div id=&quot;html_960f14321e54e763cfc2d4f9bdec818c&quot; style=&quot;width: 100.0%; height: 100.0%;&quot;&gt;Solano Ave&lt;/div&gt;`)[0];\n                popup_e009762617a627b5c4c29fd65faf83b5.setContent(html_960f14321e54e763cfc2d4f9bdec818c);\n            \n        \n\n        marker_208af3a9871acce7b2eb9a28e742921f.bindPopup(popup_e009762617a627b5c4c29fd65faf83b5)\n        ;\n\n        \n    \n    \n            var marker_1956e9412df487443b00eee617427c2f = L.marker(\n                [37.88117704104281, -122.26986861045268],\n                {}\n            ).addTo(map_b9e92ff3b950f9deb700e03576c91818);\n        \n    \n        var popup_1903e85e4231a19e7b3bd1f31b205129 = L.popup({&quot;maxWidth&quot;: &quot;100%&quot;});\n\n        \n            \n                var html_d30ec653406cef4c897eb42373aa7f0e = $(`&lt;div id=&quot;html_d30ec653406cef4c897eb42373aa7f0e&quot; style=&quot;width: 100.0%; height: 100.0%;&quot;&gt;Safeway - Berkeley #691&lt;/div&gt;`)[0];\n                popup_1903e85e4231a19e7b3bd1f31b205129.setContent(html_d30ec653406cef4c897eb42373aa7f0e);\n            \n        \n\n        marker_1956e9412df487443b00eee617427c2f.bindPopup(popup_1903e85e4231a19e7b3bd1f31b205129)\n        ;\n\n        \n    \n    \n            var marker_2b39484a547dc84e6b20c14f52fb563c = L.marker(\n                [37.8557986, -122.2595257],\n                {}\n            ).addTo(map_b9e92ff3b950f9deb700e03576c91818);\n        \n    \n        var popup_5a0e53b8b6d9ae640a01a521d6287174 = L.popup({&quot;maxWidth&quot;: &quot;100%&quot;});\n\n        \n            \n                var html_f77ec328c4d65e261f4e27a40249040e = $(`&lt;div id=&quot;html_f77ec328c4d65e261f4e27a40249040e&quot; style=&quot;width: 100.0%; height: 100.0%;&quot;&gt;Telegraph &amp; Ashby&lt;/div&gt;`)[0];\n                popup_5a0e53b8b6d9ae640a01a521d6287174.setContent(html_f77ec328c4d65e261f4e27a40249040e);\n            \n        \n\n        marker_2b39484a547dc84e6b20c14f52fb563c.bindPopup(popup_5a0e53b8b6d9ae640a01a521d6287174)\n        ;\n\n        \n    \n    \n            var marker_2409185fdb150f1f037ab1d91a851b59 = L.marker(\n                [37.870253149999996, -122.26609492936619],\n                {}\n            ).addTo(map_b9e92ff3b950f9deb700e03576c91818);\n        \n    \n        var popup_02e60c0bf925b49455cdbd2247c6e13f = L.popup({&quot;maxWidth&quot;: &quot;100%&quot;});\n\n        \n            \n                var html_4494eab140f71da7ab618408c5e82b01 = $(`&lt;div id=&quot;html_4494eab140f71da7ab618408c5e82b01&quot; style=&quot;width: 100.0%; height: 100.0%;&quot;&gt;2128 Oxford St.&lt;/div&gt;`)[0];\n                popup_02e60c0bf925b49455cdbd2247c6e13f.setContent(html_4494eab140f71da7ab618408c5e82b01);\n            \n        \n\n        marker_2409185fdb150f1f037ab1d91a851b59.bindPopup(popup_02e60c0bf925b49455cdbd2247c6e13f)\n        ;\n\n        \n    \n&lt;/script&gt;\" style=\"position:absolute;width:100%;height:100%;left:0;top:0;border:none !important;\" allowfullscreen webkitallowfullscreen mozallowfullscreen></iframe></div></div>"
     },
     "execution_count": 9,
     "metadata": {},
     "output_type": "execute_result"
    }
   ],
   "source": [
    "m_2 = folium.Map(location=[37.88,-122.26], zoom_start=12)\n",
    "\n",
    "\n",
    "for idx, row in starbucks[starbucks[\"City\"]==\"Berkeley\"].iterrows():\n",
    "    Marker([row['Latitude'], row['Longitude']], popup=row['Store Name']).add_to(m_2)\n",
    "\n",
    "m_2"
   ],
   "metadata": {
    "collapsed": false,
    "pycharm": {
     "name": "#%%\n"
    }
   }
  },
  {
   "cell_type": "markdown",
   "source": [
    "## Q3 Consolidate your data.\n",
    "\n",
    "To make our analysis more meaningful, we will load a GeoDataFrame and three DataFrames:\n",
    "- `ca_counties` containing the name, area (in square kilometers), and a unique id (in the \"GEOID\" column) for each county in the state of California.  The \"geometry\" column contains a polygon with county boundaries.\n",
    "- `ca_pop` contains an estimate of the population of each county.\n",
    "- `ca_high_earners` contains the number of households with an income of at least $150,000 per year.\n",
    "- `ca_median_age` contains the median age for each county.\n",
    "\n",
    "Use the four above data frame to create a new GeoDataFrame called `ca_stats`, and make sure it has 8 columns: **\"GEOID\", \"name\", \"area_sqkm\", \"geometry\", \"population\", \"high_earners\", and \"median_age\"**.  Also, make sure the CRS is set to `{'init': 'epsg:4326'}`."
   ],
   "metadata": {
    "collapsed": false,
    "pycharm": {
     "name": "#%% md\n"
    }
   }
  },
  {
   "cell_type": "code",
   "execution_count": 15,
   "outputs": [],
   "source": [
    "ca_counties_path=f\"{root_path}/CA_county_boundaries/CA_county_boundaries.shp\""
   ],
   "metadata": {
    "collapsed": false,
    "pycharm": {
     "name": "#%%\n"
    }
   }
  },
  {
   "cell_type": "code",
   "execution_count": 16,
   "outputs": [
    {
     "data": {
      "text/plain": "   GEOID                  name    area_sqkm  \\\n0   6091         Sierra County  2491.995494   \n1   6067     Sacramento County  2575.258262   \n2   6083  Santa Barbara County  9813.817958   \n3   6009      Calaveras County  2685.626726   \n4   6111        Ventura County  5719.321379   \n\n                                            geometry  \n0  POLYGON ((-120.65560 39.69357, -120.65554 39.6...  \n1  POLYGON ((-121.18858 38.71431, -121.18732 38.7...  \n2  MULTIPOLYGON (((-120.58191 34.09856, -120.5822...  \n3  POLYGON ((-120.63095 38.34111, -120.63058 38.3...  \n4  MULTIPOLYGON (((-119.63631 33.27304, -119.6360...  ",
      "text/html": "<div>\n<style scoped>\n    .dataframe tbody tr th:only-of-type {\n        vertical-align: middle;\n    }\n\n    .dataframe tbody tr th {\n        vertical-align: top;\n    }\n\n    .dataframe thead th {\n        text-align: right;\n    }\n</style>\n<table border=\"1\" class=\"dataframe\">\n  <thead>\n    <tr style=\"text-align: right;\">\n      <th></th>\n      <th>GEOID</th>\n      <th>name</th>\n      <th>area_sqkm</th>\n      <th>geometry</th>\n    </tr>\n  </thead>\n  <tbody>\n    <tr>\n      <th>0</th>\n      <td>6091</td>\n      <td>Sierra County</td>\n      <td>2491.995494</td>\n      <td>POLYGON ((-120.65560 39.69357, -120.65554 39.6...</td>\n    </tr>\n    <tr>\n      <th>1</th>\n      <td>6067</td>\n      <td>Sacramento County</td>\n      <td>2575.258262</td>\n      <td>POLYGON ((-121.18858 38.71431, -121.18732 38.7...</td>\n    </tr>\n    <tr>\n      <th>2</th>\n      <td>6083</td>\n      <td>Santa Barbara County</td>\n      <td>9813.817958</td>\n      <td>MULTIPOLYGON (((-120.58191 34.09856, -120.5822...</td>\n    </tr>\n    <tr>\n      <th>3</th>\n      <td>6009</td>\n      <td>Calaveras County</td>\n      <td>2685.626726</td>\n      <td>POLYGON ((-120.63095 38.34111, -120.63058 38.3...</td>\n    </tr>\n    <tr>\n      <th>4</th>\n      <td>6111</td>\n      <td>Ventura County</td>\n      <td>5719.321379</td>\n      <td>MULTIPOLYGON (((-119.63631 33.27304, -119.6360...</td>\n    </tr>\n  </tbody>\n</table>\n</div>"
     },
     "execution_count": 16,
     "metadata": {},
     "output_type": "execute_result"
    }
   ],
   "source": [
    "ca_counties = gpd.read_file(ca_counties_path)\n",
    "ca_counties.head()"
   ],
   "metadata": {
    "collapsed": false,
    "pycharm": {
     "name": "#%%\n"
    }
   }
  },
  {
   "cell_type": "code",
   "execution_count": 12,
   "outputs": [
    {
     "data": {
      "text/plain": "       population\nGEOID            \n6001      1666753\n6003         1101\n6005        39383\n6007       231256\n6009        45602",
      "text/html": "<div>\n<style scoped>\n    .dataframe tbody tr th:only-of-type {\n        vertical-align: middle;\n    }\n\n    .dataframe tbody tr th {\n        vertical-align: top;\n    }\n\n    .dataframe thead th {\n        text-align: right;\n    }\n</style>\n<table border=\"1\" class=\"dataframe\">\n  <thead>\n    <tr style=\"text-align: right;\">\n      <th></th>\n      <th>population</th>\n    </tr>\n    <tr>\n      <th>GEOID</th>\n      <th></th>\n    </tr>\n  </thead>\n  <tbody>\n    <tr>\n      <th>6001</th>\n      <td>1666753</td>\n    </tr>\n    <tr>\n      <th>6003</th>\n      <td>1101</td>\n    </tr>\n    <tr>\n      <th>6005</th>\n      <td>39383</td>\n    </tr>\n    <tr>\n      <th>6007</th>\n      <td>231256</td>\n    </tr>\n    <tr>\n      <th>6009</th>\n      <td>45602</td>\n    </tr>\n  </tbody>\n</table>\n</div>"
     },
     "execution_count": 12,
     "metadata": {},
     "output_type": "execute_result"
    }
   ],
   "source": [
    "ca_pop_path=f\"{root_path}/CA_county_population.csv\"\n",
    "ca_pop = pd.read_csv(ca_pop_path, index_col=\"GEOID\")\n",
    "ca_pop.head()"
   ],
   "metadata": {
    "collapsed": false,
    "pycharm": {
     "name": "#%%\n"
    }
   }
  },
  {
   "cell_type": "code",
   "execution_count": 13,
   "outputs": [
    {
     "data": {
      "text/plain": "       high_earners\nGEOID              \n6001         145696\n6003             30\n6005           1220\n6007           6860\n6009           2046",
      "text/html": "<div>\n<style scoped>\n    .dataframe tbody tr th:only-of-type {\n        vertical-align: middle;\n    }\n\n    .dataframe tbody tr th {\n        vertical-align: top;\n    }\n\n    .dataframe thead th {\n        text-align: right;\n    }\n</style>\n<table border=\"1\" class=\"dataframe\">\n  <thead>\n    <tr style=\"text-align: right;\">\n      <th></th>\n      <th>high_earners</th>\n    </tr>\n    <tr>\n      <th>GEOID</th>\n      <th></th>\n    </tr>\n  </thead>\n  <tbody>\n    <tr>\n      <th>6001</th>\n      <td>145696</td>\n    </tr>\n    <tr>\n      <th>6003</th>\n      <td>30</td>\n    </tr>\n    <tr>\n      <th>6005</th>\n      <td>1220</td>\n    </tr>\n    <tr>\n      <th>6007</th>\n      <td>6860</td>\n    </tr>\n    <tr>\n      <th>6009</th>\n      <td>2046</td>\n    </tr>\n  </tbody>\n</table>\n</div>"
     },
     "execution_count": 13,
     "metadata": {},
     "output_type": "execute_result"
    }
   ],
   "source": [
    "ca_high_path=f\"{root_path}/CA_county_high_earners.csv\"\n",
    "ca_high_earners = pd.read_csv(ca_high_path, index_col=\"GEOID\")\n",
    "ca_high_earners.head()"
   ],
   "metadata": {
    "collapsed": false,
    "pycharm": {
     "name": "#%%\n"
    }
   }
  },
  {
   "cell_type": "code",
   "execution_count": 14,
   "outputs": [
    {
     "data": {
      "text/plain": "       median_age\nGEOID            \n6001         37.3\n6003         44.9\n6005         50.6\n6007         36.9\n6009         51.6",
      "text/html": "<div>\n<style scoped>\n    .dataframe tbody tr th:only-of-type {\n        vertical-align: middle;\n    }\n\n    .dataframe tbody tr th {\n        vertical-align: top;\n    }\n\n    .dataframe thead th {\n        text-align: right;\n    }\n</style>\n<table border=\"1\" class=\"dataframe\">\n  <thead>\n    <tr style=\"text-align: right;\">\n      <th></th>\n      <th>median_age</th>\n    </tr>\n    <tr>\n      <th>GEOID</th>\n      <th></th>\n    </tr>\n  </thead>\n  <tbody>\n    <tr>\n      <th>6001</th>\n      <td>37.3</td>\n    </tr>\n    <tr>\n      <th>6003</th>\n      <td>44.9</td>\n    </tr>\n    <tr>\n      <th>6005</th>\n      <td>50.6</td>\n    </tr>\n    <tr>\n      <th>6007</th>\n      <td>36.9</td>\n    </tr>\n    <tr>\n      <th>6009</th>\n      <td>51.6</td>\n    </tr>\n  </tbody>\n</table>\n</div>"
     },
     "execution_count": 14,
     "metadata": {},
     "output_type": "execute_result"
    }
   ],
   "source": [
    "ca_median_age_path=f\"{root_path}/CA_county_median_age.csv\"\n",
    "ca_median_age = pd.read_csv(ca_median_age_path, index_col=\"GEOID\")\n",
    "ca_median_age.head()"
   ],
   "metadata": {
    "collapsed": false,
    "pycharm": {
     "name": "#%%\n"
    }
   }
  },
  {
   "cell_type": "code",
   "execution_count": 17,
   "outputs": [
    {
     "data": {
      "text/plain": "   GEOID                  name    area_sqkm  \\\n0   6091         Sierra County  2491.995494   \n1   6067     Sacramento County  2575.258262   \n2   6083  Santa Barbara County  9813.817958   \n3   6009      Calaveras County  2685.626726   \n4   6111        Ventura County  5719.321379   \n\n                                            geometry  population  \\\n0  POLYGON ((-120.65560 39.69357, -120.65554 39.6...        2987   \n1  POLYGON ((-121.18858 38.71431, -121.18732 38.7...     1540975   \n2  MULTIPOLYGON (((-120.58191 34.09856, -120.5822...      446527   \n3  POLYGON ((-120.63095 38.34111, -120.63058 38.3...       45602   \n4  MULTIPOLYGON (((-119.63631 33.27304, -119.6360...      850967   \n\n   high_earners  median_age  \n0           111        55.0  \n1         65768        35.9  \n2         25231        33.7  \n3          2046        51.6  \n4         57121        37.5  ",
      "text/html": "<div>\n<style scoped>\n    .dataframe tbody tr th:only-of-type {\n        vertical-align: middle;\n    }\n\n    .dataframe tbody tr th {\n        vertical-align: top;\n    }\n\n    .dataframe thead th {\n        text-align: right;\n    }\n</style>\n<table border=\"1\" class=\"dataframe\">\n  <thead>\n    <tr style=\"text-align: right;\">\n      <th></th>\n      <th>GEOID</th>\n      <th>name</th>\n      <th>area_sqkm</th>\n      <th>geometry</th>\n      <th>population</th>\n      <th>high_earners</th>\n      <th>median_age</th>\n    </tr>\n  </thead>\n  <tbody>\n    <tr>\n      <th>0</th>\n      <td>6091</td>\n      <td>Sierra County</td>\n      <td>2491.995494</td>\n      <td>POLYGON ((-120.65560 39.69357, -120.65554 39.6...</td>\n      <td>2987</td>\n      <td>111</td>\n      <td>55.0</td>\n    </tr>\n    <tr>\n      <th>1</th>\n      <td>6067</td>\n      <td>Sacramento County</td>\n      <td>2575.258262</td>\n      <td>POLYGON ((-121.18858 38.71431, -121.18732 38.7...</td>\n      <td>1540975</td>\n      <td>65768</td>\n      <td>35.9</td>\n    </tr>\n    <tr>\n      <th>2</th>\n      <td>6083</td>\n      <td>Santa Barbara County</td>\n      <td>9813.817958</td>\n      <td>MULTIPOLYGON (((-120.58191 34.09856, -120.5822...</td>\n      <td>446527</td>\n      <td>25231</td>\n      <td>33.7</td>\n    </tr>\n    <tr>\n      <th>3</th>\n      <td>6009</td>\n      <td>Calaveras County</td>\n      <td>2685.626726</td>\n      <td>POLYGON ((-120.63095 38.34111, -120.63058 38.3...</td>\n      <td>45602</td>\n      <td>2046</td>\n      <td>51.6</td>\n    </tr>\n    <tr>\n      <th>4</th>\n      <td>6111</td>\n      <td>Ventura County</td>\n      <td>5719.321379</td>\n      <td>MULTIPOLYGON (((-119.63631 33.27304, -119.6360...</td>\n      <td>850967</td>\n      <td>57121</td>\n      <td>37.5</td>\n    </tr>\n  </tbody>\n</table>\n</div>"
     },
     "execution_count": 17,
     "metadata": {},
     "output_type": "execute_result"
    }
   ],
   "source": [
    "# creat a new df by using join\n",
    "# note if the first dataframe in the join is a geo dataframe, the result is a geo dataframe, if not, the result will be a dataframe. You can no longer do the geo operations\n",
    "\n",
    "# step 1 join the three dataframe\n",
    "cols_to_add = ca_pop.join([ca_high_earners, ca_median_age]).reset_index()\n",
    "\n",
    "ca_stats = ca_counties.merge(cols_to_add, on=\"GEOID\")\n",
    "\n",
    "ca_stats.head()"
   ],
   "metadata": {
    "collapsed": false,
    "pycharm": {
     "name": "#%%\n"
    }
   }
  },
  {
   "cell_type": "code",
   "execution_count": 18,
   "outputs": [
    {
     "name": "stderr",
     "output_type": "stream",
     "text": [
      "/home/pliu/git/GeoSpatial_analysis_python/venv/lib/python3.8/site-packages/pyproj/crs/crs.py:141: FutureWarning: '+init=<authority>:<code>' syntax is deprecated. '<authority>:<code>' is the preferred initialization method. When making the change, be mindful of axis order changes: https://pyproj4.github.io/pyproj/stable/gotchas.html#axis-order-changes-in-proj-6\n",
      "  in_crs_string = _prepare_from_proj_string(in_crs_string)\n"
     ]
    }
   ],
   "source": [
    "# now change the crs code\n",
    "ca_stats.crs={'init': 'epsg:4326'}"
   ],
   "metadata": {
    "collapsed": false,
    "pycharm": {
     "name": "#%%\n"
    }
   }
  },
  {
   "cell_type": "code",
   "execution_count": 19,
   "outputs": [
    {
     "name": "stdout",
     "output_type": "stream",
     "text": [
      "+init=epsg:4326 +type=crs\n"
     ]
    }
   ],
   "source": [
    "print(ca_stats.crs)"
   ],
   "metadata": {
    "collapsed": false,
    "pycharm": {
     "name": "#%%\n"
    }
   }
  },
  {
   "cell_type": "markdown",
   "source": [
    "Now that we have all of the data in one place, it's much easier to calculate statistics that use a combination of columns.  Below code will create a \"density\" column with the population density."
   ],
   "metadata": {
    "collapsed": false,
    "pycharm": {
     "name": "#%% md\n"
    }
   }
  },
  {
   "cell_type": "code",
   "execution_count": 20,
   "outputs": [
    {
     "data": {
      "text/plain": "   GEOID                  name    area_sqkm  \\\n0   6091         Sierra County  2491.995494   \n1   6067     Sacramento County  2575.258262   \n2   6083  Santa Barbara County  9813.817958   \n3   6009      Calaveras County  2685.626726   \n4   6111        Ventura County  5719.321379   \n\n                                            geometry  population  \\\n0  POLYGON ((-120.65560 39.69357, -120.65554 39.6...        2987   \n1  POLYGON ((-121.18858 38.71431, -121.18732 38.7...     1540975   \n2  MULTIPOLYGON (((-120.58191 34.09856, -120.5822...      446527   \n3  POLYGON ((-120.63095 38.34111, -120.63058 38.3...       45602   \n4  MULTIPOLYGON (((-119.63631 33.27304, -119.6360...      850967   \n\n   high_earners  median_age     density  \n0           111        55.0    1.198638  \n1         65768        35.9  598.376878  \n2         25231        33.7   45.499825  \n3          2046        51.6   16.980022  \n4         57121        37.5  148.788107  ",
      "text/html": "<div>\n<style scoped>\n    .dataframe tbody tr th:only-of-type {\n        vertical-align: middle;\n    }\n\n    .dataframe tbody tr th {\n        vertical-align: top;\n    }\n\n    .dataframe thead th {\n        text-align: right;\n    }\n</style>\n<table border=\"1\" class=\"dataframe\">\n  <thead>\n    <tr style=\"text-align: right;\">\n      <th></th>\n      <th>GEOID</th>\n      <th>name</th>\n      <th>area_sqkm</th>\n      <th>geometry</th>\n      <th>population</th>\n      <th>high_earners</th>\n      <th>median_age</th>\n      <th>density</th>\n    </tr>\n  </thead>\n  <tbody>\n    <tr>\n      <th>0</th>\n      <td>6091</td>\n      <td>Sierra County</td>\n      <td>2491.995494</td>\n      <td>POLYGON ((-120.65560 39.69357, -120.65554 39.6...</td>\n      <td>2987</td>\n      <td>111</td>\n      <td>55.0</td>\n      <td>1.198638</td>\n    </tr>\n    <tr>\n      <th>1</th>\n      <td>6067</td>\n      <td>Sacramento County</td>\n      <td>2575.258262</td>\n      <td>POLYGON ((-121.18858 38.71431, -121.18732 38.7...</td>\n      <td>1540975</td>\n      <td>65768</td>\n      <td>35.9</td>\n      <td>598.376878</td>\n    </tr>\n    <tr>\n      <th>2</th>\n      <td>6083</td>\n      <td>Santa Barbara County</td>\n      <td>9813.817958</td>\n      <td>MULTIPOLYGON (((-120.58191 34.09856, -120.5822...</td>\n      <td>446527</td>\n      <td>25231</td>\n      <td>33.7</td>\n      <td>45.499825</td>\n    </tr>\n    <tr>\n      <th>3</th>\n      <td>6009</td>\n      <td>Calaveras County</td>\n      <td>2685.626726</td>\n      <td>POLYGON ((-120.63095 38.34111, -120.63058 38.3...</td>\n      <td>45602</td>\n      <td>2046</td>\n      <td>51.6</td>\n      <td>16.980022</td>\n    </tr>\n    <tr>\n      <th>4</th>\n      <td>6111</td>\n      <td>Ventura County</td>\n      <td>5719.321379</td>\n      <td>MULTIPOLYGON (((-119.63631 33.27304, -119.6360...</td>\n      <td>850967</td>\n      <td>57121</td>\n      <td>37.5</td>\n      <td>148.788107</td>\n    </tr>\n  </tbody>\n</table>\n</div>"
     },
     "execution_count": 20,
     "metadata": {},
     "output_type": "execute_result"
    }
   ],
   "source": [
    "ca_stats[\"density\"] = ca_stats[\"population\"] / ca_stats[\"area_sqkm\"]\n",
    "ca_stats.head()"
   ],
   "metadata": {
    "collapsed": false,
    "pycharm": {
     "name": "#%%\n"
    }
   }
  },
  {
   "cell_type": "markdown",
   "source": [
    "## Q4 Which counties look promising?\n",
    "\n",
    "Collapsing all of the information into a single GeoDataFrame also makes it much easier to select counties that meet specific criteria.\n",
    "\n",
    "Use the next code cell to create a GeoDataFrame `sel_counties` that contains a subset of the rows (and all of the columns) from the `ca_stats` GeoDataFrame.  In particular, you should select counties where:\n",
    "- there are at least 100,000 households making \\$150,000 per year,\n",
    "- the median age is less than 38.5, and\n",
    "- the density of inhabitants is at least 285 (per square kilometer).\n",
    "\n",
    "Additionally, selected counties should satisfy at least one of the following criteria:\n",
    "- there are at least 500,000 households making \\$150,000 per year,\n",
    "- the median age is less than 35.5, or\n",
    "- the density of inhabitants is at least 1400 (per square kilometer)."
   ],
   "metadata": {
    "collapsed": false,
    "pycharm": {
     "name": "#%% md\n"
    }
   }
  }
 ],
 "metadata": {
  "kernelspec": {
   "display_name": "Python 3",
   "language": "python",
   "name": "python3"
  },
  "language_info": {
   "codemirror_mode": {
    "name": "ipython",
    "version": 2
   },
   "file_extension": ".py",
   "mimetype": "text/x-python",
   "name": "python",
   "nbconvert_exporter": "python",
   "pygments_lexer": "ipython2",
   "version": "2.7.6"
  }
 },
 "nbformat": 4,
 "nbformat_minor": 0
}
