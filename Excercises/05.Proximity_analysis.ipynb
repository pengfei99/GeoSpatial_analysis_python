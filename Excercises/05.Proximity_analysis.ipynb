{
 "cells": [
  {
   "cell_type": "markdown",
   "metadata": {
    "collapsed": true,
    "pycharm": {
     "name": "#%% md\n"
    }
   },
   "source": [
    "# 5. New York car crash medical response\n",
    "\n",
    "Imagine that you are part of a crisis response team, and you want to identify how hospitals have been responding to crash collisions in New York City.\n",
    "\n",
    "We will use two data set:\n",
    "1. crash event in New York city\n",
    "2. hospitals location in New York city\n"
   ]
  },
  {
   "cell_type": "code",
   "execution_count": 1,
   "outputs": [],
   "source": [
    "import math\n",
    "import geopandas as gpd\n",
    "import pandas as pd\n",
    "from shapely.geometry import MultiPolygon\n",
    "\n",
    "import folium\n",
    "from folium import Choropleth, Marker\n",
    "from folium.plugins import HeatMap, MarkerCluster"
   ],
   "metadata": {
    "collapsed": false,
    "pycharm": {
     "name": "#%%\n"
    }
   }
  },
  {
   "cell_type": "code",
   "execution_count": 2,
   "outputs": [],
   "source": [
    "# this function can help you to visualize your map correctly\n",
    "def embed_map(m, file_name):\n",
    "    from IPython.display import IFrame\n",
    "    m.save(file_name)\n",
    "    # return IFrame(file_name, width='100%', height='500px')"
   ],
   "metadata": {
    "collapsed": false,
    "pycharm": {
     "name": "#%%\n"
    }
   }
  },
  {
   "cell_type": "markdown",
   "source": [
    "## Exercises 1. Visualize the collision data.\n",
    "\n",
    "Run the code cell below to load a GeoDataFrame `collisions` which contains all major motor vehicle collisions in 2013-2018 of New York city."
   ],
   "metadata": {
    "collapsed": false,
    "pycharm": {
     "name": "#%% md\n"
    }
   }
  },
  {
   "cell_type": "code",
   "execution_count": 3,
   "outputs": [],
   "source": [
    "root_path=\"/home/pliu/data_set/kaggle/geospatial/L05\"\n",
    "collision_file_path=f\"{root_path}/NYPD_Motor_Vehicle_Collisions/NYPD_Motor_Vehicle_Collisions.shp\""
   ],
   "metadata": {
    "collapsed": false,
    "pycharm": {
     "name": "#%%\n"
    }
   }
  },
  {
   "cell_type": "code",
   "execution_count": 4,
   "outputs": [
    {
     "data": {
      "text/plain": "         DATE   TIME    BOROUGH ZIP CODE   LATITUDE  LONGITUDE  \\\n0  07/30/2019   0:00      BRONX    10464  40.841100 -73.784960   \n1  07/30/2019   0:10     QUEENS    11423  40.710827 -73.770660   \n2  07/30/2019   0:25       None     None  40.880318 -73.841286   \n3  07/30/2019   0:35  MANHATTAN    10036  40.756744 -73.984590   \n4  07/30/2019  10:00   BROOKLYN    11223  40.600090 -73.965910   \n\n                  LOCATION       ON STREET     CROSS STRE  \\\n0     (40.8411, -73.78496)            None           None   \n1   (40.710827, -73.77066)  JAMAICA AVENUE     188 STREET   \n2  (40.880318, -73.841286)     BOSTON ROAD           None   \n3   (40.756744, -73.98459)            None           None   \n4    (40.60009, -73.96591)        AVENUE T  OCEAN PARKWAY   \n\n                 OFF STREET  ...   CONTRIBU_2  CONTRIBU_3  CONTRIBU_4  \\\n0    121       PILOT STREET  ...  Unspecified        None        None   \n1                      None  ...         None        None        None   \n2                      None  ...         None        None        None   \n3  155       WEST 44 STREET  ...         None        None        None   \n4                      None  ...         None        None        None   \n\n   UNIQUE KEY                           VEHICLE TY  \\\n0     4180045                                Sedan   \n1     4180007                                Sedan   \n2     4179575                                Sedan   \n3     4179544                            Box Truck   \n4     4180660  Station Wagon/Sport Utility Vehicle   \n\n                            VEHICLE _1                           VEHICLE _2  \\\n0  Station Wagon/Sport Utility Vehicle  Station Wagon/Sport Utility Vehicle   \n1                                Sedan                                 None   \n2  Station Wagon/Sport Utility Vehicle                                 None   \n3  Station Wagon/Sport Utility Vehicle                                 None   \n4                                 Bike                                 None   \n\n   VEHICLE _3 VEHICLE _4                        geometry  \n0        None       None  POINT (1043750.211 245785.815)  \n1        None       None  POINT (1047831.185 198333.171)  \n2        None       None  POINT (1028139.293 260041.178)  \n3        None       None   POINT (988519.261 214979.320)  \n4        None       None   POINT (993716.669 157907.212)  \n\n[5 rows x 30 columns]",
      "text/html": "<div>\n<style scoped>\n    .dataframe tbody tr th:only-of-type {\n        vertical-align: middle;\n    }\n\n    .dataframe tbody tr th {\n        vertical-align: top;\n    }\n\n    .dataframe thead th {\n        text-align: right;\n    }\n</style>\n<table border=\"1\" class=\"dataframe\">\n  <thead>\n    <tr style=\"text-align: right;\">\n      <th></th>\n      <th>DATE</th>\n      <th>TIME</th>\n      <th>BOROUGH</th>\n      <th>ZIP CODE</th>\n      <th>LATITUDE</th>\n      <th>LONGITUDE</th>\n      <th>LOCATION</th>\n      <th>ON STREET</th>\n      <th>CROSS STRE</th>\n      <th>OFF STREET</th>\n      <th>...</th>\n      <th>CONTRIBU_2</th>\n      <th>CONTRIBU_3</th>\n      <th>CONTRIBU_4</th>\n      <th>UNIQUE KEY</th>\n      <th>VEHICLE TY</th>\n      <th>VEHICLE _1</th>\n      <th>VEHICLE _2</th>\n      <th>VEHICLE _3</th>\n      <th>VEHICLE _4</th>\n      <th>geometry</th>\n    </tr>\n  </thead>\n  <tbody>\n    <tr>\n      <th>0</th>\n      <td>07/30/2019</td>\n      <td>0:00</td>\n      <td>BRONX</td>\n      <td>10464</td>\n      <td>40.841100</td>\n      <td>-73.784960</td>\n      <td>(40.8411, -73.78496)</td>\n      <td>None</td>\n      <td>None</td>\n      <td>121       PILOT STREET</td>\n      <td>...</td>\n      <td>Unspecified</td>\n      <td>None</td>\n      <td>None</td>\n      <td>4180045</td>\n      <td>Sedan</td>\n      <td>Station Wagon/Sport Utility Vehicle</td>\n      <td>Station Wagon/Sport Utility Vehicle</td>\n      <td>None</td>\n      <td>None</td>\n      <td>POINT (1043750.211 245785.815)</td>\n    </tr>\n    <tr>\n      <th>1</th>\n      <td>07/30/2019</td>\n      <td>0:10</td>\n      <td>QUEENS</td>\n      <td>11423</td>\n      <td>40.710827</td>\n      <td>-73.770660</td>\n      <td>(40.710827, -73.77066)</td>\n      <td>JAMAICA AVENUE</td>\n      <td>188 STREET</td>\n      <td>None</td>\n      <td>...</td>\n      <td>None</td>\n      <td>None</td>\n      <td>None</td>\n      <td>4180007</td>\n      <td>Sedan</td>\n      <td>Sedan</td>\n      <td>None</td>\n      <td>None</td>\n      <td>None</td>\n      <td>POINT (1047831.185 198333.171)</td>\n    </tr>\n    <tr>\n      <th>2</th>\n      <td>07/30/2019</td>\n      <td>0:25</td>\n      <td>None</td>\n      <td>None</td>\n      <td>40.880318</td>\n      <td>-73.841286</td>\n      <td>(40.880318, -73.841286)</td>\n      <td>BOSTON ROAD</td>\n      <td>None</td>\n      <td>None</td>\n      <td>...</td>\n      <td>None</td>\n      <td>None</td>\n      <td>None</td>\n      <td>4179575</td>\n      <td>Sedan</td>\n      <td>Station Wagon/Sport Utility Vehicle</td>\n      <td>None</td>\n      <td>None</td>\n      <td>None</td>\n      <td>POINT (1028139.293 260041.178)</td>\n    </tr>\n    <tr>\n      <th>3</th>\n      <td>07/30/2019</td>\n      <td>0:35</td>\n      <td>MANHATTAN</td>\n      <td>10036</td>\n      <td>40.756744</td>\n      <td>-73.984590</td>\n      <td>(40.756744, -73.98459)</td>\n      <td>None</td>\n      <td>None</td>\n      <td>155       WEST 44 STREET</td>\n      <td>...</td>\n      <td>None</td>\n      <td>None</td>\n      <td>None</td>\n      <td>4179544</td>\n      <td>Box Truck</td>\n      <td>Station Wagon/Sport Utility Vehicle</td>\n      <td>None</td>\n      <td>None</td>\n      <td>None</td>\n      <td>POINT (988519.261 214979.320)</td>\n    </tr>\n    <tr>\n      <th>4</th>\n      <td>07/30/2019</td>\n      <td>10:00</td>\n      <td>BROOKLYN</td>\n      <td>11223</td>\n      <td>40.600090</td>\n      <td>-73.965910</td>\n      <td>(40.60009, -73.96591)</td>\n      <td>AVENUE T</td>\n      <td>OCEAN PARKWAY</td>\n      <td>None</td>\n      <td>...</td>\n      <td>None</td>\n      <td>None</td>\n      <td>None</td>\n      <td>4180660</td>\n      <td>Station Wagon/Sport Utility Vehicle</td>\n      <td>Bike</td>\n      <td>None</td>\n      <td>None</td>\n      <td>None</td>\n      <td>POINT (993716.669 157907.212)</td>\n    </tr>\n  </tbody>\n</table>\n<p>5 rows × 30 columns</p>\n</div>"
     },
     "execution_count": 4,
     "metadata": {},
     "output_type": "execute_result"
    }
   ],
   "source": [
    "collision=gpd.read_file(collision_file_path)\n",
    "collision.head()"
   ],
   "metadata": {
    "collapsed": false,
    "pycharm": {
     "name": "#%%\n"
    }
   }
  },
  {
   "cell_type": "markdown",
   "source": [
    "Use the `LATITUDE` and `LONGITUDE` columns to create an interactive map to visualize the collision data.  **What type of map do you think is most effective?**"
   ],
   "metadata": {
    "collapsed": false,
    "pycharm": {
     "name": "#%% md\n"
    }
   }
  },
  {
   "cell_type": "code",
   "execution_count": null,
   "outputs": [],
   "source": [
    "m_1 = folium.Map(location=[40.7, -74], tiles='cartodbpositron',zoom_start=11)\n",
    "\n",
    "# Your code here: Visualize the collision data\n",
    "for idx,row in collision.iterrows():\n",
    "    Marker([row['LATITUDE'], row['LONGITUDE']]).add_to(m_1)\n",
    "\n",
    "# Show the map\n",
    "embed_map(m_1,\"colliion.html\")\n"
   ],
   "metadata": {
    "collapsed": false,
    "pycharm": {
     "name": "#%%\n",
     "is_executing": true
    }
   }
  },
  {
   "cell_type": "code",
   "execution_count": null,
   "outputs": [],
   "source": [],
   "metadata": {
    "collapsed": false,
    "pycharm": {
     "name": "#%%\n"
    }
   }
  },
  {
   "cell_type": "markdown",
   "source": [
    "### 2) Understand hospital coverage.\n",
    "\n",
    "Below code cell to load the hospital data."
   ],
   "metadata": {
    "collapsed": false,
    "pycharm": {
     "name": "#%% md\n"
    }
   }
  },
  {
   "cell_type": "code",
   "execution_count": null,
   "outputs": [],
   "source": [],
   "metadata": {
    "collapsed": false,
    "pycharm": {
     "name": "#%%\n"
    }
   }
  }
 ],
 "metadata": {
  "kernelspec": {
   "display_name": "Python 3",
   "language": "python",
   "name": "python3"
  },
  "language_info": {
   "codemirror_mode": {
    "name": "ipython",
    "version": 2
   },
   "file_extension": ".py",
   "mimetype": "text/x-python",
   "name": "python",
   "nbconvert_exporter": "python",
   "pygments_lexer": "ipython2",
   "version": "2.7.6"
  }
 },
 "nbformat": 4,
 "nbformat_minor": 0
}