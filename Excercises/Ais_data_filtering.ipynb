{
 "cells": [
  {
   "cell_type": "code",
   "execution_count": 21,
   "id": "55775ca2-ff2b-4de9-b38b-c28c08fe5dee",
   "metadata": {},
   "outputs": [],
   "source": [
    "from pyspark.sql import SparkSession, DataFrame\n",
    "from pyspark.sql import functions as F\n",
    "import os"
   ]
  },
  {
   "cell_type": "code",
   "execution_count": 2,
   "id": "873cfda7-bc87-4584-9386-60767ae17dc4",
   "metadata": {},
   "outputs": [
    {
     "name": "stderr",
     "output_type": "stream",
     "text": [
      "2022-11-09 12:28:02,590 WARN util.NativeCodeLoader: Unable to load native-hadoop library for your platform... using builtin-java classes where applicable\n"
     ]
    }
   ],
   "source": [
    "local=True\n",
    "if local:\n",
    "    spark=SparkSession.builder.master(\"local[4]\").appName(\"filter_Ais\").getOrCreate()\n",
    "else:\n",
    "    spark=SparkSession.builder \\\n",
    "                      .master(\"k8s://https://kubernetes.default.svc:443\") \\\n",
    "                      .appName(\"filter_Ais\") \\\n",
    "                      .config(\"spark.kubernetes.container.image\",\"inseefrlab/jupyter-datascience:master\") \\\n",
    "                      .config(\"spark.kubernetes.authenticate.driver.serviceAccountName\",os.environ['KUBERNETES_SERVICE_ACCOUNT']) \\\n",
    "                      .config(\"spark.kubernetes.namespace\", os.environ['KUBERNETES_NAMESPACE']) \\\n",
    "                      .config(\"spark.executor.instances\", \"4\") \\\n",
    "                      .config(\"spark.executor.memory\",\"8g\") \\\n",
    "                      .config('spark.jars.packages', 'org.apache.spark:spark-sql-kafka-0-10_2.12:3.1.1') \\\n",
    "                      .getOrCreate()      "
   ]
  },
  {
   "cell_type": "code",
   "execution_count": 6,
   "id": "01381768-6d3d-490f-bf08-fed46fb830db",
   "metadata": {},
   "outputs": [],
   "source": [
    "ais_file_path=\"s3a://projet-hackathon-un-2022/AIS/ais_azov_black_20220001_20220007.parquet\"\n",
    "his_file_path=\"s3a://projet-hackathon-un-2022/IHS/ship_data.parquet\""
   ]
  },
  {
   "cell_type": "code",
   "execution_count": 7,
   "id": "d6f1a4ec-d7db-4d33-ac80-1027b11ae3be",
   "metadata": {},
   "outputs": [],
   "source": [
    "df_ais=spark.read.parquet(ais_file_path)"
   ]
  },
  {
   "cell_type": "code",
   "execution_count": 8,
   "id": "e5b0514e-666d-46dc-a523-5131b34241ca",
   "metadata": {},
   "outputs": [
    {
     "name": "stderr",
     "output_type": "stream",
     "text": [
      "[Stage 5:=======================================>                   (2 + 1) / 3]\r"
     ]
    },
    {
     "name": "stdout",
     "output_type": "stream",
     "text": [
      "-RECORD 0-----------------------------\n",
      " hex_resolution | 8                   \n",
      " longitude      | 31.40833333         \n",
      " mmsi           | 272157700           \n",
      " destination    | MYKOLAIV            \n",
      " eeid           | 5191743282127358980 \n",
      " H3_int_index_8 | 613021963599740927  \n",
      " latitude       | 47.52666667         \n",
      " dt_insert_utc  | 2022-01-01 05:58:49 \n",
      " polygon_name   | Polygon             \n",
      "only showing top 1 row\n",
      "\n"
     ]
    },
    {
     "name": "stderr",
     "output_type": "stream",
     "text": [
      "                                                                                \r"
     ]
    }
   ],
   "source": [
    "df_ais.show(n=1, truncate=False, vertical=True)"
   ]
  },
  {
   "cell_type": "code",
   "execution_count": 9,
   "id": "ad87d983-d452-4917-99f5-f2ac8d215ea9",
   "metadata": {},
   "outputs": [],
   "source": [
    "df_his=spark.read.parquet(his_file_path)"
   ]
  },
  {
   "cell_type": "code",
   "execution_count": 11,
   "id": "a82c5db5-3320-4b79-b753-3c0415e9775a",
   "metadata": {},
   "outputs": [
    {
     "name": "stderr",
     "output_type": "stream",
     "text": [
      "2022-11-09 12:41:21,572 WARN util.package: Truncated the string representation of a plan since it was too large. This behavior can be adjusted by setting 'spark.sql.debug.maxToStringFields'.\n",
      "[Stage 8:=======================================>                   (2 + 1) / 3]\r"
     ]
    },
    {
     "name": "stdout",
     "output_type": "stream",
     "text": [
      "-RECORD 0-----------------------------------------------------------------------------------------------------------------------------------------------------------------------------------------------------------------------\n",
      " LRIMOShipNo                               | 1000019                                                                                                                                                                            \n",
      " StatCode5                                 | X11A2YP                                                                                                                                                                            \n",
      " AlterationsDescriptiveNarrative           | null                                                                                                                                                                               \n",
      " PropulsionTypeCode                        | DD                                                                                                                                                                                 \n",
      " ShipName                                  | LADY K II                                                                                                                                                                          \n",
      " ExName                                    | Princess Tanya                                                                                                                                                                     \n",
      " MaritimeMobileServiceIdentityMMSINumber   | null                                                                                                                                                                               \n",
      " RegisteredOwnerCode                       | 5976406                                                                                                                                                                            \n",
      " RegisteredOwnerCountryOfRegistration      | Netherlands                                                                                                                                                                        \n",
      " RegisteredOwnerCountryofDomicile          | Netherlands                                                                                                                                                                        \n",
      " ShipManagerCompanyCode                    | 5976406                                                                                                                                                                            \n",
      " ShipManagerCountryOfRegistration          | Netherlands                                                                                                                                                                        \n",
      " ShipManagerCountryofDomicileName          | Netherlands                                                                                                                                                                        \n",
      " GroupBeneficialOwnerCompanyCode           | 5976406.0                                                                                                                                                                          \n",
      " GroupBeneficialOwnerCountryOfRegistration | Netherlands                                                                                                                                                                        \n",
      " GroupBeneficialOwnerCountryofDomicile     | Netherlands                                                                                                                                                                        \n",
      " OperatorCompanyCode                       | 5976406                                                                                                                                                                            \n",
      " OperatorCountryOfRegistration             | Netherlands                                                                                                                                                                        \n",
      " OperatorCountryofDomicileName             | Netherlands                                                                                                                                                                        \n",
      " FlagCode                                  | PAN                                                                                                                                                                                \n",
      " PortofRegistryCode                        | 1010                                                                                                                                                                               \n",
      " Tonnagesystem69convention                 | I                                                                                                                                                                                  \n",
      " GrossTonnage                              | 551                                                                                                                                                                                \n",
      " Deadweight                                | 164                                                                                                                                                                                \n",
      " LengthOverallLOA                          | 57.6                                                                                                                                                                               \n",
      " LengthBetweenPerpendicularsLBP            | 51.8                                                                                                                                                                               \n",
      " LengthRegistered                          | 0.0                                                                                                                                                                                \n",
      " DateOfBuild                               | 196107                                                                                                                                                                             \n",
      " ShipbuilderCompanyCode                    | GBI004351                                                                                                                                                                          \n",
      " YardNumber                                | 819                                                                                                                                                                                \n",
      " NumberofDecks                             | 1                                                                                                                                                                                  \n",
      " HoldsDescriptiveNarrative                 | null                                                                                                                                                                               \n",
      " TanksDescriptiveNarrative                 | null                                                                                                                                                                               \n",
      " NumberofHatches                           | null                                                                                                                                                                               \n",
      " NumberofHolds                             | null                                                                                                                                                                               \n",
      " NumberofTanks                             | null                                                                                                                                                                               \n",
      " InsulatedCapacity                         | 0                                                                                                                                                                                  \n",
      " TEU                                       | 0                                                                                                                                                                                  \n",
      " NumberofMainEngines                       | 2                                                                                                                                                                                  \n",
      " Powerbhpihpshpmax                         | 1680                                                                                                                                                                               \n",
      " Powerkwmax                                | 1236.0                                                                                                                                                                             \n",
      " MainEngineBuilderCode                     | SWZ501551                                                                                                                                                                          \n",
      " MainEngineDesigner                        | Sulzer                                                                                                                                                                             \n",
      " MainEngineModel                           | 8TAD24                                                                                                                                                                             \n",
      " Speed                                     | 13.5                                                                                                                                                                               \n",
      " Speedmax                                  | 15.0                                                                                                                                                                               \n",
      " Speedservice                              | 13.5                                                                                                                                                                               \n",
      " FuelConsumptionTotal                      | 0.0                                                                                                                                                                                \n",
      " CallSign                                  | null                                                                                                                                                                               \n",
      " OfficialNumber                            | null                                                                                                                                                                               \n",
      " HullMaterialCode                          | ST                                                                                                                                                                                 \n",
      " DeathDate                                 | null                                                                                                                                                                               \n",
      " DateBreakingCommenced                     | null                                                                                                                                                                               \n",
      " CompensatedGrossTonnageCGT                | 0.0                                                                                                                                                                                \n",
      " HullTypeCode                              | SH                                                                                                                                                                                 \n",
      " MARPOL13GPhaseoutCategory                 | null                                                                                                                                                                               \n",
      " PermanentBallastCapacity                  | null                                                                                                                                                                               \n",
      " SegregatedBallastTanks                    | null                                                                                                                                                                               \n",
      " HeatingCoilsinCargoTanks                  | No                                                                                                                                                                                 \n",
      " FlashPointOver60c                         | null                                                                                                                                                                               \n",
      " FlashPointUnder60c                        | null                                                                                                                                                                               \n",
      " ShipStatusCode                            | S                                                                                                                                                                                  \n",
      " ShipStatusEffectiveDate                   | 19610000                                                                                                                                                                           \n",
      " ClassificationSocietyCode                 | null                                                                                                                                                                               \n",
      " AuxiliaryEnginesNarrative                 | null                                                                                                                                                                               \n",
      " BreadthExtreme                            | 8.8                                                                                                                                                                                \n",
      " BreadthMoulded                            | 0.0                                                                                                                                                                                \n",
      " ClassNarrative                            | null                                                                                                                                                                               \n",
      " ClassificationSociety                     | null                                                                                                                                                                               \n",
      " ConstructionDescriptiveNarrative          | Statcode5:X11A2YP; Hull Type:Single Hull; Hull Material:Steel; Hull Connections:Welded; Decks:1 dk                                                                                 \n",
      " ConsumptionSpeed1                         | null                                                                                                                                                                               \n",
      " ConsumptionSpeed2                         | null                                                                                                                                                                               \n",
      " ConsumptionValue1                         | null                                                                                                                                                                               \n",
      " ConsumptionValue2                         | null                                                                                                                                                                               \n",
      " Depth                                     | 4.08                                                                                                                                                                               \n",
      " Displacement                              | 0                                                                                                                                                                                  \n",
      " Draught                                   | 3.95                                                                                                                                                                               \n",
      " FlagName                                  | Panama                                                                                                                                                                             \n",
      " FuelType1Capacity                         | 90.0                                                                                                                                                                               \n",
      " FuelType1First                            | Distillate Fuel                                                                                                                                                                    \n",
      " FuelType2Capacity                         | 0.0                                                                                                                                                                                \n",
      " FuelType2Second                           | Not Applicable                                                                                                                                                                     \n",
      " IceCapabilityDescriptiveNarrative         | null                                                                                                                                                                               \n",
      " LightDisplacementTonnage                  | 0.0                                                                                                                                                                                \n",
      " MainEngineRPM                             | null                                                                                                                                                                               \n",
      " MainEngineStrokeType                      | 2                                                                                                                                                                                  \n",
      " MainEngineType                            | Oil                                                                                                                                                                                \n",
      " NetTonnage                                | 165                                                                                                                                                                                \n",
      " NumberOfAllEngines                        | 2                                                                                                                                                                                  \n",
      " NumberOfAuxiliaryEngines                  | null                                                                                                                                                                               \n",
      " NumberofGenerators                        | null                                                                                                                                                                               \n",
      " NumberOfPropulsionUnits                   | 2.0                                                                                                                                                                                \n",
      " NumberofThrusters                         | null                                                                                                                                                                               \n",
      " Powerbhpihpshpservice                     | 0.0                                                                                                                                                                                \n",
      " Powerkwservice                            | 0.0                                                                                                                                                                                \n",
      " PrimeMoverDescriptiveNarrative            | 2 oil engines with flexible couplings & reduction geared to screw shafts  driving 2 FP propellers Total Power:  Mcr 1,236kW (1,680hp)Max. Speed: 15.00kts, Service Speed: 13.50kts \n",
      " PropellerType                             | Fixed Pitch                                                                                                                                                                        \n",
      " PropulsionType                            | Oil Engine(s), Direct Drive                                                                                                                                                        \n",
      " ShipStatus                                | In Service/Commission                                                                                                                                                              \n",
      " ShiptypeLevel5                            | Yacht                                                                                                                                                                              \n",
      " TotalBunkerCapacity                       | null                                                                                                                                                                               \n",
      " TotalHorsepowerofAuxiliaryGenerators      | 700.0                                                                                                                                                                              \n",
      " TotalHorsepowerofMainEngines              | 1680.0                                                                                                                                                                             \n",
      " TotalHorsepowerofMainGenerators           | null                                                                                                                                                                               \n",
      " TotalKilowattsofMainEngines               | 1236.0                                                                                                                                                                             \n",
      " TotalPowerOfAllEngines                    | 1236                                                                                                                                                                               \n",
      " TotalPowerOfAuxiliaryEngines              | null                                                                                                                                                                               \n",
      "only showing top 1 row\n",
      "\n"
     ]
    },
    {
     "name": "stderr",
     "output_type": "stream",
     "text": [
      "                                                                                \r"
     ]
    }
   ],
   "source": [
    "df_his.show(n=1,truncate=False,vertical=True)"
   ]
  },
  {
   "cell_type": "code",
   "execution_count": 12,
   "id": "c36e6f6d-8c80-478e-92b5-13f2a071046e",
   "metadata": {},
   "outputs": [],
   "source": [
    "df_full=df_ais.join(df_his,df_ais.mmsi==df_his.MaritimeMobileServiceIdentityMMSINumber,\"inner\")"
   ]
  },
  {
   "cell_type": "code",
   "execution_count": 13,
   "id": "f294422e-17c5-4ab2-9e11-172962e30bb5",
   "metadata": {},
   "outputs": [
    {
     "name": "stderr",
     "output_type": "stream",
     "text": [
      "[Stage 10:===========================================>              (3 + 1) / 4]\r"
     ]
    },
    {
     "name": "stdout",
     "output_type": "stream",
     "text": [
      "-RECORD 0----------------------------------------------------------------------------------------------------------------------------------------------------------------------------------------------------------------------------------------------\n",
      " hex_resolution                            | 8                                                                                                                                                                                                         \n",
      " longitude                                 | 27.45579667                                                                                                                                                                                               \n",
      " mmsi                                      | 207277000                                                                                                                                                                                                 \n",
      " destination                               | BGBOJ                                                                                                                                                                                                     \n",
      " eeid                                      | 4968832185887542216                                                                                                                                                                                       \n",
      " H3_int_index_8                            | 613031382735650815                                                                                                                                                                                        \n",
      " latitude                                  | 42.48768                                                                                                                                                                                                  \n",
      " dt_insert_utc                             | 2022-01-01 05:35:48                                                                                                                                                                                       \n",
      " polygon_name                              | Polygon                                                                                                                                                                                                   \n",
      " LRIMOShipNo                               | 9031698                                                                                                                                                                                                   \n",
      " StatCode5                                 | A36A2PR                                                                                                                                                                                                   \n",
      " AlterationsDescriptiveNarrative           | null                                                                                                                                                                                                      \n",
      " PropulsionTypeCode                        | DG                                                                                                                                                                                                        \n",
      " ShipName                                  | DRUJBA                                                                                                                                                                                                    \n",
      " ExName                                    | Llevant                                                                                                                                                                                                   \n",
      " MaritimeMobileServiceIdentityMMSINumber   | 2.07277E8                                                                                                                                                                                                 \n",
      " RegisteredOwnerCode                       | 5989248                                                                                                                                                                                                   \n",
      " RegisteredOwnerCountryOfRegistration      | Bulgaria                                                                                                                                                                                                  \n",
      " RegisteredOwnerCountryofDomicile          | Bulgaria                                                                                                                                                                                                  \n",
      " ShipManagerCompanyCode                    | 5803570                                                                                                                                                                                                   \n",
      " ShipManagerCountryOfRegistration          | Bulgaria                                                                                                                                                                                                  \n",
      " ShipManagerCountryofDomicileName          | Bulgaria                                                                                                                                                                                                  \n",
      " GroupBeneficialOwnerCompanyCode           | 5802691.0                                                                                                                                                                                                 \n",
      " GroupBeneficialOwnerCountryOfRegistration | Bulgaria                                                                                                                                                                                                  \n",
      " GroupBeneficialOwnerCountryofDomicile     | Bulgaria                                                                                                                                                                                                  \n",
      " OperatorCompanyCode                       | 5803570                                                                                                                                                                                                   \n",
      " OperatorCountryOfRegistration             | Bulgaria                                                                                                                                                                                                  \n",
      " OperatorCountryofDomicileName             | Bulgaria                                                                                                                                                                                                  \n",
      " FlagCode                                  | BUL                                                                                                                                                                                                       \n",
      " PortofRegistryCode                        | 3048                                                                                                                                                                                                      \n",
      " Tonnagesystem69convention                 | I                                                                                                                                                                                                         \n",
      " GrossTonnage                              | 14398                                                                                                                                                                                                     \n",
      " Deadweight                                | 7330                                                                                                                                                                                                      \n",
      " LengthOverallLOA                          | 150.38                                                                                                                                                                                                    \n",
      " LengthBetweenPerpendicularsLBP            | 137.33                                                                                                                                                                                                    \n",
      " LengthRegistered                          | 137.4                                                                                                                                                                                                     \n",
      " DateOfBuild                               | 199405                                                                                                                                                                                                    \n",
      " ShipbuilderCompanyCode                    | ITL024131                                                                                                                                                                                                 \n",
      " YardNumber                                | 5923                                                                                                                                                                                                      \n",
      " NumberofDecks                             | 2                                                                                                                                                                                                         \n",
      " HoldsDescriptiveNarrative                 | null                                                                                                                                                                                                      \n",
      " TanksDescriptiveNarrative                 | null                                                                                                                                                                                                      \n",
      " NumberofHatches                           | null                                                                                                                                                                                                      \n",
      " NumberofHolds                             | null                                                                                                                                                                                                      \n",
      " NumberofTanks                             | null                                                                                                                                                                                                      \n",
      " InsulatedCapacity                         | 0                                                                                                                                                                                                         \n",
      " TEU                                       | 0                                                                                                                                                                                                         \n",
      " NumberofMainEngines                       | 2                                                                                                                                                                                                         \n",
      " Powerbhpihpshpmax                         | 15662                                                                                                                                                                                                     \n",
      " Powerkwmax                                | 11520.0                                                                                                                                                                                                   \n",
      " MainEngineBuilderCode                     | ITL602659                                                                                                                                                                                                 \n",
      " MainEngineDesigner                        | Sulzer                                                                                                                                                                                                    \n",
      " MainEngineModel                           | 8ZAL40S                                                                                                                                                                                                   \n",
      " Speed                                     | 19.1                                                                                                                                                                                                      \n",
      " Speedmax                                  | 0.0                                                                                                                                                                                                       \n",
      " Speedservice                              | 19.1                                                                                                                                                                                                      \n",
      " FuelConsumptionTotal                      | 42.0                                                                                                                                                                                                      \n",
      " CallSign                                  | LZHX                                                                                                                                                                                                      \n",
      " OfficialNumber                            | 354                                                                                                                                                                                                       \n",
      " HullMaterialCode                          | ST                                                                                                                                                                                                        \n",
      " DeathDate                                 | null                                                                                                                                                                                                      \n",
      " DateBreakingCommenced                     | null                                                                                                                                                                                                      \n",
      " CompensatedGrossTonnageCGT                | 0.0                                                                                                                                                                                                       \n",
      " HullTypeCode                              | DBE                                                                                                                                                                                                       \n",
      " MARPOL13GPhaseoutCategory                 | null                                                                                                                                                                                                      \n",
      " PermanentBallastCapacity                  | null                                                                                                                                                                                                      \n",
      " SegregatedBallastTanks                    | null                                                                                                                                                                                                      \n",
      " HeatingCoilsinCargoTanks                  | Unknown                                                                                                                                                                                                   \n",
      " FlashPointOver60c                         | null                                                                                                                                                                                                      \n",
      " FlashPointUnder60c                        | null                                                                                                                                                                                                      \n",
      " ShipStatusCode                            | S                                                                                                                                                                                                         \n",
      " ShipStatusEffectiveDate                   | 20180217                                                                                                                                                                                                  \n",
      " ClassificationSocietyCode                 | RI                                                                                                                                                                                                        \n",
      " AuxiliaryEnginesNarrative                 | Design: Yanmar, Engine Builder: Yanmar 2 x M220L-EN, 4 Stroke 6Cy. 220 x 300, Mcr: 883 kW                                                                                                                 \n",
      " BreadthExtreme                            | 23.43                                                                                                                                                                                                     \n",
      " BreadthMoulded                            | 23.4                                                                                                                                                                                                      \n",
      " ClassNarrative                            | Registro Italiano Navale (1994-06-00) RI: Special Survey Date: 2019-07-08 Class Notation: *100-A-1.1 Ro-ro passenger ship EGCS-SOX (+) IAP (+) IAQ-1 MON-SHAFT Service Restriction: Unrestricted          \n",
      " ClassificationSociety                     | Registro Italiano Navale 1994-06                                                                                                                                                                          \n",
      " ConstructionDescriptiveNarrative          | Statcode5:A36A2PR; Hull Type:Double Bottom Entire Compartment Length; Hull Material:Steel; Hull Connections:Welded; Decks:2 dks; Bulbous bow                                                              \n",
      " ConsumptionSpeed1                         | null                                                                                                                                                                                                      \n",
      " ConsumptionSpeed2                         | null                                                                                                                                                                                                      \n",
      " ConsumptionValue1                         | null                                                                                                                                                                                                      \n",
      " ConsumptionValue2                         | null                                                                                                                                                                                                      \n",
      " Depth                                     | 13.4                                                                                                                                                                                                      \n",
      " Displacement                              | 12960                                                                                                                                                                                                     \n",
      " Draught                                   | 6.015                                                                                                                                                                                                     \n",
      " FlagName                                  | Bulgaria                                                                                                                                                                                                  \n",
      " FuelType1Capacity                         | 90.0                                                                                                                                                                                                      \n",
      " FuelType1First                            | Distillate Fuel                                                                                                                                                                                           \n",
      " FuelType2Capacity                         | 655.0                                                                                                                                                                                                     \n",
      " FuelType2Second                           | Residual Fuel                                                                                                                                                                                             \n",
      " IceCapabilityDescriptiveNarrative         | null                                                                                                                                                                                                      \n",
      " LightDisplacementTonnage                  | 5630.0                                                                                                                                                                                                    \n",
      " MainEngineRPM                             | 514.0                                                                                                                                                                                                     \n",
      " MainEngineStrokeType                      | 4                                                                                                                                                                                                         \n",
      " MainEngineType                            | Oil                                                                                                                                                                                                       \n",
      " NetTonnage                                | 4319                                                                                                                                                                                                      \n",
      " NumberOfAllEngines                        | 4                                                                                                                                                                                                         \n",
      " NumberOfAuxiliaryEngines                  | 2.0                                                                                                                                                                                                       \n",
      " NumberofGenerators                        | null                                                                                                                                                                                                      \n",
      " NumberOfPropulsionUnits                   | 2.0                                                                                                                                                                                                       \n",
      " NumberofThrusters                         | 1.0                                                                                                                                                                                                       \n",
      " Powerbhpihpshpservice                     | 14086.0                                                                                                                                                                                                   \n",
      " Powerkwservice                            | 10360.0                                                                                                                                                                                                   \n",
      " PrimeMoverDescriptiveNarrative            | 2 oil engines with flexible couplings & single reduction geared to screw shafts driving 2 CP propellers  at 165 rpm Total Power:  Mcr 11,520kW (15,662hp), Csr 10,360kW (14,086hp)Service Speed: 19.10kts \n",
      " PropellerType                             | Controllable Pitch                                                                                                                                                                                        \n",
      " PropulsionType                            | Oil Engine(s), Geared Drive                                                                                                                                                                               \n",
      " ShipStatus                                | In Service/Commission                                                                                                                                                                                     \n",
      " ShiptypeLevel5                            | Passenger/Ro-Ro Ship (Vehicles)                                                                                                                                                                           \n",
      " TotalBunkerCapacity                       | 745.0                                                                                                                                                                                                     \n",
      " TotalHorsepowerofAuxiliaryGenerators      | 4292.0                                                                                                                                                                                                    \n",
      " TotalHorsepowerofMainEngines              | 15662.0                                                                                                                                                                                                   \n",
      " TotalHorsepowerofMainGenerators           | null                                                                                                                                                                                                      \n",
      " TotalKilowattsofMainEngines               | 11520.0                                                                                                                                                                                                   \n",
      " TotalPowerOfAllEngines                    | 13286                                                                                                                                                                                                     \n",
      " TotalPowerOfAuxiliaryEngines              | 1766.0                                                                                                                                                                                                    \n",
      "only showing top 1 row\n",
      "\n"
     ]
    },
    {
     "name": "stderr",
     "output_type": "stream",
     "text": [
      "                                                                                \r"
     ]
    }
   ],
   "source": [
    "df_full.show(n=1,truncate=False,vertical=True)"
   ]
  },
  {
   "cell_type": "markdown",
   "id": "6d8bc534-e79c-4a4e-b549-1a11c0732a5f",
   "metadata": {},
   "source": [
    "# scenario 1\n",
    "\n",
    "We want to know the percentage of the ship number of a certain day of the whole data set. \n",
    "- get the ship number of the whole data set\n",
    "- get the ship number of the given day\n",
    "- get the percentage"
   ]
  },
  {
   "cell_type": "code",
   "execution_count": 19,
   "id": "069e8891-bc39-48f4-ac50-04e22b58980d",
   "metadata": {},
   "outputs": [
    {
     "name": "stdout",
     "output_type": "stream",
     "text": [
      "3253\n"
     ]
    }
   ],
   "source": [
    "ship_id_col=\"mmsi\"\n",
    "date_col=\"dt_insert_utc\"\n",
    "\n",
    "total_ship_number=df_ais.select(ship_id_col).distinct().count()\n",
    "print(total_ship_number)"
   ]
  },
  {
   "cell_type": "code",
   "execution_count": 44,
   "id": "4cc00a4f-35d8-4f82-a2b4-34513a7ab23f",
   "metadata": {},
   "outputs": [
    {
     "name": "stdout",
     "output_type": "stream",
     "text": [
      "2328\n"
     ]
    },
    {
     "name": "stderr",
     "output_type": "stream",
     "text": [
      "                                                                                \r"
     ]
    }
   ],
   "source": [
    "target_date=\"2022-01-04\"\n",
    "\n",
    "ship_number_of_day=df_ais.withColumn(\"date\",F.to_date(date_col)).filter(F.col(\"date\") == F.lit(target_date)).select(ship_id_col).distinct().count()\n",
    "print(ship_number_of_day)"
   ]
  },
  {
   "cell_type": "code",
   "execution_count": 45,
   "id": "b180ca44-c13e-4232-bd88-3317ffbe4a1b",
   "metadata": {},
   "outputs": [
    {
     "name": "stdout",
     "output_type": "stream",
     "text": [
      "71.56470949892407\n"
     ]
    }
   ],
   "source": [
    "number_percentage=(ship_number_of_day/total_ship_number)*100\n",
    "print(number_percentage)"
   ]
  },
  {
   "cell_type": "code",
   "execution_count": 54,
   "id": "a182497d-9d33-42bd-873f-f69098e39ddc",
   "metadata": {},
   "outputs": [],
   "source": [
    "# df_all should be a data frame return by the af.get_ais() with certain fi\n",
    "\n",
    "def get_ship_nb_percentage_of_day(df_all,target_date):\n",
    "    ship_id_col=\"mmsi\"\n",
    "    date_col=\"dt_insert_utc\"\n",
    "    total_ship_number=df_all.select(ship_id_col).distinct().count()\n",
    "    ship_number_of_day=df_all.withColumn(\"date\",F.to_date(date_col)).filter(F.col(\"date\") == F.lit(target_date)).select(ship_id_col).distinct().count()\n",
    "    return (ship_number_of_day/total_ship_number)*100"
   ]
  },
  {
   "cell_type": "code",
   "execution_count": 55,
   "id": "5902cc9c-5b08-4dc1-88c5-8878c615676c",
   "metadata": {},
   "outputs": [
    {
     "name": "stderr",
     "output_type": "stream",
     "text": [
      "[Stage 86:===========================================>              (3 + 1) / 4]\r"
     ]
    },
    {
     "name": "stdout",
     "output_type": "stream",
     "text": [
      "71.56470949892407\n"
     ]
    },
    {
     "name": "stderr",
     "output_type": "stream",
     "text": [
      "                                                                                \r"
     ]
    }
   ],
   "source": [
    "res=get_ship_nb_percentage_of_day(df_ais,target_date)\n",
    "print(res)"
   ]
  },
  {
   "cell_type": "code",
   "execution_count": null,
   "id": "8f87596b-6666-481e-9d0d-a4d49a39175d",
   "metadata": {},
   "outputs": [],
   "source": []
  },
  {
   "cell_type": "markdown",
   "id": "435a244b-dd7e-4d22-b7a7-abe11d8e58a8",
   "metadata": {},
   "source": [
    "# scenario 2\n",
    "\n",
    "We want to know the percentage of the ship tonage of a certain day of the whole data set. \n",
    "- get the distinct ship of the whole data set, and sum their tonage \n",
    "- get the distinct ship of the given day, and sum their tonage\n",
    "- get the percentage"
   ]
  },
  {
   "cell_type": "code",
   "execution_count": 59,
   "id": "ec03f139-3a2a-4c99-908f-03ff08a100eb",
   "metadata": {},
   "outputs": [],
   "source": [
    "all_ship_mmsi=df_ais.select(ship_id_col).distinct().toPandas()['mmsi'].tolist()"
   ]
  },
  {
   "cell_type": "code",
   "execution_count": null,
   "id": "e32574a9-363f-423c-ab24-2a8c105155a8",
   "metadata": {},
   "outputs": [],
   "source": [
    "print(all_ship_mmsi)"
   ]
  },
  {
   "cell_type": "code",
   "execution_count": 61,
   "id": "fc8af155-9df7-42fe-8f4e-52ebf4aad630",
   "metadata": {},
   "outputs": [
    {
     "name": "stdout",
     "output_type": "stream",
     "text": [
      "20633751\n"
     ]
    }
   ],
   "source": [
    "all_ship_tonage=df_his.filter(F.col(\"MaritimeMobileServiceIdentityMMSINumber\").isin(all_ship_mmsi)).agg(F.sum(\"GrossTonnage\")).collect()[0][0]\n",
    "print(all_ship_tonage)"
   ]
  },
  {
   "cell_type": "code",
   "execution_count": 62,
   "id": "0b8ef1cd-636e-4ff5-a2ca-efcb4bfce768",
   "metadata": {},
   "outputs": [
    {
     "name": "stderr",
     "output_type": "stream",
     "text": [
      "                                                                                \r"
     ]
    }
   ],
   "source": [
    "ship_mmsi_of_day=df_ais.withColumn(\"date\",F.to_date(date_col)).filter(F.col(\"date\") == F.lit(target_date)).select(ship_id_col).distinct().toPandas()['mmsi'].tolist()"
   ]
  },
  {
   "cell_type": "code",
   "execution_count": null,
   "id": "0ff31f74-3890-4d50-b6e3-c13b819cdd91",
   "metadata": {},
   "outputs": [],
   "source": [
    "print(ship_mmsi_of_day)"
   ]
  },
  {
   "cell_type": "code",
   "execution_count": 64,
   "id": "3318d0b9-0d18-4601-968e-f96c407163e6",
   "metadata": {},
   "outputs": [
    {
     "name": "stdout",
     "output_type": "stream",
     "text": [
      "14822274\n"
     ]
    }
   ],
   "source": [
    "ship_tonage_of_day=df_his.filter(F.col(\"MaritimeMobileServiceIdentityMMSINumber\").isin(ship_mmsi_of_day)).agg(F.sum(\"GrossTonnage\")).collect()[0][0]\n",
    "print(ship_tonage_of_day)"
   ]
  },
  {
   "cell_type": "code",
   "execution_count": 65,
   "id": "658a5a16-2a83-4e1c-bc2a-df7c944d6f62",
   "metadata": {},
   "outputs": [
    {
     "name": "stdout",
     "output_type": "stream",
     "text": [
      "71.83509193263018\n"
     ]
    }
   ],
   "source": [
    "tonage_percentage=(ship_tonage_of_day/all_ship_tonage)*100\n",
    "print(tonage_percentage)"
   ]
  },
  {
   "cell_type": "code",
   "execution_count": 56,
   "id": "6e3955f4-804b-46c9-bba1-8bc430a8befe",
   "metadata": {},
   "outputs": [],
   "source": [
    "def get_ship_tonage_percentage_of_day(df_all,df_his,target_date):\n",
    "    ship_id_col=\"mmsi\"\n",
    "    date_col=\"dt_insert_utc\"\n",
    "    all_ship_mmsi=df_all.select(ship_id_col).distinct().toPandas()['mmsi'].tolist()\n",
    "    all_ship_tonage=df_his.filter(F.col(\"MaritimeMobileServiceIdentityMMSINumber\").isin(all_ship_mmsi)).agg(F.sum(\"GrossTonnage\")).collect()[0][0]\n",
    "    ship_mmsi_of_day=df_all.withColumn(\"date\",F.to_date(date_col)).filter(F.col(\"date\") == F.lit(target_date)).select(ship_id_col).distinct().toPandas()['mmsi'].tolist()\n",
    "    ship_tonage_of_day=df_his.filter(F.col(\"MaritimeMobileServiceIdentityMMSINumber\").isin(ship_mmsi_of_day)).agg(F.sum(\"GrossTonnage\")).collect()[0][0]\n",
    "    return (ship_tonage_of_day/all_ship_tonage)*100"
   ]
  },
  {
   "cell_type": "code",
   "execution_count": 58,
   "id": "d496dc5c-e610-4502-8b72-eaba221d75fc",
   "metadata": {},
   "outputs": [
    {
     "name": "stderr",
     "output_type": "stream",
     "text": [
      "                                                                                \r"
     ]
    },
    {
     "name": "stdout",
     "output_type": "stream",
     "text": [
      "71.83509193263018\n"
     ]
    },
    {
     "name": "stderr",
     "output_type": "stream",
     "text": [
      "                                                                                \r"
     ]
    }
   ],
   "source": [
    "res=get_ship_tonage_percentage_of_day(df_ais,df_his,target_date)\n",
    "print(res)"
   ]
  },
  {
   "cell_type": "code",
   "execution_count": null,
   "id": "58871d44-9638-45e9-abaf-fb5ad2369db6",
   "metadata": {},
   "outputs": [],
   "source": []
  },
  {
   "cell_type": "markdown",
   "id": "ae338f18-3bed-4f41-950b-936b77bbdd05",
   "metadata": {},
   "source": [
    "# scenario 3\n",
    "\n",
    "We want to know the percentage of the ship number of a certain area (a given polygon) of the whole data set. \n",
    "- get the ship number of the whole data set\n",
    "- get the ship number of the given zone (We filter a zone by their polygon_name)\n",
    "- get the percentage"
   ]
  },
  {
   "cell_type": "code",
   "execution_count": null,
   "id": "9cac47cf-ee3b-400b-8816-cf724dc3afe3",
   "metadata": {},
   "outputs": [],
   "source": [
    "# Set coordinates of the selected polygons in geojson format\n",
    "# https://boundingbox.klokantech.com/\n",
    "\n",
    "azov_black_geoj = [[43.3308500839,39.9913666442],[26.1506878922,41.33737686],[27.1872912828,48.4341912681],[44.3674534746,47.2431326615],[43.3308500839,39.9913666442]]\n",
    "\n",
    "polygon = {\n",
    "        \"type\": \"Polygon\",\n",
    "        \"coordinates\": [bb]\n",
    "    }\n",
    "\n",
    "azov_black_df = af.polygon_to_hex_df([(\"polygon_azov_black\", polygon)])\n",
    "\n",
    "# Filter boats that were at least 1 time in our polygon\n",
    "\n",
    "start_date = datetime.fromisoformat(\"2022-01-01\")\n",
    "end_date = datetime.fromisoformat(\"2022-06-30\")\n",
    "columns = [\"mmsi\", \"latitude\", \"longitude\", \"eeid\", \"dt_insert_utc\", \"destination\"]\n",
    "\n"
   ]
  },
  {
   "cell_type": "code",
   "execution_count": null,
   "id": "97f112ec-3d58-4e6b-84e2-df53ad2dc8fb",
   "metadata": {},
   "outputs": [],
   "source": [
    "ship_id_col=\"mmsi\"\n",
    "\n",
    "# get world wide AIS\n",
    "df_all = af.get_ais(spark,\n",
    "                            start_date, \n",
    "                            end_date = end_date,\n",
    "                            columns = columns\n",
    "                           )\n",
    "total_ship_number=df_all.select(ship_id_col).distinct().count()"
   ]
  },
  {
   "cell_type": "code",
   "execution_count": null,
   "id": "7238f763-21d0-4a57-91bf-c79f6e31fbd6",
   "metadata": {},
   "outputs": [],
   "source": [
    "df_azov_black = af.get_ais(spark,\n",
    "                            start_date, \n",
    "                            end_date = end_date,\n",
    "                            columns = columns,\n",
    "                            polygon_hex_df = azov_black_df\n",
    "                           )\n",
    "\n",
    "azov_black_ship_number=df_azov_black.select(ship_id_col).distinct().count()"
   ]
  },
  {
   "cell_type": "code",
   "execution_count": null,
   "id": "dde2726f-6246-4931-8d0d-d01d03b54010",
   "metadata": {},
   "outputs": [],
   "source": [
    "percentage=(azov_black_ship_number/total_ship_number)*100"
   ]
  },
  {
   "cell_type": "markdown",
   "id": "88389a56-d137-41a0-96a8-d40d3d68803e",
   "metadata": {},
   "source": [
    "# scenario 4\n",
    "\n",
    "We want to know the percentage of the ship tonage of a certain day of the whole data set. \n",
    "- get the distinct ship of the whole data set, and sum their tonage \n",
    "- get the distinct ship of the given day, and sum their tonage\n",
    "- get the percentage"
   ]
  },
  {
   "cell_type": "code",
   "execution_count": null,
   "id": "6de23475-f27e-4d17-8aea-197711d4449d",
   "metadata": {},
   "outputs": [],
   "source": [
    "all_ship_mmsi=df_all.select(ship_id_col).distinct().toPandas()['mmsi'].tolist()\n",
    "all_ship_tonage=df_his.filter(F.col(\"MaritimeMobileServiceIdentityMMSINumber\").isin(all_ship_mmsi)).agg(F.sum(\"GrossTonnage\")).collect()[0][0]\n",
    "print(all_ship_tonage)"
   ]
  },
  {
   "cell_type": "code",
   "execution_count": null,
   "id": "5521f0d0-44b3-4d97-88dc-42f92d36ba4a",
   "metadata": {},
   "outputs": [],
   "source": [
    "ship_mmsi_of_azov_black=df_ais.select(ship_id_col).distinct().toPandas()['mmsi'].tolist()\n",
    "ship_tonage_of_azov=df_his.filter(F.col(\"MaritimeMobileServiceIdentityMMSINumber\").isin(all_ship_mmsi)).agg(F.sum(\"GrossTonnage\")).collect()[0][0]\n",
    "print(ship_tonage_of_azov)"
   ]
  },
  {
   "cell_type": "code",
   "execution_count": null,
   "id": "4944d46f-3dad-45cb-bc23-28ccc6f5cb66",
   "metadata": {},
   "outputs": [],
   "source": [
    "tonage_percetage=(ship_tonage_of_azov/all_ship_tonage)*100"
   ]
  },
  {
   "cell_type": "markdown",
   "id": "f436312b-a01d-43fa-991a-82896524ab76",
   "metadata": {},
   "source": [
    "# helper function get mmsi list by day\n",
    "\n",
    "We want to get the mmsi list of a dataset day by day"
   ]
  },
  {
   "cell_type": "code",
   "execution_count": 68,
   "id": "c0285a2f-d0ce-46e0-83ab-9d267e3d93dd",
   "metadata": {},
   "outputs": [],
   "source": [
    "def get_distinct_mmsi_by_day(df_all):\n",
    "    return df_all.withColumn(\"date\",F.to_date(date_col)).groupBy(\"date\").agg(F.collect_set(\"mmsi\").alias(\"distinct_mmsi_by_day\")).orderBy(\"date\")"
   ]
  },
  {
   "cell_type": "code",
   "execution_count": 69,
   "id": "2bf88e84-be49-4d1a-8c94-b2083b7a5968",
   "metadata": {},
   "outputs": [
    {
     "name": "stderr",
     "output_type": "stream",
     "text": [
      "[Stage 119:==========================================>              (3 + 1) / 4]\r"
     ]
    },
    {
     "name": "stdout",
     "output_type": "stream",
     "text": [
      "+----------+--------------------+\n",
      "|      date|distinct_mmsi_by_day|\n",
      "+----------+--------------------+\n",
      "|2022-01-01|[264163452, 27333...|\n",
      "|2022-01-02|[273332380, 26416...|\n",
      "|2022-01-03|[264163452, 27333...|\n",
      "|2022-01-04|[264163452, 27333...|\n",
      "|2022-01-05|[271048605, 27333...|\n",
      "|2022-01-06|[273332380, 21512...|\n",
      "|2022-01-07|[273332380, 27104...|\n",
      "+----------+--------------------+\n",
      "\n"
     ]
    },
    {
     "name": "stderr",
     "output_type": "stream",
     "text": [
      "                                                                                \r"
     ]
    }
   ],
   "source": [
    "df_mmsi_by_day=get_distinct_mmsi_by_day(df_ais)\n",
    "df_mmsi_by_day.show()"
   ]
  },
  {
   "cell_type": "code",
   "execution_count": null,
   "id": "46641ab6-6d0d-41c1-a346-8e130baa1900",
   "metadata": {},
   "outputs": [],
   "source": []
  }
 ],
 "metadata": {
  "kernelspec": {
   "display_name": "Python 3 (ipykernel)",
   "language": "python",
   "name": "python3"
  },
  "language_info": {
   "codemirror_mode": {
    "name": "ipython",
    "version": 3
   },
   "file_extension": ".py",
   "mimetype": "text/x-python",
   "name": "python",
   "nbconvert_exporter": "python",
   "pygments_lexer": "ipython3",
   "version": "3.10.4"
  }
 },
 "nbformat": 4,
 "nbformat_minor": 5
}
