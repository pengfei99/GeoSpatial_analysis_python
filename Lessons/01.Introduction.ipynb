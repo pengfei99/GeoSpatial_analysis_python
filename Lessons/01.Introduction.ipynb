{
 "cells": [
  {
   "cell_type": "markdown",
   "metadata": {
    "collapsed": true,
    "pycharm": {
     "name": "#%% md\n"
    }
   },
   "source": [
    "# 1.Introduction\n",
    "\n",
    "In this tutorial, we will learn about different methods to `wrangle` and `visualize` geospatial data, or data with a geographic location.\n",
    "\n",
    "Along the way, you'll offer solutions to several real-world problems like:\n",
    "\n",
    "- Where should a global non-profit expand its reach in remote areas of the Philippines?\n",
    "- How do purple martins, a threatened bird species, travel between North and South America? Are the birds travelling to conservation areas?\n",
    "- Which areas of Japan could potentially benefit from extra earthquake reinforcement?\n",
    "- Which Starbucks stores in California are strong candidates for the next Starbucks Reserve Roastery location?\n",
    "- Does New York City have sufficient hospitals to respond to motor vehicle collisions? Which areas of the city have gaps in coverage?\n",
    "\n",
    "You'll also visualize crime in the city of Boston, examine health facilities in Ghana, explore top universities in Europe, and track releases of toxic chemicals in the United States.\n",
    "\n",
    "In this first tutorial, we'll quickly cover the pre-requisites that you'll need to complete this micro-course. And, if you'd like to review more deeply, we recommend the Pandas micro-course.\n",
    "\n",
    "We'll also get started with visualizing our first geospatial dataset!"
   ]
  },
  {
   "cell_type": "markdown",
   "source": [
    "## 1.1 Reading geo data\n",
    "\n",
    "There are many different geospatial file formats, such as `shapefile, GeoJSON, KML, and GPKG`. We won't discuss their differences in this micro-course, but it's important to mention that:\n",
    "\n",
    "- `shapefile` is the most common file type that you'll encounter, and\n",
    "- We will use **geopandas** liberary to load these geospatial data with the `gpd.read_file()` function."
   ],
   "metadata": {
    "collapsed": false,
    "pycharm": {
     "name": "#%% md\n"
    }
   }
  },
  {
   "cell_type": "code",
   "execution_count": 1,
   "outputs": [],
   "source": [
    "import geopandas as gpd"
   ],
   "metadata": {
    "collapsed": false,
    "pycharm": {
     "name": "#%%\n"
    }
   }
  },
  {
   "cell_type": "code",
   "execution_count": 4,
   "outputs": [],
   "source": [
    "# note in DEC_lands you can find 9 files with different extensions.\n",
    "# They are required for the .shp can be read correctly by geopandas\n",
    "root_dir=\"../data/DEC_lands\"\n",
    "file_path=f\"{root_dir}/DEC_lands.shp\""
   ],
   "metadata": {
    "collapsed": false,
    "pycharm": {
     "name": "#%%\n"
    }
   }
  },
  {
   "cell_type": "code",
   "execution_count": 5,
   "outputs": [
    {
     "data": {
      "text/plain": "   OBJECTID          CATEGORY UNIT                          FACILITY  \\\n0         1  FOR PRES DET PAR  CFP        HANCOCK FP DETACHED PARCEL   \n1         2  FOR PRES DET PAR  CFP        HANCOCK FP DETACHED PARCEL   \n2         3  FOR PRES DET PAR  CFP        HANCOCK FP DETACHED PARCEL   \n3         4  FOR PRES DET PAR  CFP  GREENE COUNTY FP DETACHED PARCEL   \n4         6   FOREST PRESERVE  AFP         SARANAC LAKES WILD FOREST   \n\n         CLASS            UMP                       DESCRIPTIO  REGION  \\\n0  WILD FOREST           None  DELAWARE COUNTY DETACHED PARCEL       4   \n1  WILD FOREST           None  DELAWARE COUNTY DETACHED PARCEL       4   \n2  WILD FOREST           None  DELAWARE COUNTY DETACHED PARCEL       4   \n3  WILD FOREST           None                             None       4   \n4  WILD FOREST  SARANAC LAKES                             None       5   \n\n     COUNTY                                     URL            SOURCE UPDATE_  \\\n0  DELAWARE                  http://www.dec.ny.gov/      DELAWARE RPP    5/12   \n1  DELAWARE                  http://www.dec.ny.gov/      DELAWARE RPP    5/12   \n2  DELAWARE                  http://www.dec.ny.gov/      DELAWARE RPP    5/12   \n3    GREENE                  http://www.dec.ny.gov/        GREENE RPP    5/12   \n4     ESSEX  http://www.dec.ny.gov/lands/22593.html  DECRP, ESSEX RPP   12/96   \n\n      OFFICE       ACRES  LANDS_UID GREENCERT    SHAPE_AREA    SHAPE_LEN  \\\n0   STAMFORD  738.620192        103         N  2.990365e+06  7927.662385   \n1   STAMFORD  282.553140       1218         N  1.143940e+06  4776.375600   \n2   STAMFORD  234.291262       1780         N  9.485476e+05  5783.070364   \n3   STAMFORD  450.106464       2060         N  1.822293e+06  7021.644833   \n4  RAY BROOK   69.702387       1517         N  2.821959e+05  2663.909932   \n\n                                            geometry  \n0  POLYGON ((486093.245 4635308.586, 486787.235 4...  \n1  POLYGON ((491931.514 4637416.256, 491305.424 4...  \n2  POLYGON ((486000.287 4635834.453, 485007.550 4...  \n3  POLYGON ((541716.775 4675243.268, 541217.579 4...  \n4  POLYGON ((583896.043 4909643.187, 583891.200 4...  ",
      "text/html": "<div>\n<style scoped>\n    .dataframe tbody tr th:only-of-type {\n        vertical-align: middle;\n    }\n\n    .dataframe tbody tr th {\n        vertical-align: top;\n    }\n\n    .dataframe thead th {\n        text-align: right;\n    }\n</style>\n<table border=\"1\" class=\"dataframe\">\n  <thead>\n    <tr style=\"text-align: right;\">\n      <th></th>\n      <th>OBJECTID</th>\n      <th>CATEGORY</th>\n      <th>UNIT</th>\n      <th>FACILITY</th>\n      <th>CLASS</th>\n      <th>UMP</th>\n      <th>DESCRIPTIO</th>\n      <th>REGION</th>\n      <th>COUNTY</th>\n      <th>URL</th>\n      <th>SOURCE</th>\n      <th>UPDATE_</th>\n      <th>OFFICE</th>\n      <th>ACRES</th>\n      <th>LANDS_UID</th>\n      <th>GREENCERT</th>\n      <th>SHAPE_AREA</th>\n      <th>SHAPE_LEN</th>\n      <th>geometry</th>\n    </tr>\n  </thead>\n  <tbody>\n    <tr>\n      <th>0</th>\n      <td>1</td>\n      <td>FOR PRES DET PAR</td>\n      <td>CFP</td>\n      <td>HANCOCK FP DETACHED PARCEL</td>\n      <td>WILD FOREST</td>\n      <td>None</td>\n      <td>DELAWARE COUNTY DETACHED PARCEL</td>\n      <td>4</td>\n      <td>DELAWARE</td>\n      <td>http://www.dec.ny.gov/</td>\n      <td>DELAWARE RPP</td>\n      <td>5/12</td>\n      <td>STAMFORD</td>\n      <td>738.620192</td>\n      <td>103</td>\n      <td>N</td>\n      <td>2.990365e+06</td>\n      <td>7927.662385</td>\n      <td>POLYGON ((486093.245 4635308.586, 486787.235 4...</td>\n    </tr>\n    <tr>\n      <th>1</th>\n      <td>2</td>\n      <td>FOR PRES DET PAR</td>\n      <td>CFP</td>\n      <td>HANCOCK FP DETACHED PARCEL</td>\n      <td>WILD FOREST</td>\n      <td>None</td>\n      <td>DELAWARE COUNTY DETACHED PARCEL</td>\n      <td>4</td>\n      <td>DELAWARE</td>\n      <td>http://www.dec.ny.gov/</td>\n      <td>DELAWARE RPP</td>\n      <td>5/12</td>\n      <td>STAMFORD</td>\n      <td>282.553140</td>\n      <td>1218</td>\n      <td>N</td>\n      <td>1.143940e+06</td>\n      <td>4776.375600</td>\n      <td>POLYGON ((491931.514 4637416.256, 491305.424 4...</td>\n    </tr>\n    <tr>\n      <th>2</th>\n      <td>3</td>\n      <td>FOR PRES DET PAR</td>\n      <td>CFP</td>\n      <td>HANCOCK FP DETACHED PARCEL</td>\n      <td>WILD FOREST</td>\n      <td>None</td>\n      <td>DELAWARE COUNTY DETACHED PARCEL</td>\n      <td>4</td>\n      <td>DELAWARE</td>\n      <td>http://www.dec.ny.gov/</td>\n      <td>DELAWARE RPP</td>\n      <td>5/12</td>\n      <td>STAMFORD</td>\n      <td>234.291262</td>\n      <td>1780</td>\n      <td>N</td>\n      <td>9.485476e+05</td>\n      <td>5783.070364</td>\n      <td>POLYGON ((486000.287 4635834.453, 485007.550 4...</td>\n    </tr>\n    <tr>\n      <th>3</th>\n      <td>4</td>\n      <td>FOR PRES DET PAR</td>\n      <td>CFP</td>\n      <td>GREENE COUNTY FP DETACHED PARCEL</td>\n      <td>WILD FOREST</td>\n      <td>None</td>\n      <td>None</td>\n      <td>4</td>\n      <td>GREENE</td>\n      <td>http://www.dec.ny.gov/</td>\n      <td>GREENE RPP</td>\n      <td>5/12</td>\n      <td>STAMFORD</td>\n      <td>450.106464</td>\n      <td>2060</td>\n      <td>N</td>\n      <td>1.822293e+06</td>\n      <td>7021.644833</td>\n      <td>POLYGON ((541716.775 4675243.268, 541217.579 4...</td>\n    </tr>\n    <tr>\n      <th>4</th>\n      <td>6</td>\n      <td>FOREST PRESERVE</td>\n      <td>AFP</td>\n      <td>SARANAC LAKES WILD FOREST</td>\n      <td>WILD FOREST</td>\n      <td>SARANAC LAKES</td>\n      <td>None</td>\n      <td>5</td>\n      <td>ESSEX</td>\n      <td>http://www.dec.ny.gov/lands/22593.html</td>\n      <td>DECRP, ESSEX RPP</td>\n      <td>12/96</td>\n      <td>RAY BROOK</td>\n      <td>69.702387</td>\n      <td>1517</td>\n      <td>N</td>\n      <td>2.821959e+05</td>\n      <td>2663.909932</td>\n      <td>POLYGON ((583896.043 4909643.187, 583891.200 4...</td>\n    </tr>\n  </tbody>\n</table>\n</div>"
     },
     "execution_count": 5,
     "metadata": {},
     "output_type": "execute_result"
    }
   ],
   "source": [
    "# Read in the data\n",
    "full_data = gpd.read_file(file_path)\n",
    "\n",
    "# View the first five rows of the data\n",
    "full_data.head()"
   ],
   "metadata": {
    "collapsed": false,
    "pycharm": {
     "name": "#%%\n"
    }
   }
  },
  {
   "cell_type": "markdown",
   "source": [
    "As you can see in the \"CLASS\" column, each of the first five rows corresponds to a different forest.\n",
    "\n",
    "For the rest of this tutorial, consider a scenario where you'd like to use this data to plan a weekend camping trip. Instead of relying on crowd-sourced reviews online, you decide to create your own map. This way, you can tailor the trip to your specific interests."
   ],
   "metadata": {
    "collapsed": false,
    "pycharm": {
     "name": "#%% md\n"
    }
   }
  },
  {
   "cell_type": "code",
   "execution_count": null,
   "outputs": [],
   "source": [],
   "metadata": {
    "collapsed": false,
    "pycharm": {
     "name": "#%%\n"
    }
   }
  }
 ],
 "metadata": {
  "kernelspec": {
   "display_name": "Python 3",
   "language": "python",
   "name": "python3"
  },
  "language_info": {
   "codemirror_mode": {
    "name": "ipython",
    "version": 2
   },
   "file_extension": ".py",
   "mimetype": "text/x-python",
   "name": "python",
   "nbconvert_exporter": "python",
   "pygments_lexer": "ipython2",
   "version": "2.7.6"
  }
 },
 "nbformat": 4,
 "nbformat_minor": 0
}