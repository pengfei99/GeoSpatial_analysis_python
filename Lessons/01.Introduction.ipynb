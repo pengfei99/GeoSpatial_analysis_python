{
 "cells": [
  {
   "cell_type": "markdown",
   "metadata": {
    "collapsed": true,
    "pycharm": {
     "name": "#%% md\n"
    }
   },
   "source": [
    "# 1.Introduction\n",
    "\n",
    "In this tutorial, we will learn about different methods to `wrangle` and `visualize` geospatial data, or data with a geographic location.\n",
    "\n",
    "Along the way, you'll offer solutions to several real-world problems like:\n",
    "\n",
    "- Where should a global non-profit expand its reach in remote areas of the Philippines?\n",
    "- How do purple martins, a threatened bird species, travel between North and South America? Are the birds travelling to conservation areas?\n",
    "- Which areas of Japan could potentially benefit from extra earthquake reinforcement?\n",
    "- Which Starbucks stores in California are strong candidates for the next Starbucks Reserve Roastery location?\n",
    "- Does New York City have sufficient hospitals to respond to motor vehicle collisions? Which areas of the city have gaps in coverage?\n",
    "\n",
    "You'll also visualize crime in the city of Boston, examine health facilities in Ghana, explore top universities in Europe, and track releases of toxic chemicals in the United States.\n",
    "\n",
    "In this first tutorial, we'll quickly cover the pre-requisites that you'll need to complete this micro-course. And, if you'd like to review more deeply, we recommend the Pandas micro-course.\n",
    "\n",
    "We'll also get started with visualizing our first geospatial dataset!"
   ]
  },
  {
   "cell_type": "markdown",
   "source": [
    "## 1.1 Reading geo data\n",
    "\n",
    "There are many different geospatial file formats, such as `shapefile, GeoJSON, KML, and GPKG`. We won't discuss their differences in this micro-course, but it's important to mention that:\n",
    "\n",
    "- `shapefile` is the most common file type that you'll encounter, and\n",
    "- We will use **geopandas** liberary to load these geospatial data with the `gpd.read_file()` function."
   ],
   "metadata": {
    "collapsed": false,
    "pycharm": {
     "name": "#%% md\n"
    }
   }
  },
  {
   "cell_type": "code",
   "execution_count": 1,
   "outputs": [],
   "source": [
    "import geopandas as gpd"
   ],
   "metadata": {
    "collapsed": false,
    "pycharm": {
     "name": "#%%\n"
    }
   }
  },
  {
   "cell_type": "code",
   "execution_count": null,
   "outputs": [],
   "source": [],
   "metadata": {
    "collapsed": false,
    "pycharm": {
     "name": "#%%\n"
    }
   }
  }
 ],
 "metadata": {
  "kernelspec": {
   "display_name": "Python 3",
   "language": "python",
   "name": "python3"
  },
  "language_info": {
   "codemirror_mode": {
    "name": "ipython",
    "version": 2
   },
   "file_extension": ".py",
   "mimetype": "text/x-python",
   "name": "python",
   "nbconvert_exporter": "python",
   "pygments_lexer": "ipython2",
   "version": "2.7.6"
  }
 },
 "nbformat": 4,
 "nbformat_minor": 0
}