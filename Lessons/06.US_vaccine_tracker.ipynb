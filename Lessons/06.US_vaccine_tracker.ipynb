{
 "cells": [
  {
   "cell_type": "markdown",
   "metadata": {
    "collapsed": true,
    "pycharm": {
     "name": "#%% md\n"
    }
   },
   "source": [
    "# 6. Us vaccine tracker\n",
    "\n",
    "In this tutorial, we will use what we have learned from the previous 5 lessons to create an interactive map to track, for each state, the percentage of inhabitants that have been vaccinated against COVID-19.\n",
    "\n",
    "We'll use two datasets.\n",
    "\n",
    "- The first dataset has the total number of inhabitants of each state, along with latitude and longitude data for each state's capital city.  This dataset is pulled from the 2019 US Census, and you can check the source [here](https://www.kaggle.com/peretzcohen/2019-census-us-population-data-by-state).\n",
    "- The second dataset contains a recent estimate for the total number of people that have been vaccinated in each state.  This [vaccine dataset](https://github.com/owid/covid-19-data/blob/master/public/data/vaccinations/us_state_vaccinations.csv) is drawn from [Our World In Data](https://ourworldindata.org/), who update their vaccine datasets from the CDC quite regularly.  Every time you run this notebook, you'll use the most recent version of their data.\n",
    "\n",
    "In the next code cell, we load and preprocess the data.  As output, you'll see the total percent of the population that has been vaccinated in the US, along with a preview of the Pandas DataFrame that we'll use to make the tracker."
   ]
  },
  {
   "cell_type": "code",
   "execution_count": 1,
   "outputs": [],
   "source": [
    "import pandas as pd\n",
    "from datetime import date, timedelta\n",
    "import folium\n",
    "from folium import Marker\n",
    "from folium.plugins import MarkerCluster\n",
    "import math\n",
    "import matplotlib.pyplot as plt\n",
    "import seaborn as sns"
   ],
   "metadata": {
    "collapsed": false,
    "pycharm": {
     "name": "#%%\n"
    }
   }
  },
  {
   "cell_type": "code",
   "execution_count": 2,
   "outputs": [],
   "source": [
    "root_path=\"/home/pliu/data_set/kaggle/geospatial/L06\"\n",
    "population_file_path=f\"{root_path}/2019_Census_US_Population_Data_By_State_Lat_Long.csv\"\n",
    "# Population Data\n",
    "populationData = pd.read_csv(population_file_path)\n"
   ],
   "metadata": {
    "collapsed": false,
    "pycharm": {
     "name": "#%%\n"
    }
   }
  },
  {
   "cell_type": "code",
   "execution_count": 3,
   "outputs": [
    {
     "data": {
      "text/plain": "        STATE  POPESTIMATE2019        lat        long\n0     Alabama          4903185  32.377716  -86.300568\n1      Alaska           731545  58.301598 -134.420212\n2     Arizona          7278717  33.448143 -112.096962\n3    Arkansas          3017804  34.746613  -92.288986\n4  California         39512223  38.576668 -121.493629",
      "text/html": "<div>\n<style scoped>\n    .dataframe tbody tr th:only-of-type {\n        vertical-align: middle;\n    }\n\n    .dataframe tbody tr th {\n        vertical-align: top;\n    }\n\n    .dataframe thead th {\n        text-align: right;\n    }\n</style>\n<table border=\"1\" class=\"dataframe\">\n  <thead>\n    <tr style=\"text-align: right;\">\n      <th></th>\n      <th>STATE</th>\n      <th>POPESTIMATE2019</th>\n      <th>lat</th>\n      <th>long</th>\n    </tr>\n  </thead>\n  <tbody>\n    <tr>\n      <th>0</th>\n      <td>Alabama</td>\n      <td>4903185</td>\n      <td>32.377716</td>\n      <td>-86.300568</td>\n    </tr>\n    <tr>\n      <th>1</th>\n      <td>Alaska</td>\n      <td>731545</td>\n      <td>58.301598</td>\n      <td>-134.420212</td>\n    </tr>\n    <tr>\n      <th>2</th>\n      <td>Arizona</td>\n      <td>7278717</td>\n      <td>33.448143</td>\n      <td>-112.096962</td>\n    </tr>\n    <tr>\n      <th>3</th>\n      <td>Arkansas</td>\n      <td>3017804</td>\n      <td>34.746613</td>\n      <td>-92.288986</td>\n    </tr>\n    <tr>\n      <th>4</th>\n      <td>California</td>\n      <td>39512223</td>\n      <td>38.576668</td>\n      <td>-121.493629</td>\n    </tr>\n  </tbody>\n</table>\n</div>"
     },
     "execution_count": 3,
     "metadata": {},
     "output_type": "execute_result"
    }
   ],
   "source": [
    "populationData.head()"
   ],
   "metadata": {
    "collapsed": false,
    "pycharm": {
     "name": "#%%\n"
    }
   }
  },
  {
   "cell_type": "code",
   "execution_count": 7,
   "outputs": [
    {
     "name": "stdout",
     "output_type": "stream",
     "text": [
      "2021-06-17\n"
     ]
    }
   ],
   "source": [
    "# Get the most recent date for filtering\n",
    "freshDate = date.today() - timedelta(days=500)\n",
    "freshDate = date.strftime(freshDate,\"%Y%m%d\")\n",
    "freshDate = freshDate[0:4] + \"-\" + freshDate[4:6] + \"-\" + freshDate[6:8]\n",
    "\n",
    "print(freshDate)\n"
   ],
   "metadata": {
    "collapsed": false,
    "pycharm": {
     "name": "#%%\n"
    }
   }
  },
  {
   "cell_type": "code",
   "execution_count": 8,
   "outputs": [
    {
     "data": {
      "text/plain": "            location  people_vaccinated\n156          Alabama          1898131.0\n788           Alaska           348126.0\n1420  American Samoa            24684.0\n2052         Arizona          3518666.0\n2684        Arkansas          1234029.0",
      "text/html": "<div>\n<style scoped>\n    .dataframe tbody tr th:only-of-type {\n        vertical-align: middle;\n    }\n\n    .dataframe tbody tr th {\n        vertical-align: top;\n    }\n\n    .dataframe thead th {\n        text-align: right;\n    }\n</style>\n<table border=\"1\" class=\"dataframe\">\n  <thead>\n    <tr style=\"text-align: right;\">\n      <th></th>\n      <th>location</th>\n      <th>people_vaccinated</th>\n    </tr>\n  </thead>\n  <tbody>\n    <tr>\n      <th>156</th>\n      <td>Alabama</td>\n      <td>1898131.0</td>\n    </tr>\n    <tr>\n      <th>788</th>\n      <td>Alaska</td>\n      <td>348126.0</td>\n    </tr>\n    <tr>\n      <th>1420</th>\n      <td>American Samoa</td>\n      <td>24684.0</td>\n    </tr>\n    <tr>\n      <th>2052</th>\n      <td>Arizona</td>\n      <td>3518666.0</td>\n    </tr>\n    <tr>\n      <th>2684</th>\n      <td>Arkansas</td>\n      <td>1234029.0</td>\n    </tr>\n  </tbody>\n</table>\n</div>"
     },
     "execution_count": 8,
     "metadata": {},
     "output_type": "execute_result"
    }
   ],
   "source": [
    "\n",
    "# Vaccination data, for most recent date\n",
    "vaccinationData = pd.read_csv(f'{root_path}/us_state_vaccinations.csv')\n",
    "vaccinationByLocation = vaccinationData.loc[(vaccinationData.date == freshDate)][[\"location\", \"people_vaccinated\"]]\n",
    "\n",
    "vaccinationByLocation.head()"
   ],
   "metadata": {
    "collapsed": false,
    "pycharm": {
     "name": "#%%\n"
    }
   }
  },
  {
   "cell_type": "code",
   "execution_count": 9,
   "outputs": [
    {
     "data": {
      "text/plain": "                   STATE  POPESTIMATE2019        lat        long  \\\n0                Alabama          4903185  32.377716  -86.300568   \n1                 Alaska           731545  58.301598 -134.420212   \n2                Arizona          7278717  33.448143 -112.096962   \n3               Arkansas          3017804  34.746613  -92.288986   \n4             California         39512223  38.576668 -121.493629   \n5               Colorado          5758736  39.739227 -104.984856   \n6            Connecticut          3565287  41.764046  -72.682198   \n7               Delaware           973764  39.157307  -75.519722   \n8   District of Columbia           705749  38.895110  -77.036370   \n9                Florida         21477737  30.438118  -84.281296   \n10               Georgia         10617423  33.749027  -84.388229   \n11                Hawaii          1415872  21.307442 -157.857376   \n12                 Idaho          1787065  43.617775 -116.199722   \n13              Illinois         12671821  39.798363  -89.654961   \n14               Indiana          6732219  39.768623  -86.162643   \n15                  Iowa          3155070  41.591087  -93.603729   \n16                Kansas          2913314  39.048191  -95.677956   \n17              Kentucky          4467673  38.186722  -84.875374   \n18             Louisiana          4648794  30.457069  -91.187393   \n19                 Maine          1344212  44.307167  -69.781693   \n20              Maryland          6045680  38.978764  -76.490936   \n21         Massachusetts          6892503  42.358162  -71.063698   \n22              Michigan          9986857  42.733635  -84.555328   \n23             Minnesota          5639632  44.955097  -93.102211   \n24           Mississippi          2976149  32.303848  -90.182106   \n25              Missouri          6137428  38.579201  -92.172935   \n26               Montana          1068778  46.585709 -112.018417   \n27              Nebraska          1934408  40.808075  -96.699654   \n28                Nevada          3080156  39.163914 -119.766121   \n29         New Hampshire          1359711  43.206898  -71.537994   \n30            New Jersey          8882190  40.220596  -74.769913   \n31            New Mexico          2096829  35.682240 -105.939728   \n32        North Carolina         10488084  35.780430  -78.639099   \n33          North Dakota           762062  46.820850 -100.783318   \n34                  Ohio         11689100  39.961346  -82.999069   \n35              Oklahoma          3956971  35.492207  -97.503342   \n36                Oregon          4217737  44.938461 -123.030403   \n37          Pennsylvania         12801989  40.264378  -76.883598   \n38          Rhode Island          1059361  41.830914  -71.414963   \n39        South Carolina          5148714  34.000343  -81.033211   \n40          South Dakota           884659  44.367031 -100.346405   \n41             Tennessee          6829174  36.165810  -86.784241   \n42                 Texas         28995881  30.274670  -97.740349   \n43                  Utah          3205958  40.777477 -111.888237   \n44               Vermont           623989  44.262436  -72.580536   \n45              Virginia          8535519  37.538857  -77.433640   \n46            Washington          7614893  47.035805 -122.905014   \n47         West Virginia          1792147  38.336246  -81.612328   \n48             Wisconsin          5822434  43.074684  -89.384445   \n49               Wyoming           578759  41.140259 -104.820236   \n\n    people_vaccinated  percent_vaccinated  \n0           1898131.0            0.387122  \n1            348126.0            0.475878  \n2           3518666.0            0.483418  \n3           1234029.0            0.408916  \n4          23516676.0            0.595175  \n5           3259030.0            0.565928  \n6           2339636.0            0.656227  \n7            553340.0            0.568249  \n8            419800.0            0.594829  \n9          11164738.0            0.519828  \n10          4453331.0            0.419436  \n11           973244.0            0.687381  \n12           694474.0            0.388611  \n13          7318672.0            0.577555  \n14          2929812.0            0.435193  \n15          1595166.0            0.505588  \n16          1405548.0            0.482457  \n17          2162380.0            0.484006  \n18          1730099.0            0.372161  \n19           879336.0            0.654165  \n20          3636573.0            0.601516  \n21          4763233.0            0.691074  \n22          5047582.0            0.505422  \n23          3159057.0            0.560153  \n24          1052092.0            0.353508  \n25          2681887.0            0.436972  \n26           501382.0            0.469117  \n27           966795.0            0.499789  \n28          1473050.0            0.478239  \n29           835574.0            0.614523  \n30                NaN                 NaN  \n31          1259214.0            0.600533  \n32          4658336.0            0.444155  \n33           329215.0            0.432006  \n34          5544431.0            0.474325  \n35          1728521.0            0.436829  \n36          2419637.0            0.573681  \n37          7860716.0            0.614023  \n38           670583.0            0.633007  \n39          2191586.0            0.425657  \n40           439249.0            0.496518  \n41          2774047.0            0.406205  \n42         13587030.0            0.468585  \n43          1517732.0            0.473410  \n44           453657.0            0.727027  \n45          4921991.0            0.576648  \n46          4537915.0            0.595926  \n47           757795.0            0.422842  \n48          3065678.0            0.526529  \n49           221932.0            0.383462  ",
      "text/html": "<div>\n<style scoped>\n    .dataframe tbody tr th:only-of-type {\n        vertical-align: middle;\n    }\n\n    .dataframe tbody tr th {\n        vertical-align: top;\n    }\n\n    .dataframe thead th {\n        text-align: right;\n    }\n</style>\n<table border=\"1\" class=\"dataframe\">\n  <thead>\n    <tr style=\"text-align: right;\">\n      <th></th>\n      <th>STATE</th>\n      <th>POPESTIMATE2019</th>\n      <th>lat</th>\n      <th>long</th>\n      <th>people_vaccinated</th>\n      <th>percent_vaccinated</th>\n    </tr>\n  </thead>\n  <tbody>\n    <tr>\n      <th>0</th>\n      <td>Alabama</td>\n      <td>4903185</td>\n      <td>32.377716</td>\n      <td>-86.300568</td>\n      <td>1898131.0</td>\n      <td>0.387122</td>\n    </tr>\n    <tr>\n      <th>1</th>\n      <td>Alaska</td>\n      <td>731545</td>\n      <td>58.301598</td>\n      <td>-134.420212</td>\n      <td>348126.0</td>\n      <td>0.475878</td>\n    </tr>\n    <tr>\n      <th>2</th>\n      <td>Arizona</td>\n      <td>7278717</td>\n      <td>33.448143</td>\n      <td>-112.096962</td>\n      <td>3518666.0</td>\n      <td>0.483418</td>\n    </tr>\n    <tr>\n      <th>3</th>\n      <td>Arkansas</td>\n      <td>3017804</td>\n      <td>34.746613</td>\n      <td>-92.288986</td>\n      <td>1234029.0</td>\n      <td>0.408916</td>\n    </tr>\n    <tr>\n      <th>4</th>\n      <td>California</td>\n      <td>39512223</td>\n      <td>38.576668</td>\n      <td>-121.493629</td>\n      <td>23516676.0</td>\n      <td>0.595175</td>\n    </tr>\n    <tr>\n      <th>5</th>\n      <td>Colorado</td>\n      <td>5758736</td>\n      <td>39.739227</td>\n      <td>-104.984856</td>\n      <td>3259030.0</td>\n      <td>0.565928</td>\n    </tr>\n    <tr>\n      <th>6</th>\n      <td>Connecticut</td>\n      <td>3565287</td>\n      <td>41.764046</td>\n      <td>-72.682198</td>\n      <td>2339636.0</td>\n      <td>0.656227</td>\n    </tr>\n    <tr>\n      <th>7</th>\n      <td>Delaware</td>\n      <td>973764</td>\n      <td>39.157307</td>\n      <td>-75.519722</td>\n      <td>553340.0</td>\n      <td>0.568249</td>\n    </tr>\n    <tr>\n      <th>8</th>\n      <td>District of Columbia</td>\n      <td>705749</td>\n      <td>38.895110</td>\n      <td>-77.036370</td>\n      <td>419800.0</td>\n      <td>0.594829</td>\n    </tr>\n    <tr>\n      <th>9</th>\n      <td>Florida</td>\n      <td>21477737</td>\n      <td>30.438118</td>\n      <td>-84.281296</td>\n      <td>11164738.0</td>\n      <td>0.519828</td>\n    </tr>\n    <tr>\n      <th>10</th>\n      <td>Georgia</td>\n      <td>10617423</td>\n      <td>33.749027</td>\n      <td>-84.388229</td>\n      <td>4453331.0</td>\n      <td>0.419436</td>\n    </tr>\n    <tr>\n      <th>11</th>\n      <td>Hawaii</td>\n      <td>1415872</td>\n      <td>21.307442</td>\n      <td>-157.857376</td>\n      <td>973244.0</td>\n      <td>0.687381</td>\n    </tr>\n    <tr>\n      <th>12</th>\n      <td>Idaho</td>\n      <td>1787065</td>\n      <td>43.617775</td>\n      <td>-116.199722</td>\n      <td>694474.0</td>\n      <td>0.388611</td>\n    </tr>\n    <tr>\n      <th>13</th>\n      <td>Illinois</td>\n      <td>12671821</td>\n      <td>39.798363</td>\n      <td>-89.654961</td>\n      <td>7318672.0</td>\n      <td>0.577555</td>\n    </tr>\n    <tr>\n      <th>14</th>\n      <td>Indiana</td>\n      <td>6732219</td>\n      <td>39.768623</td>\n      <td>-86.162643</td>\n      <td>2929812.0</td>\n      <td>0.435193</td>\n    </tr>\n    <tr>\n      <th>15</th>\n      <td>Iowa</td>\n      <td>3155070</td>\n      <td>41.591087</td>\n      <td>-93.603729</td>\n      <td>1595166.0</td>\n      <td>0.505588</td>\n    </tr>\n    <tr>\n      <th>16</th>\n      <td>Kansas</td>\n      <td>2913314</td>\n      <td>39.048191</td>\n      <td>-95.677956</td>\n      <td>1405548.0</td>\n      <td>0.482457</td>\n    </tr>\n    <tr>\n      <th>17</th>\n      <td>Kentucky</td>\n      <td>4467673</td>\n      <td>38.186722</td>\n      <td>-84.875374</td>\n      <td>2162380.0</td>\n      <td>0.484006</td>\n    </tr>\n    <tr>\n      <th>18</th>\n      <td>Louisiana</td>\n      <td>4648794</td>\n      <td>30.457069</td>\n      <td>-91.187393</td>\n      <td>1730099.0</td>\n      <td>0.372161</td>\n    </tr>\n    <tr>\n      <th>19</th>\n      <td>Maine</td>\n      <td>1344212</td>\n      <td>44.307167</td>\n      <td>-69.781693</td>\n      <td>879336.0</td>\n      <td>0.654165</td>\n    </tr>\n    <tr>\n      <th>20</th>\n      <td>Maryland</td>\n      <td>6045680</td>\n      <td>38.978764</td>\n      <td>-76.490936</td>\n      <td>3636573.0</td>\n      <td>0.601516</td>\n    </tr>\n    <tr>\n      <th>21</th>\n      <td>Massachusetts</td>\n      <td>6892503</td>\n      <td>42.358162</td>\n      <td>-71.063698</td>\n      <td>4763233.0</td>\n      <td>0.691074</td>\n    </tr>\n    <tr>\n      <th>22</th>\n      <td>Michigan</td>\n      <td>9986857</td>\n      <td>42.733635</td>\n      <td>-84.555328</td>\n      <td>5047582.0</td>\n      <td>0.505422</td>\n    </tr>\n    <tr>\n      <th>23</th>\n      <td>Minnesota</td>\n      <td>5639632</td>\n      <td>44.955097</td>\n      <td>-93.102211</td>\n      <td>3159057.0</td>\n      <td>0.560153</td>\n    </tr>\n    <tr>\n      <th>24</th>\n      <td>Mississippi</td>\n      <td>2976149</td>\n      <td>32.303848</td>\n      <td>-90.182106</td>\n      <td>1052092.0</td>\n      <td>0.353508</td>\n    </tr>\n    <tr>\n      <th>25</th>\n      <td>Missouri</td>\n      <td>6137428</td>\n      <td>38.579201</td>\n      <td>-92.172935</td>\n      <td>2681887.0</td>\n      <td>0.436972</td>\n    </tr>\n    <tr>\n      <th>26</th>\n      <td>Montana</td>\n      <td>1068778</td>\n      <td>46.585709</td>\n      <td>-112.018417</td>\n      <td>501382.0</td>\n      <td>0.469117</td>\n    </tr>\n    <tr>\n      <th>27</th>\n      <td>Nebraska</td>\n      <td>1934408</td>\n      <td>40.808075</td>\n      <td>-96.699654</td>\n      <td>966795.0</td>\n      <td>0.499789</td>\n    </tr>\n    <tr>\n      <th>28</th>\n      <td>Nevada</td>\n      <td>3080156</td>\n      <td>39.163914</td>\n      <td>-119.766121</td>\n      <td>1473050.0</td>\n      <td>0.478239</td>\n    </tr>\n    <tr>\n      <th>29</th>\n      <td>New Hampshire</td>\n      <td>1359711</td>\n      <td>43.206898</td>\n      <td>-71.537994</td>\n      <td>835574.0</td>\n      <td>0.614523</td>\n    </tr>\n    <tr>\n      <th>30</th>\n      <td>New Jersey</td>\n      <td>8882190</td>\n      <td>40.220596</td>\n      <td>-74.769913</td>\n      <td>NaN</td>\n      <td>NaN</td>\n    </tr>\n    <tr>\n      <th>31</th>\n      <td>New Mexico</td>\n      <td>2096829</td>\n      <td>35.682240</td>\n      <td>-105.939728</td>\n      <td>1259214.0</td>\n      <td>0.600533</td>\n    </tr>\n    <tr>\n      <th>32</th>\n      <td>North Carolina</td>\n      <td>10488084</td>\n      <td>35.780430</td>\n      <td>-78.639099</td>\n      <td>4658336.0</td>\n      <td>0.444155</td>\n    </tr>\n    <tr>\n      <th>33</th>\n      <td>North Dakota</td>\n      <td>762062</td>\n      <td>46.820850</td>\n      <td>-100.783318</td>\n      <td>329215.0</td>\n      <td>0.432006</td>\n    </tr>\n    <tr>\n      <th>34</th>\n      <td>Ohio</td>\n      <td>11689100</td>\n      <td>39.961346</td>\n      <td>-82.999069</td>\n      <td>5544431.0</td>\n      <td>0.474325</td>\n    </tr>\n    <tr>\n      <th>35</th>\n      <td>Oklahoma</td>\n      <td>3956971</td>\n      <td>35.492207</td>\n      <td>-97.503342</td>\n      <td>1728521.0</td>\n      <td>0.436829</td>\n    </tr>\n    <tr>\n      <th>36</th>\n      <td>Oregon</td>\n      <td>4217737</td>\n      <td>44.938461</td>\n      <td>-123.030403</td>\n      <td>2419637.0</td>\n      <td>0.573681</td>\n    </tr>\n    <tr>\n      <th>37</th>\n      <td>Pennsylvania</td>\n      <td>12801989</td>\n      <td>40.264378</td>\n      <td>-76.883598</td>\n      <td>7860716.0</td>\n      <td>0.614023</td>\n    </tr>\n    <tr>\n      <th>38</th>\n      <td>Rhode Island</td>\n      <td>1059361</td>\n      <td>41.830914</td>\n      <td>-71.414963</td>\n      <td>670583.0</td>\n      <td>0.633007</td>\n    </tr>\n    <tr>\n      <th>39</th>\n      <td>South Carolina</td>\n      <td>5148714</td>\n      <td>34.000343</td>\n      <td>-81.033211</td>\n      <td>2191586.0</td>\n      <td>0.425657</td>\n    </tr>\n    <tr>\n      <th>40</th>\n      <td>South Dakota</td>\n      <td>884659</td>\n      <td>44.367031</td>\n      <td>-100.346405</td>\n      <td>439249.0</td>\n      <td>0.496518</td>\n    </tr>\n    <tr>\n      <th>41</th>\n      <td>Tennessee</td>\n      <td>6829174</td>\n      <td>36.165810</td>\n      <td>-86.784241</td>\n      <td>2774047.0</td>\n      <td>0.406205</td>\n    </tr>\n    <tr>\n      <th>42</th>\n      <td>Texas</td>\n      <td>28995881</td>\n      <td>30.274670</td>\n      <td>-97.740349</td>\n      <td>13587030.0</td>\n      <td>0.468585</td>\n    </tr>\n    <tr>\n      <th>43</th>\n      <td>Utah</td>\n      <td>3205958</td>\n      <td>40.777477</td>\n      <td>-111.888237</td>\n      <td>1517732.0</td>\n      <td>0.473410</td>\n    </tr>\n    <tr>\n      <th>44</th>\n      <td>Vermont</td>\n      <td>623989</td>\n      <td>44.262436</td>\n      <td>-72.580536</td>\n      <td>453657.0</td>\n      <td>0.727027</td>\n    </tr>\n    <tr>\n      <th>45</th>\n      <td>Virginia</td>\n      <td>8535519</td>\n      <td>37.538857</td>\n      <td>-77.433640</td>\n      <td>4921991.0</td>\n      <td>0.576648</td>\n    </tr>\n    <tr>\n      <th>46</th>\n      <td>Washington</td>\n      <td>7614893</td>\n      <td>47.035805</td>\n      <td>-122.905014</td>\n      <td>4537915.0</td>\n      <td>0.595926</td>\n    </tr>\n    <tr>\n      <th>47</th>\n      <td>West Virginia</td>\n      <td>1792147</td>\n      <td>38.336246</td>\n      <td>-81.612328</td>\n      <td>757795.0</td>\n      <td>0.422842</td>\n    </tr>\n    <tr>\n      <th>48</th>\n      <td>Wisconsin</td>\n      <td>5822434</td>\n      <td>43.074684</td>\n      <td>-89.384445</td>\n      <td>3065678.0</td>\n      <td>0.526529</td>\n    </tr>\n    <tr>\n      <th>49</th>\n      <td>Wyoming</td>\n      <td>578759</td>\n      <td>41.140259</td>\n      <td>-104.820236</td>\n      <td>221932.0</td>\n      <td>0.383462</td>\n    </tr>\n  </tbody>\n</table>\n</div>"
     },
     "execution_count": 9,
     "metadata": {},
     "output_type": "execute_result"
    }
   ],
   "source": [
    "# Vaccination and population data\n",
    "vaccinationAndPopulationByLocation = pd.merge(populationData, vaccinationByLocation, left_on='STATE',right_on='location').drop(columns=\"location\")\n",
    "\n",
    "# Calculate percentage vaccinated by state\n",
    "vaccinationAndPopulationByLocation[\"percent_vaccinated\"] = vaccinationAndPopulationByLocation[\"people_vaccinated\"] / vaccinationAndPopulationByLocation[\"POPESTIMATE2019\"]\n",
    "\n",
    "vaccinationAndPopulationByLocation"
   ],
   "metadata": {
    "collapsed": false,
    "pycharm": {
     "name": "#%%\n"
    }
   }
  },
  {
   "cell_type": "code",
   "execution_count": null,
   "outputs": [],
   "source": [],
   "metadata": {
    "collapsed": false,
    "pycharm": {
     "name": "#%%\n"
    }
   }
  },
  {
   "cell_type": "code",
   "execution_count": 10,
   "outputs": [
    {
     "name": "stdout",
     "output_type": "stream",
     "text": [
      "Percentage Vaccinated in the US: 50.34%\n"
     ]
    }
   ],
   "source": [
    "# Calculate the total percent vaccinated in the US\n",
    "percentageTotal = vaccinationAndPopulationByLocation[\"people_vaccinated\"].sum() / vaccinationAndPopulationByLocation[\"POPESTIMATE2019\"].sum()\n",
    "print('Percentage Vaccinated in the US: {}%'.format(round(percentageTotal*100, 2)))"
   ],
   "metadata": {
    "collapsed": false,
    "pycharm": {
     "name": "#%%\n"
    }
   }
  },
  {
   "cell_type": "code",
   "execution_count": 11,
   "outputs": [
    {
     "data": {
      "text/plain": "<folium.folium.Map at 0x7f90e9912130>",
      "text/html": "<div style=\"width:100%;\"><div style=\"position:relative;width:100%;height:0;padding-bottom:60%;\"><span style=\"color:#565656\">Make this Notebook Trusted to load map: File -> Trust Notebook</span><iframe srcdoc=\"&lt;!DOCTYPE html&gt;\n&lt;head&gt;    \n    &lt;meta http-equiv=&quot;content-type&quot; content=&quot;text/html; charset=UTF-8&quot; /&gt;\n    \n        &lt;script&gt;\n            L_NO_TOUCH = false;\n            L_DISABLE_3D = false;\n        &lt;/script&gt;\n    \n    &lt;style&gt;html, body {width: 100%;height: 100%;margin: 0;padding: 0;}&lt;/style&gt;\n    &lt;style&gt;#map {position:absolute;top:0;bottom:0;right:0;left:0;}&lt;/style&gt;\n    &lt;script src=&quot;https://cdn.jsdelivr.net/npm/leaflet@1.6.0/dist/leaflet.js&quot;&gt;&lt;/script&gt;\n    &lt;script src=&quot;https://code.jquery.com/jquery-1.12.4.min.js&quot;&gt;&lt;/script&gt;\n    &lt;script src=&quot;https://maxcdn.bootstrapcdn.com/bootstrap/3.2.0/js/bootstrap.min.js&quot;&gt;&lt;/script&gt;\n    &lt;script src=&quot;https://cdnjs.cloudflare.com/ajax/libs/Leaflet.awesome-markers/2.0.2/leaflet.awesome-markers.js&quot;&gt;&lt;/script&gt;\n    &lt;link rel=&quot;stylesheet&quot; href=&quot;https://cdn.jsdelivr.net/npm/leaflet@1.6.0/dist/leaflet.css&quot;/&gt;\n    &lt;link rel=&quot;stylesheet&quot; href=&quot;https://maxcdn.bootstrapcdn.com/bootstrap/3.2.0/css/bootstrap.min.css&quot;/&gt;\n    &lt;link rel=&quot;stylesheet&quot; href=&quot;https://maxcdn.bootstrapcdn.com/bootstrap/3.2.0/css/bootstrap-theme.min.css&quot;/&gt;\n    &lt;link rel=&quot;stylesheet&quot; href=&quot;https://maxcdn.bootstrapcdn.com/font-awesome/4.6.3/css/font-awesome.min.css&quot;/&gt;\n    &lt;link rel=&quot;stylesheet&quot; href=&quot;https://cdnjs.cloudflare.com/ajax/libs/Leaflet.awesome-markers/2.0.2/leaflet.awesome-markers.css&quot;/&gt;\n    &lt;link rel=&quot;stylesheet&quot; href=&quot;https://cdn.jsdelivr.net/gh/python-visualization/folium/folium/templates/leaflet.awesome.rotate.min.css&quot;/&gt;\n    \n            &lt;meta name=&quot;viewport&quot; content=&quot;width=device-width,\n                initial-scale=1.0, maximum-scale=1.0, user-scalable=no&quot; /&gt;\n            &lt;style&gt;\n                #map_2138b8b1d1b97fdb4fe6609592f9acae {\n                    position: relative;\n                    width: 100.0%;\n                    height: 100.0%;\n                    left: 0.0%;\n                    top: 0.0%;\n                }\n            &lt;/style&gt;\n        \n    &lt;script src=&quot;https://cdnjs.cloudflare.com/ajax/libs/leaflet.markercluster/1.1.0/leaflet.markercluster.js&quot;&gt;&lt;/script&gt;\n    &lt;link rel=&quot;stylesheet&quot; href=&quot;https://cdnjs.cloudflare.com/ajax/libs/leaflet.markercluster/1.1.0/MarkerCluster.css&quot;/&gt;\n    &lt;link rel=&quot;stylesheet&quot; href=&quot;https://cdnjs.cloudflare.com/ajax/libs/leaflet.markercluster/1.1.0/MarkerCluster.Default.css&quot;/&gt;\n&lt;/head&gt;\n&lt;body&gt;    \n    \n            &lt;div class=&quot;folium-map&quot; id=&quot;map_2138b8b1d1b97fdb4fe6609592f9acae&quot; &gt;&lt;/div&gt;\n        \n&lt;/body&gt;\n&lt;script&gt;    \n    \n            var map_2138b8b1d1b97fdb4fe6609592f9acae = L.map(\n                &quot;map_2138b8b1d1b97fdb4fe6609592f9acae&quot;,\n                {\n                    center: [42.32, -71.0589],\n                    crs: L.CRS.EPSG3857,\n                    zoom: 4,\n                    zoomControl: true,\n                    preferCanvas: false,\n                }\n            );\n\n            \n\n        \n    \n            var tile_layer_23492afa52ba7caae0ab3048d6571ddc = L.tileLayer(\n                &quot;https://cartodb-basemaps-{s}.global.ssl.fastly.net/light_all/{z}/{x}/{y}.png&quot;,\n                {&quot;attribution&quot;: &quot;\\u0026copy; \\u003ca href=\\&quot;http://www.openstreetmap.org/copyright\\&quot;\\u003eOpenStreetMap\\u003c/a\\u003e contributors \\u0026copy; \\u003ca href=\\&quot;http://cartodb.com/attributions\\&quot;\\u003eCartoDB\\u003c/a\\u003e, CartoDB \\u003ca href =\\&quot;http://cartodb.com/attributions\\&quot;\\u003eattributions\\u003c/a\\u003e&quot;, &quot;detectRetina&quot;: false, &quot;maxNativeZoom&quot;: 18, &quot;maxZoom&quot;: 18, &quot;minZoom&quot;: 0, &quot;noWrap&quot;: false, &quot;opacity&quot;: 1, &quot;subdomains&quot;: &quot;abc&quot;, &quot;tms&quot;: false}\n            ).addTo(map_2138b8b1d1b97fdb4fe6609592f9acae);\n        \n    \n            var marker_cluster_0954f6ef3fbd631110bba5f1641149b5 = L.markerClusterGroup(\n                {}\n            );\n            map_2138b8b1d1b97fdb4fe6609592f9acae.addLayer(marker_cluster_0954f6ef3fbd631110bba5f1641149b5);\n        \n    \n            var marker_dc8f757393a2fff05f43d441aec2385f = L.marker(\n                [32.377716, -86.300568],\n                {}\n            ).addTo(marker_cluster_0954f6ef3fbd631110bba5f1641149b5);\n        \n    \n            marker_dc8f757393a2fff05f43d441aec2385f.bindTooltip(\n                `&lt;div&gt;\n                     38.71%\n                 &lt;/div&gt;`,\n                {&quot;sticky&quot;: true}\n            );\n        \n    \n            var marker_2db54f93fa4e2917b3031ca5b4829d7d = L.marker(\n                [58.301598, -134.420212],\n                {}\n            ).addTo(marker_cluster_0954f6ef3fbd631110bba5f1641149b5);\n        \n    \n            marker_2db54f93fa4e2917b3031ca5b4829d7d.bindTooltip(\n                `&lt;div&gt;\n                     47.59%\n                 &lt;/div&gt;`,\n                {&quot;sticky&quot;: true}\n            );\n        \n    \n            var marker_096501212e301c17b0c64f6ca8a96136 = L.marker(\n                [33.448143, -112.096962],\n                {}\n            ).addTo(marker_cluster_0954f6ef3fbd631110bba5f1641149b5);\n        \n    \n            marker_096501212e301c17b0c64f6ca8a96136.bindTooltip(\n                `&lt;div&gt;\n                     48.34%\n                 &lt;/div&gt;`,\n                {&quot;sticky&quot;: true}\n            );\n        \n    \n            var marker_f65e5747e184f7d7ec0d442bd5d3e83b = L.marker(\n                [34.746613, -92.288986],\n                {}\n            ).addTo(marker_cluster_0954f6ef3fbd631110bba5f1641149b5);\n        \n    \n            marker_f65e5747e184f7d7ec0d442bd5d3e83b.bindTooltip(\n                `&lt;div&gt;\n                     40.89%\n                 &lt;/div&gt;`,\n                {&quot;sticky&quot;: true}\n            );\n        \n    \n            var marker_a357dad883071ad0fa0e8a64ec326bb0 = L.marker(\n                [38.576668, -121.493629],\n                {}\n            ).addTo(marker_cluster_0954f6ef3fbd631110bba5f1641149b5);\n        \n    \n            marker_a357dad883071ad0fa0e8a64ec326bb0.bindTooltip(\n                `&lt;div&gt;\n                     59.52%\n                 &lt;/div&gt;`,\n                {&quot;sticky&quot;: true}\n            );\n        \n    \n            var marker_8e47662b07d8ae9231d5ac83c70b7354 = L.marker(\n                [39.739227, -104.984856],\n                {}\n            ).addTo(marker_cluster_0954f6ef3fbd631110bba5f1641149b5);\n        \n    \n            marker_8e47662b07d8ae9231d5ac83c70b7354.bindTooltip(\n                `&lt;div&gt;\n                     56.59%\n                 &lt;/div&gt;`,\n                {&quot;sticky&quot;: true}\n            );\n        \n    \n            var marker_433cabf90ef65efae2fdc230cfa1d356 = L.marker(\n                [41.764046, -72.682198],\n                {}\n            ).addTo(marker_cluster_0954f6ef3fbd631110bba5f1641149b5);\n        \n    \n            marker_433cabf90ef65efae2fdc230cfa1d356.bindTooltip(\n                `&lt;div&gt;\n                     65.62%\n                 &lt;/div&gt;`,\n                {&quot;sticky&quot;: true}\n            );\n        \n    \n            var marker_b4db98d92782a936ac0fc34f93c9d61d = L.marker(\n                [39.157307, -75.519722],\n                {}\n            ).addTo(marker_cluster_0954f6ef3fbd631110bba5f1641149b5);\n        \n    \n            marker_b4db98d92782a936ac0fc34f93c9d61d.bindTooltip(\n                `&lt;div&gt;\n                     56.82%\n                 &lt;/div&gt;`,\n                {&quot;sticky&quot;: true}\n            );\n        \n    \n            var marker_95880c099ce1ee62ed195d2d47ab9de8 = L.marker(\n                [38.89511, -77.03637],\n                {}\n            ).addTo(marker_cluster_0954f6ef3fbd631110bba5f1641149b5);\n        \n    \n            marker_95880c099ce1ee62ed195d2d47ab9de8.bindTooltip(\n                `&lt;div&gt;\n                     59.48%\n                 &lt;/div&gt;`,\n                {&quot;sticky&quot;: true}\n            );\n        \n    \n            var marker_8f8f9efd4f31d0aa3368febb6e59c48a = L.marker(\n                [30.438118, -84.281296],\n                {}\n            ).addTo(marker_cluster_0954f6ef3fbd631110bba5f1641149b5);\n        \n    \n            marker_8f8f9efd4f31d0aa3368febb6e59c48a.bindTooltip(\n                `&lt;div&gt;\n                     51.98%\n                 &lt;/div&gt;`,\n                {&quot;sticky&quot;: true}\n            );\n        \n    \n            var marker_a2221a64f9b4f9aedb01a6ec90e62e8a = L.marker(\n                [33.749027, -84.388229],\n                {}\n            ).addTo(marker_cluster_0954f6ef3fbd631110bba5f1641149b5);\n        \n    \n            marker_a2221a64f9b4f9aedb01a6ec90e62e8a.bindTooltip(\n                `&lt;div&gt;\n                     41.94%\n                 &lt;/div&gt;`,\n                {&quot;sticky&quot;: true}\n            );\n        \n    \n            var marker_d7263258ea10e5aea7edc530850643f7 = L.marker(\n                [21.307442, -157.857376],\n                {}\n            ).addTo(marker_cluster_0954f6ef3fbd631110bba5f1641149b5);\n        \n    \n            marker_d7263258ea10e5aea7edc530850643f7.bindTooltip(\n                `&lt;div&gt;\n                     68.74%\n                 &lt;/div&gt;`,\n                {&quot;sticky&quot;: true}\n            );\n        \n    \n            var marker_d9b57eaaf375dd922f2727eb26838b72 = L.marker(\n                [43.617775, -116.199722],\n                {}\n            ).addTo(marker_cluster_0954f6ef3fbd631110bba5f1641149b5);\n        \n    \n            marker_d9b57eaaf375dd922f2727eb26838b72.bindTooltip(\n                `&lt;div&gt;\n                     38.86%\n                 &lt;/div&gt;`,\n                {&quot;sticky&quot;: true}\n            );\n        \n    \n            var marker_9325e292c2a06721c1caed7b839baced = L.marker(\n                [39.798363, -89.654961],\n                {}\n            ).addTo(marker_cluster_0954f6ef3fbd631110bba5f1641149b5);\n        \n    \n            marker_9325e292c2a06721c1caed7b839baced.bindTooltip(\n                `&lt;div&gt;\n                     57.76%\n                 &lt;/div&gt;`,\n                {&quot;sticky&quot;: true}\n            );\n        \n    \n            var marker_d158fbf8d65d42c9bb0a53b58a55e876 = L.marker(\n                [39.768623, -86.162643],\n                {}\n            ).addTo(marker_cluster_0954f6ef3fbd631110bba5f1641149b5);\n        \n    \n            marker_d158fbf8d65d42c9bb0a53b58a55e876.bindTooltip(\n                `&lt;div&gt;\n                     43.52%\n                 &lt;/div&gt;`,\n                {&quot;sticky&quot;: true}\n            );\n        \n    \n            var marker_72fd59c1b45e274cf60e3212dcf9f947 = L.marker(\n                [41.591087, -93.603729],\n                {}\n            ).addTo(marker_cluster_0954f6ef3fbd631110bba5f1641149b5);\n        \n    \n            marker_72fd59c1b45e274cf60e3212dcf9f947.bindTooltip(\n                `&lt;div&gt;\n                     50.56%\n                 &lt;/div&gt;`,\n                {&quot;sticky&quot;: true}\n            );\n        \n    \n            var marker_5ec3f328ae2264f465f73702d7dfd85d = L.marker(\n                [39.048191, -95.677956],\n                {}\n            ).addTo(marker_cluster_0954f6ef3fbd631110bba5f1641149b5);\n        \n    \n            marker_5ec3f328ae2264f465f73702d7dfd85d.bindTooltip(\n                `&lt;div&gt;\n                     48.25%\n                 &lt;/div&gt;`,\n                {&quot;sticky&quot;: true}\n            );\n        \n    \n            var marker_28617b2acc2a494c8d21ff2c5641bcad = L.marker(\n                [38.186722, -84.875374],\n                {}\n            ).addTo(marker_cluster_0954f6ef3fbd631110bba5f1641149b5);\n        \n    \n            marker_28617b2acc2a494c8d21ff2c5641bcad.bindTooltip(\n                `&lt;div&gt;\n                     48.4%\n                 &lt;/div&gt;`,\n                {&quot;sticky&quot;: true}\n            );\n        \n    \n            var marker_decf17407d3c38be2a4d71de91f5bde7 = L.marker(\n                [30.457069, -91.187393],\n                {}\n            ).addTo(marker_cluster_0954f6ef3fbd631110bba5f1641149b5);\n        \n    \n            marker_decf17407d3c38be2a4d71de91f5bde7.bindTooltip(\n                `&lt;div&gt;\n                     37.22%\n                 &lt;/div&gt;`,\n                {&quot;sticky&quot;: true}\n            );\n        \n    \n            var marker_019b24c125b63ef3a8c695d66fa4a583 = L.marker(\n                [44.307167, -69.781693],\n                {}\n            ).addTo(marker_cluster_0954f6ef3fbd631110bba5f1641149b5);\n        \n    \n            marker_019b24c125b63ef3a8c695d66fa4a583.bindTooltip(\n                `&lt;div&gt;\n                     65.42%\n                 &lt;/div&gt;`,\n                {&quot;sticky&quot;: true}\n            );\n        \n    \n            var marker_cf0d422b5129927bf6163f5747ef08a4 = L.marker(\n                [38.978764, -76.490936],\n                {}\n            ).addTo(marker_cluster_0954f6ef3fbd631110bba5f1641149b5);\n        \n    \n            marker_cf0d422b5129927bf6163f5747ef08a4.bindTooltip(\n                `&lt;div&gt;\n                     60.15%\n                 &lt;/div&gt;`,\n                {&quot;sticky&quot;: true}\n            );\n        \n    \n            var marker_0e4650e793c276b0b87fe6e79a95ced3 = L.marker(\n                [42.358162, -71.063698],\n                {}\n            ).addTo(marker_cluster_0954f6ef3fbd631110bba5f1641149b5);\n        \n    \n            marker_0e4650e793c276b0b87fe6e79a95ced3.bindTooltip(\n                `&lt;div&gt;\n                     69.11%\n                 &lt;/div&gt;`,\n                {&quot;sticky&quot;: true}\n            );\n        \n    \n            var marker_e61b8a9efcd74e26403ae8b9ccd8d4c4 = L.marker(\n                [42.733635, -84.555328],\n                {}\n            ).addTo(marker_cluster_0954f6ef3fbd631110bba5f1641149b5);\n        \n    \n            marker_e61b8a9efcd74e26403ae8b9ccd8d4c4.bindTooltip(\n                `&lt;div&gt;\n                     50.54%\n                 &lt;/div&gt;`,\n                {&quot;sticky&quot;: true}\n            );\n        \n    \n            var marker_b0604b769e4b330f448262c2b39e42c3 = L.marker(\n                [44.955097, -93.102211],\n                {}\n            ).addTo(marker_cluster_0954f6ef3fbd631110bba5f1641149b5);\n        \n    \n            marker_b0604b769e4b330f448262c2b39e42c3.bindTooltip(\n                `&lt;div&gt;\n                     56.02%\n                 &lt;/div&gt;`,\n                {&quot;sticky&quot;: true}\n            );\n        \n    \n            var marker_3a3adcb348b60ff1ce129f526edfb5da = L.marker(\n                [32.303848, -90.182106],\n                {}\n            ).addTo(marker_cluster_0954f6ef3fbd631110bba5f1641149b5);\n        \n    \n            marker_3a3adcb348b60ff1ce129f526edfb5da.bindTooltip(\n                `&lt;div&gt;\n                     35.35%\n                 &lt;/div&gt;`,\n                {&quot;sticky&quot;: true}\n            );\n        \n    \n            var marker_88866213519d361f3689e863f5e0df9c = L.marker(\n                [38.579201, -92.172935],\n                {}\n            ).addTo(marker_cluster_0954f6ef3fbd631110bba5f1641149b5);\n        \n    \n            marker_88866213519d361f3689e863f5e0df9c.bindTooltip(\n                `&lt;div&gt;\n                     43.7%\n                 &lt;/div&gt;`,\n                {&quot;sticky&quot;: true}\n            );\n        \n    \n            var marker_e7ec3528f6fb0abbcd8ee9dc46c6495a = L.marker(\n                [46.585709, -112.018417],\n                {}\n            ).addTo(marker_cluster_0954f6ef3fbd631110bba5f1641149b5);\n        \n    \n            marker_e7ec3528f6fb0abbcd8ee9dc46c6495a.bindTooltip(\n                `&lt;div&gt;\n                     46.91%\n                 &lt;/div&gt;`,\n                {&quot;sticky&quot;: true}\n            );\n        \n    \n            var marker_ffbbbcad74202013ebd1327414d0d8ec = L.marker(\n                [40.808075, -96.699654],\n                {}\n            ).addTo(marker_cluster_0954f6ef3fbd631110bba5f1641149b5);\n        \n    \n            marker_ffbbbcad74202013ebd1327414d0d8ec.bindTooltip(\n                `&lt;div&gt;\n                     49.98%\n                 &lt;/div&gt;`,\n                {&quot;sticky&quot;: true}\n            );\n        \n    \n            var marker_f9a67a23a90748f603ebbfaa9db1f494 = L.marker(\n                [39.163914, -119.766121],\n                {}\n            ).addTo(marker_cluster_0954f6ef3fbd631110bba5f1641149b5);\n        \n    \n            marker_f9a67a23a90748f603ebbfaa9db1f494.bindTooltip(\n                `&lt;div&gt;\n                     47.82%\n                 &lt;/div&gt;`,\n                {&quot;sticky&quot;: true}\n            );\n        \n    \n            var marker_f136930374a07343050bf6fce28ffd28 = L.marker(\n                [43.206898, -71.537994],\n                {}\n            ).addTo(marker_cluster_0954f6ef3fbd631110bba5f1641149b5);\n        \n    \n            marker_f136930374a07343050bf6fce28ffd28.bindTooltip(\n                `&lt;div&gt;\n                     61.45%\n                 &lt;/div&gt;`,\n                {&quot;sticky&quot;: true}\n            );\n        \n    \n            var marker_00d4ccd7281710290885c3c8970376ea = L.marker(\n                [40.220596, -74.769913],\n                {}\n            ).addTo(marker_cluster_0954f6ef3fbd631110bba5f1641149b5);\n        \n    \n            marker_00d4ccd7281710290885c3c8970376ea.bindTooltip(\n                `&lt;div&gt;\n                     nan%\n                 &lt;/div&gt;`,\n                {&quot;sticky&quot;: true}\n            );\n        \n    \n            var marker_579c60bfe659d296e33c1358191f74fd = L.marker(\n                [35.68224, -105.939728],\n                {}\n            ).addTo(marker_cluster_0954f6ef3fbd631110bba5f1641149b5);\n        \n    \n            marker_579c60bfe659d296e33c1358191f74fd.bindTooltip(\n                `&lt;div&gt;\n                     60.05%\n                 &lt;/div&gt;`,\n                {&quot;sticky&quot;: true}\n            );\n        \n    \n            var marker_c3fb2235636e26df42767ff99a741d4a = L.marker(\n                [35.78043, -78.639099],\n                {}\n            ).addTo(marker_cluster_0954f6ef3fbd631110bba5f1641149b5);\n        \n    \n            marker_c3fb2235636e26df42767ff99a741d4a.bindTooltip(\n                `&lt;div&gt;\n                     44.42%\n                 &lt;/div&gt;`,\n                {&quot;sticky&quot;: true}\n            );\n        \n    \n            var marker_961bc952c1921cc027753c225ed6ad4f = L.marker(\n                [46.82085, -100.783318],\n                {}\n            ).addTo(marker_cluster_0954f6ef3fbd631110bba5f1641149b5);\n        \n    \n            marker_961bc952c1921cc027753c225ed6ad4f.bindTooltip(\n                `&lt;div&gt;\n                     43.2%\n                 &lt;/div&gt;`,\n                {&quot;sticky&quot;: true}\n            );\n        \n    \n            var marker_03fcc56d2304af07053dffb0086811c1 = L.marker(\n                [39.961346, -82.999069],\n                {}\n            ).addTo(marker_cluster_0954f6ef3fbd631110bba5f1641149b5);\n        \n    \n            marker_03fcc56d2304af07053dffb0086811c1.bindTooltip(\n                `&lt;div&gt;\n                     47.43%\n                 &lt;/div&gt;`,\n                {&quot;sticky&quot;: true}\n            );\n        \n    \n            var marker_7dfa240c1163024dec75d1976a3272ab = L.marker(\n                [35.492207, -97.503342],\n                {}\n            ).addTo(marker_cluster_0954f6ef3fbd631110bba5f1641149b5);\n        \n    \n            marker_7dfa240c1163024dec75d1976a3272ab.bindTooltip(\n                `&lt;div&gt;\n                     43.68%\n                 &lt;/div&gt;`,\n                {&quot;sticky&quot;: true}\n            );\n        \n    \n            var marker_3cfceb9244811e1d4231ffa230204610 = L.marker(\n                [44.938461, -123.030403],\n                {}\n            ).addTo(marker_cluster_0954f6ef3fbd631110bba5f1641149b5);\n        \n    \n            marker_3cfceb9244811e1d4231ffa230204610.bindTooltip(\n                `&lt;div&gt;\n                     57.37%\n                 &lt;/div&gt;`,\n                {&quot;sticky&quot;: true}\n            );\n        \n    \n            var marker_93143183db1b4d93d29979a6084dd119 = L.marker(\n                [40.264378, -76.883598],\n                {}\n            ).addTo(marker_cluster_0954f6ef3fbd631110bba5f1641149b5);\n        \n    \n            marker_93143183db1b4d93d29979a6084dd119.bindTooltip(\n                `&lt;div&gt;\n                     61.4%\n                 &lt;/div&gt;`,\n                {&quot;sticky&quot;: true}\n            );\n        \n    \n            var marker_020ff859f098e5a2fc5b20ead03adbfb = L.marker(\n                [41.830914, -71.414963],\n                {}\n            ).addTo(marker_cluster_0954f6ef3fbd631110bba5f1641149b5);\n        \n    \n            marker_020ff859f098e5a2fc5b20ead03adbfb.bindTooltip(\n                `&lt;div&gt;\n                     63.3%\n                 &lt;/div&gt;`,\n                {&quot;sticky&quot;: true}\n            );\n        \n    \n            var marker_31b9139f7426b15243ecba65ba8d59cc = L.marker(\n                [34.000343, -81.033211],\n                {}\n            ).addTo(marker_cluster_0954f6ef3fbd631110bba5f1641149b5);\n        \n    \n            marker_31b9139f7426b15243ecba65ba8d59cc.bindTooltip(\n                `&lt;div&gt;\n                     42.57%\n                 &lt;/div&gt;`,\n                {&quot;sticky&quot;: true}\n            );\n        \n    \n            var marker_37a2915bed17d0b3c8938828514a69b3 = L.marker(\n                [44.367031, -100.346405],\n                {}\n            ).addTo(marker_cluster_0954f6ef3fbd631110bba5f1641149b5);\n        \n    \n            marker_37a2915bed17d0b3c8938828514a69b3.bindTooltip(\n                `&lt;div&gt;\n                     49.65%\n                 &lt;/div&gt;`,\n                {&quot;sticky&quot;: true}\n            );\n        \n    \n            var marker_8904b198a37202d3b84d07358290920a = L.marker(\n                [36.16581, -86.784241],\n                {}\n            ).addTo(marker_cluster_0954f6ef3fbd631110bba5f1641149b5);\n        \n    \n            marker_8904b198a37202d3b84d07358290920a.bindTooltip(\n                `&lt;div&gt;\n                     40.62%\n                 &lt;/div&gt;`,\n                {&quot;sticky&quot;: true}\n            );\n        \n    \n            var marker_177b27ec76c324cfbabe822837550d98 = L.marker(\n                [30.27467, -97.740349],\n                {}\n            ).addTo(marker_cluster_0954f6ef3fbd631110bba5f1641149b5);\n        \n    \n            marker_177b27ec76c324cfbabe822837550d98.bindTooltip(\n                `&lt;div&gt;\n                     46.86%\n                 &lt;/div&gt;`,\n                {&quot;sticky&quot;: true}\n            );\n        \n    \n            var marker_e657b7676ef590ba497603376853dcc3 = L.marker(\n                [40.777477, -111.888237],\n                {}\n            ).addTo(marker_cluster_0954f6ef3fbd631110bba5f1641149b5);\n        \n    \n            marker_e657b7676ef590ba497603376853dcc3.bindTooltip(\n                `&lt;div&gt;\n                     47.34%\n                 &lt;/div&gt;`,\n                {&quot;sticky&quot;: true}\n            );\n        \n    \n            var marker_edc7d17a2bba52972377bc670a6a63fd = L.marker(\n                [44.262436, -72.580536],\n                {}\n            ).addTo(marker_cluster_0954f6ef3fbd631110bba5f1641149b5);\n        \n    \n            marker_edc7d17a2bba52972377bc670a6a63fd.bindTooltip(\n                `&lt;div&gt;\n                     72.7%\n                 &lt;/div&gt;`,\n                {&quot;sticky&quot;: true}\n            );\n        \n    \n            var marker_d110502b3f44c7d936bd9dec3213a34a = L.marker(\n                [37.538857, -77.43364],\n                {}\n            ).addTo(marker_cluster_0954f6ef3fbd631110bba5f1641149b5);\n        \n    \n            marker_d110502b3f44c7d936bd9dec3213a34a.bindTooltip(\n                `&lt;div&gt;\n                     57.66%\n                 &lt;/div&gt;`,\n                {&quot;sticky&quot;: true}\n            );\n        \n    \n            var marker_a6d33c83a08baba1f23893deafc33ad6 = L.marker(\n                [47.035805, -122.905014],\n                {}\n            ).addTo(marker_cluster_0954f6ef3fbd631110bba5f1641149b5);\n        \n    \n            marker_a6d33c83a08baba1f23893deafc33ad6.bindTooltip(\n                `&lt;div&gt;\n                     59.59%\n                 &lt;/div&gt;`,\n                {&quot;sticky&quot;: true}\n            );\n        \n    \n            var marker_8dc3cae1689e0766f2763c6963672131 = L.marker(\n                [38.336246, -81.612328],\n                {}\n            ).addTo(marker_cluster_0954f6ef3fbd631110bba5f1641149b5);\n        \n    \n            marker_8dc3cae1689e0766f2763c6963672131.bindTooltip(\n                `&lt;div&gt;\n                     42.28%\n                 &lt;/div&gt;`,\n                {&quot;sticky&quot;: true}\n            );\n        \n    \n            var marker_ce646cdd5a21c61dc1e1c755b48b638f = L.marker(\n                [43.074684, -89.384445],\n                {}\n            ).addTo(marker_cluster_0954f6ef3fbd631110bba5f1641149b5);\n        \n    \n            marker_ce646cdd5a21c61dc1e1c755b48b638f.bindTooltip(\n                `&lt;div&gt;\n                     52.65%\n                 &lt;/div&gt;`,\n                {&quot;sticky&quot;: true}\n            );\n        \n    \n            var marker_764f4daf80b45b6cd0736c9d16d9e78a = L.marker(\n                [41.140259, -104.820236],\n                {}\n            ).addTo(marker_cluster_0954f6ef3fbd631110bba5f1641149b5);\n        \n    \n            marker_764f4daf80b45b6cd0736c9d16d9e78a.bindTooltip(\n                `&lt;div&gt;\n                     38.35%\n                 &lt;/div&gt;`,\n                {&quot;sticky&quot;: true}\n            );\n        \n&lt;/script&gt;\" style=\"position:absolute;width:100%;height:100%;left:0;top:0;border:none !important;\" allowfullscreen webkitallowfullscreen mozallowfullscreen></iframe></div></div>"
     },
     "execution_count": 11,
     "metadata": {},
     "output_type": "execute_result"
    }
   ],
   "source": [
    "# Create the map\n",
    "v_map = folium.Map(location=[42.32,-71.0589], tiles='cartodbpositron', zoom_start=4)\n",
    "\n",
    "# Add points to the map\n",
    "mc = MarkerCluster()\n",
    "for idx, row in vaccinationAndPopulationByLocation.iterrows():\n",
    "    if not math.isnan(row['long']) and not math.isnan(row['lat']):\n",
    "        mc.add_child(Marker(location=[row['lat'], row['long']],\n",
    "                            tooltip=str(round(row['percent_vaccinated']*100, 2))+\"%\"))\n",
    "v_map.add_child(mc)\n",
    "\n",
    "# Display the map\n",
    "v_map"
   ],
   "metadata": {
    "collapsed": false,
    "pycharm": {
     "name": "#%%\n"
    }
   }
  },
  {
   "cell_type": "code",
   "execution_count": null,
   "outputs": [],
   "source": [],
   "metadata": {
    "collapsed": false,
    "pycharm": {
     "name": "#%%\n"
    }
   }
  },
  {
   "cell_type": "markdown",
   "source": [
    "# Your turn\n",
    "\n",
    "Here are some ideas for how you might improve on the work here:\n",
    "- In Kaggle's [Geospatial Analysis course](https://www.kaggle.com/learn/geospatial-analysis), you learn how to use folium to create many different types of interactive maps.  How might you use this data to instead create a choropleth map?\n",
    "- In case you would like to work with more data sources,\n",
    "  - The Centers for Disease Control and Prevention (CDC) in the US releases daily vaccine data and has a vaccination progress tracker on its [COVID Data Tracker site](https://covid.cdc.gov/covid-data-tracker/#vaccinations).\n",
    "  - NBC News has a [vaccine tracker](https://www.nbcnews.com/health/health-news/map-covid-19-vaccination-tracker-across-u-s-n1252085) as well which is quite well done."
   ],
   "metadata": {
    "collapsed": false,
    "pycharm": {
     "name": "#%% md\n"
    }
   }
  }
 ],
 "metadata": {
  "kernelspec": {
   "display_name": "Python 3",
   "language": "python",
   "name": "python3"
  },
  "language_info": {
   "codemirror_mode": {
    "name": "ipython",
    "version": 2
   },
   "file_extension": ".py",
   "mimetype": "text/x-python",
   "name": "python",
   "nbconvert_exporter": "python",
   "pygments_lexer": "ipython2",
   "version": "2.7.6"
  }
 },
 "nbformat": 4,
 "nbformat_minor": 0
}