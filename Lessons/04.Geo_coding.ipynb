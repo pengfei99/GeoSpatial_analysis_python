{
 "cells": [
  {
   "cell_type": "markdown",
   "metadata": {
    "collapsed": true,
    "pycharm": {
     "name": "#%% md\n"
    }
   },
   "source": [
    "# 4. Geocoding and join table with spatial data\n",
    "\n",
    "In this tutorial, you'll learn about two common manipulations for geospatial data:\n",
    "\n",
    "- **geocoding**: Find locations(e.g. longitude,latitude) with just the name of a place(e.g. String)\n",
    "- **table joins**: join data based on spatial relationships\n",
    "\n",
    "\n",
    "## 4.1 Geocoding\n",
    "\n",
    "**Geocoding is the process of converting the name of a place or an address to a location on a map**. If you have ever looked up a geographic location based on a landmark description with `Google Maps, Bing Maps, or Baidu Maps`, for instance, then you have used a geocoder!\n",
    "\n",
    "In this tutorial, We'll use `geopy` to do all of our geocoding."
   ]
  },
  {
   "cell_type": "code",
   "execution_count": 1,
   "outputs": [],
   "source": [
    "from geopy.geocoders import Nominatim\n",
    "import pandas as pd\n",
    "import geopandas as gpd\n",
    "import numpy as np\n",
    "import folium\n",
    "from folium import Marker\n",
    "import warnings\n",
    "warnings.filterwarnings('ignore')"
   ],
   "metadata": {
    "collapsed": false,
    "pycharm": {
     "name": "#%%\n"
    }
   }
  },
  {
   "cell_type": "markdown",
   "source": [
    " [Nominatim](https://nominatim.openstreetmap.org/) refers to the geocoding software that will be used to generate locations.\n",
    "\n",
    "We begin by instantiating the geocoder. Then, we need only apply the name or address as a Python string. (In this case, we supply \"Pyramid of Khufu\", also known as the Great Pyramid of Giza.)\n",
    "\n",
    "If the geocoding is successful, it returns a `geopy.location.Location` object with two important attributes:\n",
    "\n",
    "- the `point` attribute contains the (latitude, longitude) location, and\n",
    "- the `address` attribute contains the full address."
   ],
   "metadata": {
    "collapsed": false,
    "pycharm": {
     "name": "#%% md\n"
    }
   }
  },
  {
   "cell_type": "code",
   "execution_count": 2,
   "outputs": [
    {
     "name": "stdout",
     "output_type": "stream",
     "text": [
      "29 58m 44.976s N, 31 8m 3.17625s E\n",
      "هرم خوفو, شارع ابو الهول السياحي, نزلة البطران, الجيزة, 12556, مصر\n"
     ]
    }
   ],
   "source": [
    "geolocator = Nominatim(user_agent=\"kaggle_learn\")\n",
    "location = geolocator.geocode(\"Pyramid of Khufu\")\n",
    "\n",
    "print(location.point)\n",
    "print(location.address)"
   ],
   "metadata": {
    "collapsed": false,
    "pycharm": {
     "name": "#%%\n"
    }
   }
  },
  {
   "cell_type": "markdown",
   "source": [
    "The value for the `point` attribute is a `geopy.point.Point` object, and we can get the latitude and longitude from the `latitude and longitude` attributes, respectively."
   ],
   "metadata": {
    "collapsed": false,
    "pycharm": {
     "name": "#%% md\n"
    }
   }
  },
  {
   "cell_type": "code",
   "execution_count": 3,
   "outputs": [
    {
     "name": "stdout",
     "output_type": "stream",
     "text": [
      "Latitude: 29.97916\n",
      "Longitude: 31.134215625236113\n"
     ]
    }
   ],
   "source": [
    "point = location.point\n",
    "print(\"Latitude:\", point.latitude)\n",
    "print(\"Longitude:\", point.longitude)"
   ],
   "metadata": {
    "collapsed": false,
    "pycharm": {
     "name": "#%%\n"
    }
   }
  },
  {
   "cell_type": "markdown",
   "source": [
    "It's often the case that we'll need to geocode many addresses. For instance, say we want to obtain the locations of 100 top universities in Europe."
   ],
   "metadata": {
    "collapsed": false,
    "pycharm": {
     "name": "#%% md\n"
    }
   }
  },
  {
   "cell_type": "code",
   "execution_count": 4,
   "outputs": [],
   "source": [
    "root_dir=\"/home/pliu/data_set/kaggle/geospatial/L04\"\n",
    "universities_path=f\"{root_dir}/top_universities.csv\""
   ],
   "metadata": {
    "collapsed": false,
    "pycharm": {
     "name": "#%%\n"
    }
   }
  },
  {
   "cell_type": "code",
   "execution_count": 5,
   "outputs": [],
   "source": [
    "universities = pd.read_csv(universities_path)\n",
    "universities=universities.head()"
   ],
   "metadata": {
    "collapsed": false,
    "pycharm": {
     "name": "#%%\n"
    }
   }
  },
  {
   "cell_type": "markdown",
   "source": [
    "Then we can use a lambda function to apply the geocoder to every row in the DataFrame. (We use a try/except statement to account for the case that the geocoding is unsuccessful.)"
   ],
   "metadata": {
    "collapsed": false,
    "pycharm": {
     "name": "#%% md\n"
    }
   }
  },
  {
   "cell_type": "code",
   "execution_count": 6,
   "outputs": [
    {
     "name": "stdout",
     "output_type": "stream",
     "text": [
      "100.0% of addresses were geocoded!\n"
     ]
    },
    {
     "data": {
      "text/plain": "                      Name   Latitude  Longitude                   geometry\n0     University of Oxford  51.752546  -1.214330  POINT (-1.21433 51.75255)\n1  University of Cambridge  52.200623   0.110474   POINT (0.11047 52.20062)\n2  Imperial College London  51.498959  -0.175641  POINT (-0.17564 51.49896)\n3               ETH Zurich  47.408327   8.507564   POINT (8.50756 47.40833)\n4                      UCL  51.521764  -0.135120  POINT (-0.13512 51.52176)",
      "text/html": "<div>\n<style scoped>\n    .dataframe tbody tr th:only-of-type {\n        vertical-align: middle;\n    }\n\n    .dataframe tbody tr th {\n        vertical-align: top;\n    }\n\n    .dataframe thead th {\n        text-align: right;\n    }\n</style>\n<table border=\"1\" class=\"dataframe\">\n  <thead>\n    <tr style=\"text-align: right;\">\n      <th></th>\n      <th>Name</th>\n      <th>Latitude</th>\n      <th>Longitude</th>\n      <th>geometry</th>\n    </tr>\n  </thead>\n  <tbody>\n    <tr>\n      <th>0</th>\n      <td>University of Oxford</td>\n      <td>51.752546</td>\n      <td>-1.214330</td>\n      <td>POINT (-1.21433 51.75255)</td>\n    </tr>\n    <tr>\n      <th>1</th>\n      <td>University of Cambridge</td>\n      <td>52.200623</td>\n      <td>0.110474</td>\n      <td>POINT (0.11047 52.20062)</td>\n    </tr>\n    <tr>\n      <th>2</th>\n      <td>Imperial College London</td>\n      <td>51.498959</td>\n      <td>-0.175641</td>\n      <td>POINT (-0.17564 51.49896)</td>\n    </tr>\n    <tr>\n      <th>3</th>\n      <td>ETH Zurich</td>\n      <td>47.408327</td>\n      <td>8.507564</td>\n      <td>POINT (8.50756 47.40833)</td>\n    </tr>\n    <tr>\n      <th>4</th>\n      <td>UCL</td>\n      <td>51.521764</td>\n      <td>-0.135120</td>\n      <td>POINT (-0.13512 51.52176)</td>\n    </tr>\n  </tbody>\n</table>\n</div>"
     },
     "execution_count": 6,
     "metadata": {},
     "output_type": "execute_result"
    }
   ],
   "source": [
    "def my_geocoder(row):\n",
    "    try:\n",
    "        point = geolocator.geocode(row).point\n",
    "        return pd.Series({'Latitude': point.latitude, 'Longitude': point.longitude})\n",
    "    except:\n",
    "        return None\n",
    "\n",
    "universities[['Latitude', 'Longitude']] = universities.apply(lambda x: my_geocoder(x['Name']), axis=1)\n",
    "\n",
    "print(\"{}% of addresses were geocoded!\".format(\n",
    "    (1 - sum(np.isnan(universities[\"Latitude\"])) / len(universities)) * 100))\n",
    "\n",
    "# Drop universities that were not successfully geocoded\n",
    "universities = universities.loc[~np.isnan(universities[\"Latitude\"])]\n",
    "universities = gpd.GeoDataFrame(\n",
    "    universities, geometry=gpd.points_from_xy(universities.Longitude, universities.Latitude))\n",
    "universities.crs = {'init': 'epsg:4326'}\n",
    "universities.head()"
   ],
   "metadata": {
    "collapsed": false,
    "pycharm": {
     "name": "#%%\n"
    }
   }
  },
  {
   "cell_type": "markdown",
   "source": [
    "Next, we visualize all of the locations that were returned by the geocoder. Notice that a few of the locations are certainly inaccurate, as they're not in Europe!"
   ],
   "metadata": {
    "collapsed": false,
    "pycharm": {
     "name": "#%% md\n"
    }
   }
  },
  {
   "cell_type": "code",
   "execution_count": 12,
   "outputs": [
    {
     "data": {
      "text/plain": "<folium.folium.Map at 0x7fe373b4cd60>",
      "text/html": "<div style=\"width:100%;\"><div style=\"position:relative;width:100%;height:0;padding-bottom:60%;\"><span style=\"color:#565656\">Make this Notebook Trusted to load map: File -> Trust Notebook</span><iframe srcdoc=\"&lt;!DOCTYPE html&gt;\n&lt;head&gt;    \n    &lt;meta http-equiv=&quot;content-type&quot; content=&quot;text/html; charset=UTF-8&quot; /&gt;\n    \n        &lt;script&gt;\n            L_NO_TOUCH = false;\n            L_DISABLE_3D = false;\n        &lt;/script&gt;\n    \n    &lt;style&gt;html, body {width: 100%;height: 100%;margin: 0;padding: 0;}&lt;/style&gt;\n    &lt;style&gt;#map {position:absolute;top:0;bottom:0;right:0;left:0;}&lt;/style&gt;\n    &lt;script src=&quot;https://cdn.jsdelivr.net/npm/leaflet@1.6.0/dist/leaflet.js&quot;&gt;&lt;/script&gt;\n    &lt;script src=&quot;https://code.jquery.com/jquery-1.12.4.min.js&quot;&gt;&lt;/script&gt;\n    &lt;script src=&quot;https://maxcdn.bootstrapcdn.com/bootstrap/3.2.0/js/bootstrap.min.js&quot;&gt;&lt;/script&gt;\n    &lt;script src=&quot;https://cdnjs.cloudflare.com/ajax/libs/Leaflet.awesome-markers/2.0.2/leaflet.awesome-markers.js&quot;&gt;&lt;/script&gt;\n    &lt;link rel=&quot;stylesheet&quot; href=&quot;https://cdn.jsdelivr.net/npm/leaflet@1.6.0/dist/leaflet.css&quot;/&gt;\n    &lt;link rel=&quot;stylesheet&quot; href=&quot;https://maxcdn.bootstrapcdn.com/bootstrap/3.2.0/css/bootstrap.min.css&quot;/&gt;\n    &lt;link rel=&quot;stylesheet&quot; href=&quot;https://maxcdn.bootstrapcdn.com/bootstrap/3.2.0/css/bootstrap-theme.min.css&quot;/&gt;\n    &lt;link rel=&quot;stylesheet&quot; href=&quot;https://maxcdn.bootstrapcdn.com/font-awesome/4.6.3/css/font-awesome.min.css&quot;/&gt;\n    &lt;link rel=&quot;stylesheet&quot; href=&quot;https://cdnjs.cloudflare.com/ajax/libs/Leaflet.awesome-markers/2.0.2/leaflet.awesome-markers.css&quot;/&gt;\n    &lt;link rel=&quot;stylesheet&quot; href=&quot;https://cdn.jsdelivr.net/gh/python-visualization/folium/folium/templates/leaflet.awesome.rotate.min.css&quot;/&gt;\n    \n            &lt;meta name=&quot;viewport&quot; content=&quot;width=device-width,\n                initial-scale=1.0, maximum-scale=1.0, user-scalable=no&quot; /&gt;\n            &lt;style&gt;\n                #map_999a7bc1c7afc23314986f8f5e414631 {\n                    position: relative;\n                    width: 100.0%;\n                    height: 100.0%;\n                    left: 0.0%;\n                    top: 0.0%;\n                }\n            &lt;/style&gt;\n        \n&lt;/head&gt;\n&lt;body&gt;    \n    \n            &lt;div class=&quot;folium-map&quot; id=&quot;map_999a7bc1c7afc23314986f8f5e414631&quot; &gt;&lt;/div&gt;\n        \n&lt;/body&gt;\n&lt;script&gt;    \n    \n            var map_999a7bc1c7afc23314986f8f5e414631 = L.map(\n                &quot;map_999a7bc1c7afc23314986f8f5e414631&quot;,\n                {\n                    center: [54.0, 15.0],\n                    crs: L.CRS.EPSG3857,\n                    zoom: 3,\n                    zoomControl: true,\n                    preferCanvas: false,\n                }\n            );\n\n            \n\n        \n    \n            var tile_layer_4a1307134edc8a8b96210d9d90b997bb = L.tileLayer(\n                &quot;https://{s}.tile.openstreetmap.org/{z}/{x}/{y}.png&quot;,\n                {&quot;attribution&quot;: &quot;Data by \\u0026copy; \\u003ca href=\\&quot;http://openstreetmap.org\\&quot;\\u003eOpenStreetMap\\u003c/a\\u003e, under \\u003ca href=\\&quot;http://www.openstreetmap.org/copyright\\&quot;\\u003eODbL\\u003c/a\\u003e.&quot;, &quot;detectRetina&quot;: false, &quot;maxNativeZoom&quot;: 18, &quot;maxZoom&quot;: 18, &quot;minZoom&quot;: 0, &quot;noWrap&quot;: false, &quot;opacity&quot;: 1, &quot;subdomains&quot;: &quot;abc&quot;, &quot;tms&quot;: false}\n            ).addTo(map_999a7bc1c7afc23314986f8f5e414631);\n        \n    \n            var marker_5b581172c6b5d872cd5218fe8902bec5 = L.marker(\n                [51.75254605, -1.2143299631547007],\n                {}\n            ).addTo(map_999a7bc1c7afc23314986f8f5e414631);\n        \n    \n        var popup_c18b35547d952b682f83c970e89c9928 = L.popup({&quot;maxWidth&quot;: &quot;100%&quot;});\n\n        \n            \n                var html_40c140e2f76363304861f74426eeb4f5 = $(`&lt;div id=&quot;html_40c140e2f76363304861f74426eeb4f5&quot; style=&quot;width: 100.0%; height: 100.0%;&quot;&gt;University of Oxford&lt;/div&gt;`)[0];\n                popup_c18b35547d952b682f83c970e89c9928.setContent(html_40c140e2f76363304861f74426eeb4f5);\n            \n        \n\n        marker_5b581172c6b5d872cd5218fe8902bec5.bindPopup(popup_c18b35547d952b682f83c970e89c9928)\n        ;\n\n        \n    \n    \n            var marker_13a00a22f7593f394901cad4d6da1a74 = L.marker(\n                [52.2006233, 0.1104744],\n                {}\n            ).addTo(map_999a7bc1c7afc23314986f8f5e414631);\n        \n    \n        var popup_859c7c2ebfb84314fe9df0d943f1be43 = L.popup({&quot;maxWidth&quot;: &quot;100%&quot;});\n\n        \n            \n                var html_c89bf8ce9b88d805dc0d7856bac2f486 = $(`&lt;div id=&quot;html_c89bf8ce9b88d805dc0d7856bac2f486&quot; style=&quot;width: 100.0%; height: 100.0%;&quot;&gt;University of Cambridge&lt;/div&gt;`)[0];\n                popup_859c7c2ebfb84314fe9df0d943f1be43.setContent(html_c89bf8ce9b88d805dc0d7856bac2f486);\n            \n        \n\n        marker_13a00a22f7593f394901cad4d6da1a74.bindPopup(popup_859c7c2ebfb84314fe9df0d943f1be43)\n        ;\n\n        \n    \n    \n            var marker_56949a902800301d2a197070a2d27568 = L.marker(\n                [51.4989595, -0.17564125978794498],\n                {}\n            ).addTo(map_999a7bc1c7afc23314986f8f5e414631);\n        \n    \n        var popup_ce047045a7eb6914474b01890020934a = L.popup({&quot;maxWidth&quot;: &quot;100%&quot;});\n\n        \n            \n                var html_7685a50f3e1a44adfcbd9ee14cb34b0f = $(`&lt;div id=&quot;html_7685a50f3e1a44adfcbd9ee14cb34b0f&quot; style=&quot;width: 100.0%; height: 100.0%;&quot;&gt;Imperial College London&lt;/div&gt;`)[0];\n                popup_ce047045a7eb6914474b01890020934a.setContent(html_7685a50f3e1a44adfcbd9ee14cb34b0f);\n            \n        \n\n        marker_56949a902800301d2a197070a2d27568.bindPopup(popup_ce047045a7eb6914474b01890020934a)\n        ;\n\n        \n    \n    \n            var marker_ea2298e580ea0edd570a480be0f58f94 = L.marker(\n                [47.40832745, 8.507563966360525],\n                {}\n            ).addTo(map_999a7bc1c7afc23314986f8f5e414631);\n        \n    \n        var popup_73fefe0be7c43ff81d65ed470b542b4b = L.popup({&quot;maxWidth&quot;: &quot;100%&quot;});\n\n        \n            \n                var html_05c4527c692ddde74b63ac281fac6f27 = $(`&lt;div id=&quot;html_05c4527c692ddde74b63ac281fac6f27&quot; style=&quot;width: 100.0%; height: 100.0%;&quot;&gt;ETH Zurich&lt;/div&gt;`)[0];\n                popup_73fefe0be7c43ff81d65ed470b542b4b.setContent(html_05c4527c692ddde74b63ac281fac6f27);\n            \n        \n\n        marker_ea2298e580ea0edd570a480be0f58f94.bindPopup(popup_73fefe0be7c43ff81d65ed470b542b4b)\n        ;\n\n        \n    \n    \n            var marker_9cdda6eaa5a2800088c948e29e0232b2 = L.marker(\n                [51.5217642, -0.1351197016257462],\n                {}\n            ).addTo(map_999a7bc1c7afc23314986f8f5e414631);\n        \n    \n        var popup_391c78faea8c31ffc37c42a91021b1a3 = L.popup({&quot;maxWidth&quot;: &quot;100%&quot;});\n\n        \n            \n                var html_d8e3d17a6aa263141883218f0ee82c86 = $(`&lt;div id=&quot;html_d8e3d17a6aa263141883218f0ee82c86&quot; style=&quot;width: 100.0%; height: 100.0%;&quot;&gt;UCL&lt;/div&gt;`)[0];\n                popup_391c78faea8c31ffc37c42a91021b1a3.setContent(html_d8e3d17a6aa263141883218f0ee82c86);\n            \n        \n\n        marker_9cdda6eaa5a2800088c948e29e0232b2.bindPopup(popup_391c78faea8c31ffc37c42a91021b1a3)\n        ;\n\n        \n    \n&lt;/script&gt;\" style=\"position:absolute;width:100%;height:100%;left:0;top:0;border:none !important;\" allowfullscreen webkitallowfullscreen mozallowfullscreen></iframe></div></div>"
     },
     "execution_count": 12,
     "metadata": {},
     "output_type": "execute_result"
    }
   ],
   "source": [
    "# Create a map\n",
    "universities_map = folium.Map(location=[54, 15], tiles='openstreetmap', zoom_start=3)\n",
    "\n",
    "# Add points to the map\n",
    "for idx, row in universities.iterrows():\n",
    "    Marker([row['Latitude'], row['Longitude']], popup=row['Name']).add_to(universities_map)\n",
    "\n",
    "# Display the map\n",
    "universities_map"
   ],
   "metadata": {
    "collapsed": false,
    "pycharm": {
     "name": "#%%\n"
    }
   }
  },
  {
   "cell_type": "markdown",
   "source": [
    "## 4.2 Table joins\n",
    "\n",
    "### 4.2.1 Attribute join\n",
    "\n",
    "You already know how to use `pd.DataFrame.join()` to combine information from multiple DataFrames with a shared index. We refer to this way of joining data (by simpling matching values in the index) as an `attribute join`.\n",
    "\n",
    "When performing an attribute join with a GeoDataFrame, it's best to use the `gpd.GeoDataFrame.merge()`. To illustrate this, we'll work with a `GeoDataFrame` europe_boundaries containing the boundaries for every country in Europe. The first five rows of this GeoDataFrame are printed below.\n"
   ],
   "metadata": {
    "collapsed": false,
    "pycharm": {
     "name": "#%% md\n"
    }
   }
  },
  {
   "cell_type": "code",
   "execution_count": 7,
   "outputs": [],
   "source": [
    "world = gpd.read_file(gpd.datasets.get_path('naturalearth_lowres'))\n",
    "europe = world.loc[world.continent == 'Europe'].reset_index(drop=True)\n",
    "\n",
    "europe_stats = europe[[\"name\", \"pop_est\", \"gdp_md_est\"]]\n",
    "europe_boundaries = europe[[\"name\", \"geometry\"]]"
   ],
   "metadata": {
    "collapsed": false,
    "pycharm": {
     "name": "#%%\n"
    }
   }
  },
  {
   "cell_type": "code",
   "execution_count": 8,
   "outputs": [
    {
     "data": {
      "text/plain": "      name                                           geometry\n0   Russia  MULTIPOLYGON (((178.72530 71.09880, 180.00000 ...\n1   Norway  MULTIPOLYGON (((15.14282 79.67431, 15.52255 80...\n2   France  MULTIPOLYGON (((-51.65780 4.15623, -52.24934 3...\n3   Sweden  POLYGON ((11.02737 58.85615, 11.46827 59.43239...\n4  Belarus  POLYGON ((28.17671 56.16913, 29.22951 55.91834...",
      "text/html": "<div>\n<style scoped>\n    .dataframe tbody tr th:only-of-type {\n        vertical-align: middle;\n    }\n\n    .dataframe tbody tr th {\n        vertical-align: top;\n    }\n\n    .dataframe thead th {\n        text-align: right;\n    }\n</style>\n<table border=\"1\" class=\"dataframe\">\n  <thead>\n    <tr style=\"text-align: right;\">\n      <th></th>\n      <th>name</th>\n      <th>geometry</th>\n    </tr>\n  </thead>\n  <tbody>\n    <tr>\n      <th>0</th>\n      <td>Russia</td>\n      <td>MULTIPOLYGON (((178.72530 71.09880, 180.00000 ...</td>\n    </tr>\n    <tr>\n      <th>1</th>\n      <td>Norway</td>\n      <td>MULTIPOLYGON (((15.14282 79.67431, 15.52255 80...</td>\n    </tr>\n    <tr>\n      <th>2</th>\n      <td>France</td>\n      <td>MULTIPOLYGON (((-51.65780 4.15623, -52.24934 3...</td>\n    </tr>\n    <tr>\n      <th>3</th>\n      <td>Sweden</td>\n      <td>POLYGON ((11.02737 58.85615, 11.46827 59.43239...</td>\n    </tr>\n    <tr>\n      <th>4</th>\n      <td>Belarus</td>\n      <td>POLYGON ((28.17671 56.16913, 29.22951 55.91834...</td>\n    </tr>\n  </tbody>\n</table>\n</div>"
     },
     "execution_count": 8,
     "metadata": {},
     "output_type": "execute_result"
    }
   ],
   "source": [
    "europe_boundaries.head()"
   ],
   "metadata": {
    "collapsed": false,
    "pycharm": {
     "name": "#%%\n"
    }
   }
  },
  {
   "cell_type": "markdown",
   "source": [
    "We'll join it with a DataFrame europe_stats containing the estimated population and gross domestic product (GDP) for each country."
   ],
   "metadata": {
    "collapsed": false,
    "pycharm": {
     "name": "#%% md\n"
    }
   }
  },
  {
   "cell_type": "code",
   "execution_count": 9,
   "outputs": [
    {
     "data": {
      "text/plain": "      name      pop_est  gdp_md_est\n0   Russia  144373535.0     1699876\n1   Norway    5347896.0      403336\n2   France   67059887.0     2715518\n3   Sweden   10285453.0      530883\n4  Belarus    9466856.0       63080",
      "text/html": "<div>\n<style scoped>\n    .dataframe tbody tr th:only-of-type {\n        vertical-align: middle;\n    }\n\n    .dataframe tbody tr th {\n        vertical-align: top;\n    }\n\n    .dataframe thead th {\n        text-align: right;\n    }\n</style>\n<table border=\"1\" class=\"dataframe\">\n  <thead>\n    <tr style=\"text-align: right;\">\n      <th></th>\n      <th>name</th>\n      <th>pop_est</th>\n      <th>gdp_md_est</th>\n    </tr>\n  </thead>\n  <tbody>\n    <tr>\n      <th>0</th>\n      <td>Russia</td>\n      <td>144373535.0</td>\n      <td>1699876</td>\n    </tr>\n    <tr>\n      <th>1</th>\n      <td>Norway</td>\n      <td>5347896.0</td>\n      <td>403336</td>\n    </tr>\n    <tr>\n      <th>2</th>\n      <td>France</td>\n      <td>67059887.0</td>\n      <td>2715518</td>\n    </tr>\n    <tr>\n      <th>3</th>\n      <td>Sweden</td>\n      <td>10285453.0</td>\n      <td>530883</td>\n    </tr>\n    <tr>\n      <th>4</th>\n      <td>Belarus</td>\n      <td>9466856.0</td>\n      <td>63080</td>\n    </tr>\n  </tbody>\n</table>\n</div>"
     },
     "execution_count": 9,
     "metadata": {},
     "output_type": "execute_result"
    }
   ],
   "source": [
    "europe_stats.head()"
   ],
   "metadata": {
    "collapsed": false,
    "pycharm": {
     "name": "#%%\n"
    }
   }
  },
  {
   "cell_type": "markdown",
   "source": [
    "We do the attribute join in the code cell below. The **on** argument is set to the column name that is used to match rows in `europe_boundaries` to rows in `europe_stats`."
   ],
   "metadata": {
    "collapsed": false,
    "pycharm": {
     "name": "#%% md\n"
    }
   }
  },
  {
   "cell_type": "code",
   "execution_count": 10,
   "outputs": [
    {
     "data": {
      "text/plain": "      name                                           geometry      pop_est  \\\n0   Russia  MULTIPOLYGON (((178.72530 71.09880, 180.00000 ...  144373535.0   \n1   Norway  MULTIPOLYGON (((15.14282 79.67431, 15.52255 80...    5347896.0   \n2   France  MULTIPOLYGON (((-51.65780 4.15623, -52.24934 3...   67059887.0   \n3   Sweden  POLYGON ((11.02737 58.85615, 11.46827 59.43239...   10285453.0   \n4  Belarus  POLYGON ((28.17671 56.16913, 29.22951 55.91834...    9466856.0   \n\n   gdp_md_est  \n0     1699876  \n1      403336  \n2     2715518  \n3      530883  \n4       63080  ",
      "text/html": "<div>\n<style scoped>\n    .dataframe tbody tr th:only-of-type {\n        vertical-align: middle;\n    }\n\n    .dataframe tbody tr th {\n        vertical-align: top;\n    }\n\n    .dataframe thead th {\n        text-align: right;\n    }\n</style>\n<table border=\"1\" class=\"dataframe\">\n  <thead>\n    <tr style=\"text-align: right;\">\n      <th></th>\n      <th>name</th>\n      <th>geometry</th>\n      <th>pop_est</th>\n      <th>gdp_md_est</th>\n    </tr>\n  </thead>\n  <tbody>\n    <tr>\n      <th>0</th>\n      <td>Russia</td>\n      <td>MULTIPOLYGON (((178.72530 71.09880, 180.00000 ...</td>\n      <td>144373535.0</td>\n      <td>1699876</td>\n    </tr>\n    <tr>\n      <th>1</th>\n      <td>Norway</td>\n      <td>MULTIPOLYGON (((15.14282 79.67431, 15.52255 80...</td>\n      <td>5347896.0</td>\n      <td>403336</td>\n    </tr>\n    <tr>\n      <th>2</th>\n      <td>France</td>\n      <td>MULTIPOLYGON (((-51.65780 4.15623, -52.24934 3...</td>\n      <td>67059887.0</td>\n      <td>2715518</td>\n    </tr>\n    <tr>\n      <th>3</th>\n      <td>Sweden</td>\n      <td>POLYGON ((11.02737 58.85615, 11.46827 59.43239...</td>\n      <td>10285453.0</td>\n      <td>530883</td>\n    </tr>\n    <tr>\n      <th>4</th>\n      <td>Belarus</td>\n      <td>POLYGON ((28.17671 56.16913, 29.22951 55.91834...</td>\n      <td>9466856.0</td>\n      <td>63080</td>\n    </tr>\n  </tbody>\n</table>\n</div>"
     },
     "execution_count": 10,
     "metadata": {},
     "output_type": "execute_result"
    }
   ],
   "source": [
    "# Use an attribute join to merge data about countries in Europe\n",
    "europe = europe_boundaries.merge(europe_stats, on=\"name\")\n",
    "europe.head()"
   ],
   "metadata": {
    "collapsed": false,
    "pycharm": {
     "name": "#%%\n"
    }
   }
  },
  {
   "cell_type": "markdown",
   "source": [
    "## 4.2.2 Spatial join\n",
    "Another type of join is a **spatial join**. With a spatial join, we combine GeoDataFrames based on the `spatial relationship` between the objects in the \"geometry\" columns. For instance, we already have a GeoDataFrame universities containing geocoded addresses of European universities.\n",
    "\n",
    "Then we can use a spatial join to match each university to its corresponding country. We do this with `gpd.sjoin()`.\n",
    "\n",
    "> Note the sjoin() method requires a python dependency rtree. Use below instruction to install it\n",
    "\n",
    "```shell\n",
    "sudo apt install libspatialindex-dev\n",
    "poetry add rtree\n",
    "```"
   ],
   "metadata": {
    "collapsed": false,
    "pycharm": {
     "name": "#%% md\n"
    }
   }
  },
  {
   "cell_type": "code",
   "execution_count": 11,
   "outputs": [
    {
     "name": "stdout",
     "output_type": "stream",
     "text": [
      "We located 5 universities.\n",
      "Only 5 of the universities were located in Europe (in 2 different countries).\n"
     ]
    },
    {
     "data": {
      "text/plain": "                      Name   Latitude  Longitude                   geometry  \\\n0     University of Oxford  51.752546  -1.214330  POINT (-1.21433 51.75255)   \n1  University of Cambridge  52.200623   0.110474   POINT (0.11047 52.20062)   \n2  Imperial College London  51.498959  -0.175641  POINT (-0.17564 51.49896)   \n4                      UCL  51.521764  -0.135120  POINT (-0.13512 51.52176)   \n3               ETH Zurich  47.408327   8.507564   POINT (8.50756 47.40833)   \n\n   index_right            name     pop_est  gdp_md_est  \n0           28  United Kingdom  66834405.0     2829108  \n1           28  United Kingdom  66834405.0     2829108  \n2           28  United Kingdom  66834405.0     2829108  \n4           28  United Kingdom  66834405.0     2829108  \n3           19     Switzerland   8574832.0      703082  ",
      "text/html": "<div>\n<style scoped>\n    .dataframe tbody tr th:only-of-type {\n        vertical-align: middle;\n    }\n\n    .dataframe tbody tr th {\n        vertical-align: top;\n    }\n\n    .dataframe thead th {\n        text-align: right;\n    }\n</style>\n<table border=\"1\" class=\"dataframe\">\n  <thead>\n    <tr style=\"text-align: right;\">\n      <th></th>\n      <th>Name</th>\n      <th>Latitude</th>\n      <th>Longitude</th>\n      <th>geometry</th>\n      <th>index_right</th>\n      <th>name</th>\n      <th>pop_est</th>\n      <th>gdp_md_est</th>\n    </tr>\n  </thead>\n  <tbody>\n    <tr>\n      <th>0</th>\n      <td>University of Oxford</td>\n      <td>51.752546</td>\n      <td>-1.214330</td>\n      <td>POINT (-1.21433 51.75255)</td>\n      <td>28</td>\n      <td>United Kingdom</td>\n      <td>66834405.0</td>\n      <td>2829108</td>\n    </tr>\n    <tr>\n      <th>1</th>\n      <td>University of Cambridge</td>\n      <td>52.200623</td>\n      <td>0.110474</td>\n      <td>POINT (0.11047 52.20062)</td>\n      <td>28</td>\n      <td>United Kingdom</td>\n      <td>66834405.0</td>\n      <td>2829108</td>\n    </tr>\n    <tr>\n      <th>2</th>\n      <td>Imperial College London</td>\n      <td>51.498959</td>\n      <td>-0.175641</td>\n      <td>POINT (-0.17564 51.49896)</td>\n      <td>28</td>\n      <td>United Kingdom</td>\n      <td>66834405.0</td>\n      <td>2829108</td>\n    </tr>\n    <tr>\n      <th>4</th>\n      <td>UCL</td>\n      <td>51.521764</td>\n      <td>-0.135120</td>\n      <td>POINT (-0.13512 51.52176)</td>\n      <td>28</td>\n      <td>United Kingdom</td>\n      <td>66834405.0</td>\n      <td>2829108</td>\n    </tr>\n    <tr>\n      <th>3</th>\n      <td>ETH Zurich</td>\n      <td>47.408327</td>\n      <td>8.507564</td>\n      <td>POINT (8.50756 47.40833)</td>\n      <td>19</td>\n      <td>Switzerland</td>\n      <td>8574832.0</td>\n      <td>703082</td>\n    </tr>\n  </tbody>\n</table>\n</div>"
     },
     "execution_count": 11,
     "metadata": {},
     "output_type": "execute_result"
    }
   ],
   "source": [
    "# Use spatial join to match universities to countries in Europe\n",
    "european_universities = gpd.sjoin(universities, europe)\n",
    "\n",
    "# Investigate the result\n",
    "print(\"We located {} universities.\".format(len(universities)))\n",
    "print(\"Only {} of the universities were located in Europe (in {} different countries).\".format(\n",
    "    len(european_universities), len(european_universities.name.unique())))\n",
    "\n",
    "european_universities.head()"
   ],
   "metadata": {
    "collapsed": false,
    "pycharm": {
     "name": "#%%\n"
    }
   }
  },
  {
   "cell_type": "markdown",
   "source": [
    "The spatial join above looks at the `geometry` columns in both `GeoDataFrames`. If a `Point object` from the `universities` GeoDataFrame intersects a `Polygon object` from the `europe` DataFrame, the corresponding rows are combined and added as a single row of the `european_universities` DataFrame. Otherwise, countries without a matching university (and universities without a matching country) are omitted from the results.\n",
    "\n",
    "The **gpd.sjoin()** method is customizable for different types of joins, through the how and `op` arguments. For instance, you can do the equivalent of a SQL `left (or right)` join by setting `how='left'` (or how='right'). We won't go into the details in this course, but you can learn more in the [documentation](https://geopandas.org/en/stable/docs/reference/api/geopandas.sjoin.html)."
   ],
   "metadata": {
    "collapsed": false,
    "pycharm": {
     "name": "#%% md\n"
    }
   }
  }
 ],
 "metadata": {
  "kernelspec": {
   "display_name": "Python 3",
   "language": "python",
   "name": "python3"
  },
  "language_info": {
   "codemirror_mode": {
    "name": "ipython",
    "version": 2
   },
   "file_extension": ".py",
   "mimetype": "text/x-python",
   "name": "python",
   "nbconvert_exporter": "python",
   "pygments_lexer": "ipython2",
   "version": "2.7.6"
  }
 },
 "nbformat": 4,
 "nbformat_minor": 0
}